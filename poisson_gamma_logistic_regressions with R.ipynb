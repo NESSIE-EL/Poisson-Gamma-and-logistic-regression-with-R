{
 "cells": [
  {
   "cell_type": "markdown",
   "id": "744e1415-83ae-45a2-86a7-6d886308a9a1",
   "metadata": {},
   "source": [
    "### 1-Preparation of the data and definitions\n",
    "\n",
    "This notebook we will import, analyse and prepare the data in order to be able to go to the next chapter, where we will perform GLM analysis.\n",
    "\n",
    "- Author: Nesserine EL Mediouni\n",
    "\n",
    "- Date:2024-08-27\n",
    "\n",
    "- Kernel: R\n",
    "\n",
    "Intermediate Agenda:\r\n",
    "1. [Import Data](#import-data)  \n",
    "2. [Descriptive Analysis](#descriptive-analysis)  \n",
    "3. [Data Preparation](#data-preparation)  \n",
    "4. [Error Functions](#error-functions)  \n",
    "5. [Split training/test sets](#split-training-test-sets)  \n",
    "6. [Split between attritional and atypical sets](#split-between-attritional-and-atypical-sets)  al sets"
   ]
  },
  {
   "cell_type": "markdown",
   "id": "9b865a11-aa37-4501-aa44-43bfde92f4da",
   "metadata": {},
   "source": [
    "### 1.1 Import Data"
   ]
  },
  {
   "cell_type": "code",
   "execution_count": 2,
   "id": "6ea2c7f7-5628-4720-96c0-89fee4a7e973",
   "metadata": {},
   "outputs": [
    {
     "name": "stderr",
     "output_type": "stream",
     "text": [
      "Le chargement a nécessité le package : carData\n",
      "\n",
      "Le chargement a nécessité le package : ggplot2\n",
      "\n",
      "Le chargement a nécessité le package : lattice\n",
      "\n",
      "\n",
      "Attachement du package : 'caret'\n",
      "\n",
      "\n",
      "Les objets suivants sont masqués depuis 'package:Metrics':\n",
      "\n",
      "    precision, recall\n",
      "\n",
      "\n"
     ]
    }
   ],
   "source": [
    "#Import library you need\n",
    "\n",
    "library(gmodels)    # Package which computes confidence intervals (we will use the function fit.contrast within this package)\n",
    "library(car)        # Anova function (calculates type 2 or type 3 analysis-of-variance tables)\n",
    "library(forcats)    # Package which facilitates the treatment of factors and their levels/modalities\n",
    "library(Metrics)    # Contains some basic functions such as mse, rmse, mae...\n",
    "library(caret)      # Useful package when doing Machine Learning / Pre-processing of data\n",
    "library(ggplot2)    # To draw nice graphs"
   ]
  },
  {
   "cell_type": "code",
   "execution_count": 4,
   "id": "1ccdb032-2d33-449b-8065-23031fa0a1e5",
   "metadata": {},
   "outputs": [
    {
     "data": {
      "text/html": [
       "<table class=\"dataframe\">\n",
       "<caption>A data.frame: 6 × 13</caption>\n",
       "<thead>\n",
       "\t<tr><th></th><th scope=col>Age</th><th scope=col>RiskExp</th><th scope=col>NbrClaims</th><th scope=col>ClaimAmount</th><th scope=col>AgeCar</th><th scope=col>Sex</th><th scope=col>Fuel</th><th scope=col>Split</th><th scope=col>Use</th><th scope=col>Fleet</th><th scope=col>Sport</th><th scope=col>Cover</th><th scope=col>Power</th></tr>\n",
       "\t<tr><th></th><th scope=col>&lt;int&gt;</th><th scope=col>&lt;dbl&gt;</th><th scope=col>&lt;int&gt;</th><th scope=col>&lt;dbl&gt;</th><th scope=col>&lt;fct&gt;</th><th scope=col>&lt;fct&gt;</th><th scope=col>&lt;fct&gt;</th><th scope=col>&lt;fct&gt;</th><th scope=col>&lt;fct&gt;</th><th scope=col>&lt;fct&gt;</th><th scope=col>&lt;fct&gt;</th><th scope=col>&lt;fct&gt;</th><th scope=col>&lt;fct&gt;</th></tr>\n",
       "</thead>\n",
       "<tbody>\n",
       "\t<tr><th scope=row>1</th><td>64</td><td>1.00000000</td><td>0</td><td>  0.0000</td><td>2-5 </td><td>Female</td><td>Petrol</td><td>Once  </td><td>Private     </td><td>No </td><td>No</td><td>MTPL+  </td><td>66-110</td></tr>\n",
       "\t<tr><th scope=row>2</th><td>28</td><td>0.04657534</td><td>1</td><td>155.9746</td><td>6-10</td><td>Female</td><td>Petrol</td><td>Twice </td><td>Private     </td><td>No </td><td>No</td><td>MTPL   </td><td>66-110</td></tr>\n",
       "\t<tr><th scope=row>3</th><td>58</td><td>0.40273973</td><td>0</td><td><span style=white-space:pre-wrap>  0.0000</span></td><td>&gt;10 </td><td>Female</td><td>Petrol</td><td>Thrice</td><td><span style=white-space:pre-wrap>Private     </span></td><td>No </td><td>No</td><td><span style=white-space:pre-wrap>MTPL   </span></td><td><span style=white-space:pre-wrap>&lt;66   </span></td></tr>\n",
       "\t<tr><th scope=row>4</th><td>37</td><td>0.16986301</td><td>0</td><td>  0.0000</td><td>2-5 </td><td>Female</td><td>Petrol</td><td>Once  </td><td>Professional</td><td>No </td><td>No</td><td>MTPL+++</td><td>66-110</td></tr>\n",
       "\t<tr><th scope=row>5</th><td>29</td><td>1.00000000</td><td>0</td><td><span style=white-space:pre-wrap>  0.0000</span></td><td>6-10</td><td>Female</td><td>Petrol</td><td><span style=white-space:pre-wrap>Once  </span></td><td><span style=white-space:pre-wrap>Private     </span></td><td>No </td><td>No</td><td><span style=white-space:pre-wrap>MTPL+  </span></td><td><span style=white-space:pre-wrap>&lt;66   </span></td></tr>\n",
       "\t<tr><th scope=row>6</th><td>25</td><td>0.29589041</td><td>0</td><td><span style=white-space:pre-wrap>  0.0000</span></td><td>&gt;10 </td><td>Female</td><td>Petrol</td><td>Twice </td><td><span style=white-space:pre-wrap>Private     </span></td><td>Yes</td><td>No</td><td><span style=white-space:pre-wrap>MTPL+  </span></td><td>66-110</td></tr>\n",
       "</tbody>\n",
       "</table>\n"
      ],
      "text/latex": [
       "A data.frame: 6 × 13\n",
       "\\begin{tabular}{r|lllllllllllll}\n",
       "  & Age & RiskExp & NbrClaims & ClaimAmount & AgeCar & Sex & Fuel & Split & Use & Fleet & Sport & Cover & Power\\\\\n",
       "  & <int> & <dbl> & <int> & <dbl> & <fct> & <fct> & <fct> & <fct> & <fct> & <fct> & <fct> & <fct> & <fct>\\\\\n",
       "\\hline\n",
       "\t1 & 64 & 1.00000000 & 0 &   0.0000 & 2-5  & Female & Petrol & Once   & Private      & No  & No & MTPL+   & 66-110\\\\\n",
       "\t2 & 28 & 0.04657534 & 1 & 155.9746 & 6-10 & Female & Petrol & Twice  & Private      & No  & No & MTPL    & 66-110\\\\\n",
       "\t3 & 58 & 0.40273973 & 0 &   0.0000 & >10  & Female & Petrol & Thrice & Private      & No  & No & MTPL    & <66   \\\\\n",
       "\t4 & 37 & 0.16986301 & 0 &   0.0000 & 2-5  & Female & Petrol & Once   & Professional & No  & No & MTPL+++ & 66-110\\\\\n",
       "\t5 & 29 & 1.00000000 & 0 &   0.0000 & 6-10 & Female & Petrol & Once   & Private      & No  & No & MTPL+   & <66   \\\\\n",
       "\t6 & 25 & 0.29589041 & 0 &   0.0000 & >10  & Female & Petrol & Twice  & Private      & Yes & No & MTPL+   & 66-110\\\\\n",
       "\\end{tabular}\n"
      ],
      "text/markdown": [
       "\n",
       "A data.frame: 6 × 13\n",
       "\n",
       "| <!--/--> | Age &lt;int&gt; | RiskExp &lt;dbl&gt; | NbrClaims &lt;int&gt; | ClaimAmount &lt;dbl&gt; | AgeCar &lt;fct&gt; | Sex &lt;fct&gt; | Fuel &lt;fct&gt; | Split &lt;fct&gt; | Use &lt;fct&gt; | Fleet &lt;fct&gt; | Sport &lt;fct&gt; | Cover &lt;fct&gt; | Power &lt;fct&gt; |\n",
       "|---|---|---|---|---|---|---|---|---|---|---|---|---|---|\n",
       "| 1 | 64 | 1.00000000 | 0 |   0.0000 | 2-5  | Female | Petrol | Once   | Private      | No  | No | MTPL+   | 66-110 |\n",
       "| 2 | 28 | 0.04657534 | 1 | 155.9746 | 6-10 | Female | Petrol | Twice  | Private      | No  | No | MTPL    | 66-110 |\n",
       "| 3 | 58 | 0.40273973 | 0 |   0.0000 | &gt;10  | Female | Petrol | Thrice | Private      | No  | No | MTPL    | &lt;66    |\n",
       "| 4 | 37 | 0.16986301 | 0 |   0.0000 | 2-5  | Female | Petrol | Once   | Professional | No  | No | MTPL+++ | 66-110 |\n",
       "| 5 | 29 | 1.00000000 | 0 |   0.0000 | 6-10 | Female | Petrol | Once   | Private      | No  | No | MTPL+   | &lt;66    |\n",
       "| 6 | 25 | 0.29589041 | 0 |   0.0000 | &gt;10  | Female | Petrol | Twice  | Private      | Yes | No | MTPL+   | 66-110 |\n",
       "\n"
      ],
      "text/plain": [
       "  Age RiskExp    NbrClaims ClaimAmount AgeCar Sex    Fuel   Split  Use         \n",
       "1 64  1.00000000 0           0.0000    2-5    Female Petrol Once   Private     \n",
       "2 28  0.04657534 1         155.9746    6-10   Female Petrol Twice  Private     \n",
       "3 58  0.40273973 0           0.0000    >10    Female Petrol Thrice Private     \n",
       "4 37  0.16986301 0           0.0000    2-5    Female Petrol Once   Professional\n",
       "5 29  1.00000000 0           0.0000    6-10   Female Petrol Once   Private     \n",
       "6 25  0.29589041 0           0.0000    >10    Female Petrol Twice  Private     \n",
       "  Fleet Sport Cover   Power \n",
       "1 No    No    MTPL+   66-110\n",
       "2 No    No    MTPL    66-110\n",
       "3 No    No    MTPL    <66   \n",
       "4 No    No    MTPL+++ 66-110\n",
       "5 No    No    MTPL+   <66   \n",
       "6 Yes   No    MTPL+   66-110"
      ]
     },
     "metadata": {},
     "output_type": "display_data"
    }
   ],
   "source": [
    "# Import data file\n",
    "Data<-read.csv(\"Data.csv\", header=TRUE, sep=\",\", stringsAsFactors = TRUE)\n",
    "head(Data)"
   ]
  },
  {
   "cell_type": "markdown",
   "id": "f0faba5c-c088-496e-a12d-cc4c8da6329b",
   "metadata": {},
   "source": [
    "### 1.2 Descriptive Analysis"
   ]
  },
  {
   "cell_type": "markdown",
   "id": "ac46714b-7ee8-4aca-867c-3ce526ddadd9",
   "metadata": {},
   "source": [
    "In this next section we will perform a descriptive analysis so you'll be able:\n",
    "\n",
    "* to have a better overview of the data;\n",
    "* to see the potential issues when importing the data;\n",
    "* to have an idea of how the data are distributed according to each modality.\n",
    "In order to do that, we will use a function which automatizes the process and automatically creates barplots."
   ]
  },
  {
   "cell_type": "code",
   "execution_count": 5,
   "id": "81419f11-3278-46da-9ce7-d91cff115f7a",
   "metadata": {},
   "outputs": [],
   "source": [
    "Descriptive_Analysis <- function(DB,variable,output)\n",
    "{\n",
    "  lev <- levels(DB[[variable]])       # Which are the modalities of the variable\n",
    "  number_Level <- length(lev)         # Number of modalities of the variable\n",
    "  ER<- rep(0,number_Level)            # Risk exposure vector, with length the number of modalities\n",
    "  NSin<- rep(0,number_Level)          # Number of claims according to each modality\n",
    "  Claim_Fr<- rep(0,number_Level)\n",
    "  Claim_Ch<- rep(0,number_Level)\n",
    "  Average_Cost<- rep(0,number_Level)\n",
    "\n",
    "  dataframe_ <- data.frame(Modalities = lev)\n",
    "  dataframe_$Modalities <- factor(dataframe_$Modalities, levels = dataframe_$Modalities) # To keep the order of the modalities in the graph\n",
    "  \n",
    "  dataframe_$ER<-       # For each modality we compute the sum of Risk Exposure\n",
    "  dataframe_$NSin <- tapply(DB[[\"NbrClaims\"]],DB[[variable]],sum)      # For each modality we compute the total number of claims\n",
    "  dataframe_$Claim_Ch <-tapply(DB[[\"ClaimAmount\"]],DB[[variable]],sum)      # For each modality we compute the total charge resulting\n",
    "  dataframe_$Claim_Fr <- dataframe_$NSin/dataframe_$ER\n",
    "  dataframe_$Average_Cost <- dataframe_$Claim_Ch/dataframe_$NSin\n",
    "    \n",
    "  graph_results <- vector(mode = \"list\", length = 3)\n",
    "  \n",
    "  if (number_Level < 5)  # if more than 5 modalities, graphs are displayed horizontally (no more vertically)\n",
    "  {\n",
    "    lim <- floor(max(dataframe_$ER)*1.25)\n",
    "    bp <- ggplot(data = dataframe_, aes_string(x = \"Modalities\", y = \"ER\", fill = \"Modalities\")) + geom_bar(stat=\"identity\") + \n",
    "      ggtitle(paste(\"Sum of the Risk Exposure for variable\", variable, sep=\" \")) + ylim(0, lim)                       \n",
    "    graph_results[[1]] <- bp\n",
    "      \n",
    "    \n",
    "    lim <- (max(dataframe_$Claim_Fr)*1.25)\n",
    "    bp <- ggplot(data = dataframe_, aes_string(x = \"Modalities\", y = \"Claim_Fr\", fill = \"Modalities\")) + geom_bar(stat=\"identity\")  + \n",
    "      ggtitle(paste(\"Claim frequency for the variable\", variable, sep=\" \")) + ylim(0, lim)                      \n",
    "    graph_results[[2]] <- bp\n",
    "     \n",
    "    \n",
    "    lim <- floor(max(dataframe_$Average_Cost)*1.25)\n",
    "    bp <- ggplot(data = dataframe_, aes_string(x = \"Modalities\", y = \"Average_Cost\", fill = \"Modalities\")) + geom_bar(stat=\"identity\")  + \n",
    "      ggtitle(paste(\"Average Cost for variable\", variable, sep=\" \")) + ylim(0, lim)                                                  \n",
    "    graph_results[[3]] <- bp\n",
    "      \n",
    "\n",
    "  } else\n",
    "  {\n",
    "    lim <- floor(max(dataframe_$ER)*1.25)\n",
    "    bp <- ggplot(data = dataframe_, aes_string(x = \"Modalities\", y = \"ER\", fill = \"Modalities\")) + geom_bar(stat=\"identity\") + \n",
    "      ggtitle(paste(\"Sum of the Risk Exposure for variable\", variable, sep=\" \")) + ylim(0, lim) + coord_flip()                      \n",
    "    graph_results[[1]] <- bp\n",
    "      \n",
    "    \n",
    "    lim <- (max(dataframe_$Claim_Fr)*1.25)\n",
    "    bp <- ggplot(data = dataframe_, aes_string(x = \"Modalities\", y = \"Claim_Fr\", fill = \"Modalities\")) + geom_bar(stat=\"identity\")  + \n",
    "      ggtitle(paste(\"Claim frequency for the variable\", variable, sep=\" \")) + ylim(0, lim) + coord_flip()                   \n",
    "    graph_results[[2]] <- bp\n",
    "     \n",
    "    \n",
    "    lim <- floor(max(dataframe_$Average_Cost)*1.25)\n",
    "    bp <- ggplot(data = dataframe_, aes_string(x = \"Modalities\", y = \"Average_Cost\", fill = \"Modalities\")) + geom_bar(stat=\"identity\")  + \n",
    "      ggtitle(paste(\"Average Cost for variable\", variable, sep=\" \")) + ylim(0, lim) + coord_flip()                                               \n",
    "    graph_results[[3]] <- bp\n",
    "  }\n",
    "  return(graph_results)\n",
    "}"
   ]
  },
  {
   "cell_type": "markdown",
   "id": "f99207b6-b4be-4fe0-9231-24fddb9f201d",
   "metadata": {},
   "source": [
    "Now we can use our function on all the explanatory variables included in our database:"
   ]
  },
  {
   "cell_type": "code",
   "execution_count": 6,
   "id": "ee73d4a0-afa1-4425-b783-7f8b41a33908",
   "metadata": {},
   "outputs": [
    {
     "name": "stderr",
     "output_type": "stream",
     "text": [
      "Warning message:\n",
      "\"\u001b[1m\u001b[22m`aes_string()` was deprecated in ggplot2 3.0.0.\n",
      "\u001b[36mℹ\u001b[39m Please use tidy evaluation idioms with `aes()`.\n",
      "\u001b[36mℹ\u001b[39m See also `vignette(\"ggplot2-in-packages\")` for more information.\"\n"
     ]
    }
   ],
   "source": [
    "graph_results <- vector(mode = \"list\", length = 1)\n",
    "# Sex\n",
    "graph_results[[\"Sex\"]] <- Descriptive_Analysis(Data,\"Sex\")\n",
    "# Use\n",
    "graph_results[[\"Use\"]] <- Descriptive_Analysis(Data,\"Use\")\n",
    "# Fleet\n",
    "graph_results[[\"Fleet\"]] <- Descriptive_Analysis(Data,\"Fleet\")\n",
    "# Sport\n",
    "graph_results[[\"Sport\"]] <- Descriptive_Analysis(Data,\"Sport\")\n",
    "# Coverage\n",
    "graph_results[[\"Cover\"]] <- Descriptive_Analysis(Data,\"Cover\")\n",
    "# Splitting up\n",
    "graph_results[[\"Split\"]] <- Descriptive_Analysis(Data,\"Split\")\n",
    "# Fuel\n",
    "graph_results[[\"Fuel\"]] <- Descriptive_Analysis(Data,\"Fuel\")\n",
    "# Age of the car\n",
    "graph_results[[\"AgeCar\"]] <- Descriptive_Analysis(Data,\"AgeCar\")\n",
    "# Power of the car\n",
    "graph_results[[\"Power\"]] <- Descriptive_Analysis(Data,\"Power\")"
   ]
  },
  {
   "cell_type": "code",
   "execution_count": 7,
   "id": "7e951698-57b1-4384-b3f7-2c014d2c9176",
   "metadata": {},
   "outputs": [
    {
     "data": {
      "image/png": "[encoded data removed]",
      "text/plain": [
       "plot without title"
      ]
     },
     "metadata": {
      "image/png": {
       "height": 240,
       "width": 600
      }
     },
     "output_type": "display_data"
    },
    {
     "data": {
      "image/png": "[encoded data removed]",
      "text/plain": [
       "plot without title"
      ]
     },
     "metadata": {
      "image/png": {
       "height": 240,
       "width": 600
      }
     },
     "output_type": "display_data"
    },
    {
     "data": {
      "image/png": "[encoded data removed]",
      "text/plain": [
       "plot without title"
      ]
     },
     "metadata": {
      "image/png": {
       "height": 240,
       "width": 600
      }
     },
     "output_type": "display_data"
    }
   ],
   "source": [
    "# Now we can print some of our statistics\n",
    "options(repr.plot.width=10, repr.plot.height=4)    # To have a better display\n",
    "print(graph_results[[\"Sex\"]][[1]])  # For exposure\n",
    "print(graph_results[[\"Sex\"]][[2]])  # For claim frequency\n",
    "print(graph_results[[\"Sex\"]][[3]])  # For average claim amount"
   ]
  },
  {
   "cell_type": "code",
   "execution_count": 8,
   "id": "4d3875dd-aca3-475a-981a-3f4b0dcdb2ae",
   "metadata": {},
   "outputs": [
    {
     "data": {
      "image/png": "[encoded data removed]",
      "text/plain": [
       "plot without title"
      ]
     },
     "metadata": {
      "image/png": {
       "height": 240,
       "width": 600
      }
     },
     "output_type": "display_data"
    },
    {
     "data": {
      "image/png": "[encoded data removed]",
      "text/plain": [
       "plot without title"
      ]
     },
     "metadata": {
      "image/png": {
       "height": 240,
       "width": 600
      }
     },
     "output_type": "display_data"
    },
    {
     "data": {
      "image/png": "[encoded data removed]",
      "text/plain": [
       "plot without title"
      ]
     },
     "metadata": {
      "image/png": {
       "height": 240,
       "width": 600
      }
     },
     "output_type": "display_data"
    }
   ],
   "source": [
    "# Now we can print some of our statistics\n",
    "print(graph_results[[\"AgeCar\"]][[1]])  # For exposure\n",
    "print(graph_results[[\"AgeCar\"]][[2]])  # For claim frequency\n",
    "print(graph_results[[\"AgeCar\"]][[3]])  # For average claim amount"
   ]
  },
  {
   "cell_type": "code",
   "execution_count": 9,
   "id": "2e8709dd-4011-48ab-8f72-732896b101fa",
   "metadata": {},
   "outputs": [
    {
     "data": {
      "text/html": [
       "<style>\n",
       ".list-inline {list-style: none; margin:0; padding: 0}\n",
       ".list-inline>li {display: inline-block}\n",
       ".list-inline>li:not(:last-child)::after {content: \"\\00b7\"; padding: 0 .5ex}\n",
       "</style>\n",
       "<ol class=list-inline><li>'&gt;10'</li><li>'0-1'</li><li>'2-5'</li><li>'6-10'</li></ol>\n"
      ],
      "text/latex": [
       "\\begin{enumerate*}\n",
       "\\item '>10'\n",
       "\\item '0-1'\n",
       "\\item '2-5'\n",
       "\\item '6-10'\n",
       "\\end{enumerate*}\n"
      ],
      "text/markdown": [
       "1. '&gt;10'\n",
       "2. '0-1'\n",
       "3. '2-5'\n",
       "4. '6-10'\n",
       "\n",
       "\n"
      ],
      "text/plain": [
       "[1] \">10\"  \"0-1\"  \"2-5\"  \"6-10\""
      ]
     },
     "metadata": {},
     "output_type": "display_data"
    }
   ],
   "source": [
    "#As you can see, the display of the columns is not very logic. The modality \">= 10\" should be displayed on the far right. So we are going to modify it in order to improve our graph's readability.\n",
    "levels(Data$AgeCar)"
   ]
  },
  {
   "cell_type": "code",
   "execution_count": 10,
   "id": "84e5ab14-b36d-4978-a381-195597a24572",
   "metadata": {},
   "outputs": [
    {
     "data": {
      "image/png": "[encoded data removed]",
      "text/plain": [
       "plot without title"
      ]
     },
     "metadata": {
      "image/png": {
       "height": 240,
       "width": 600
      }
     },
     "output_type": "display_data"
    },
    {
     "data": {
      "image/png": "[encoded data removed]",
      "text/plain": [
       "plot without title"
      ]
     },
     "metadata": {
      "image/png": {
       "height": 240,
       "width": 600
      }
     },
     "output_type": "display_data"
    },
    {
     "data": {
      "image/png": "[encoded data removed]",
      "text/plain": [
       "plot without title"
      ]
     },
     "metadata": {
      "image/png": {
       "height": 240,
       "width": 600
      }
     },
     "output_type": "display_data"
    }
   ],
   "source": [
    "# We use the function fct_relevel to define in which order the modalities should be processed\n",
    "Data$AgeCar <- fct_relevel(Data[[\"AgeCar\"]], \"0-1\", \"2-5\", \"6-10\", \">10\")\n",
    "\n",
    "graph_results[[\"AgeCar\"]] <- Descriptive_Analysis(Data,\"AgeCar\")\n",
    "\n",
    "print(graph_results[[\"AgeCar\"]][[1]])  # For exposure\n",
    "print(graph_results[[\"AgeCar\"]][[2]])  # For claim frequency\n",
    "print(graph_results[[\"AgeCar\"]][[3]])  # For average claim amount"
   ]
  },
  {
   "cell_type": "markdown",
   "id": "e1916f30-890d-425d-995d-68cc7de50a2b",
   "metadata": {},
   "source": [
    "### 1.3 Data Preparation"
   ]
  },
  {
   "cell_type": "markdown",
   "id": "99fd2fbc-f1fb-459d-aa9b-f8f20f58464a",
   "metadata": {},
   "source": [
    "Reference classes can be determined using the results of the above descriptive analysis.\n",
    "\n",
    "In this part we will rename the modalities so that the reference classes appears first. This can be done using the function fct_relevel.\n",
    "\n",
    "But before doing that, let's clarify what we mean by 'reference class'. This is particularly useful when dealing with GLM. Indeed, the goal of the GLM is to determine a \n",
    "β for each feature (and for each modality within these features). Or, if we take the case of a feature having n modalities, we only need to have \n",
    "n−1 βs for this feature.\n",
    "\n",
    "Indeed we are comparing the effect of a particular modality to a 'level zero' which is obtained through the intercept. But this 'level zero' or 'reference level' is computed on another modality, the 'reference modality'.\n",
    "\n",
    "How is this reference modality obtained ? There is no particular rule, but it is usually the most frequent modality / the most relevant one within the data (for example if you work with 5 levels from unhappy to really happy, you could use the neutral modality as point of comparison).\n",
    "\n",
    "The results will be however the same whatever modality is chosen as reference. The coefficients \n",
    "βs will just have a shift to balance the effect of the other reference category. So you are free to choose the reference level as you want, but you have to be aware of this choice in the further analysis.\n",
    "\n",
    "In our case we will choose the most frequent modality as the reference one."
   ]
  },
  {
   "cell_type": "code",
   "execution_count": 11,
   "id": "55093a33-f94f-4dbd-92c7-a181a2cf555d",
   "metadata": {},
   "outputs": [
    {
     "name": "stdout",
     "output_type": "stream",
     "text": [
      "[1] \"0-1\"  \"2-5\"  \"6-10\" \">10\" \n",
      "[1] \"6-10\" \"0-1\"  \"2-5\"  \">10\" \n"
     ]
    }
   ],
   "source": [
    "print(levels(Data[[\"AgeCar\"]]))\n",
    "\n",
    "# The fct_relevel function takes as argument the vector of values and one of its modality\n",
    "# It then declare the stated modality as the referenced one\n",
    "# It does not have an impact yet, but you will see its effect when starting to model\n",
    "Data[[\"Sex\"]] <- fct_relevel(Data[[\"Sex\"]], \"Male\")\n",
    "Data[[\"Use\"]] <- fct_relevel(Data[[\"Use\"]], \"Private\")\n",
    "Data[[\"Fleet\"]] <- fct_relevel(Data[[\"Fleet\"]], \"No\")\n",
    "Data[[\"Sport\"]] <- fct_relevel(Data[[\"Sport\"]], \"No\")\n",
    "Data[[\"Cover\"]] <- fct_relevel(Data[[\"Cover\"]], \"MTPL\")\n",
    "Data[[\"Fuel\"]] <- fct_relevel(Data[[\"Fuel\"]], \"Petrol\")\n",
    "Data[[\"AgeCar\"]] <- fct_relevel(Data[[\"AgeCar\"]], \"6-10\")\n",
    "Data[[\"Power\"]] <- fct_relevel(Data[[\"Power\"]], \"<66\")\n",
    "Data[[\"Split\"]] <- fct_relevel(Data[[\"Split\"]], \"Once\")\n",
    "\n",
    "print(levels(Data[[\"AgeCar\"]]))"
   ]
  },
  {
   "cell_type": "markdown",
   "id": "6dd87dde-90fe-43a9-87c0-a74d11df0140",
   "metadata": {},
   "source": [
    "### 1.4 Error Functions"
   ]
  },
  {
   "cell_type": "markdown",
   "id": "d786825f-b4dc-41cb-b71e-5cca3630d4a0",
   "metadata": {},
   "source": [
    "In this short part we will define two error functions which will be uses during this training. Some basic error functions like MSE, MAE or RMSE are already coded in R and belong to the Metrics package.\n",
    "\n",
    "However these functions do not fit well to determine the error of counting distribution or do not always reflect the phenomenon we want to underline.\n",
    "\n",
    "So, we will implement the gamma and poisson deviance in order to assess the quality of the models."
   ]
  },
  {
   "cell_type": "code",
   "execution_count": 12,
   "id": "b618ba6f-b05b-4a3e-8810-89bc3813b3ca",
   "metadata": {},
   "outputs": [],
   "source": [
    "# Function returning the deviance of the Poisson\n",
    "deviance_p <- function (truevalues, predictions){\n",
    "  sum <- 0\n",
    "  for (k in 1:length(predictions)) {\n",
    "    if (truevalues[k] == 0)  { \n",
    "      sum <- sum + predictions[k]\n",
    "    }else{\n",
    "      sum <- sum + truevalues[k] * log (truevalues[k]/predictions[k]) - \n",
    "        (truevalues[k] - predictions[k])\n",
    "    }\n",
    "  }\n",
    "  return(2 * as.numeric(sum))\n",
    "}"
   ]
  },
  {
   "cell_type": "code",
   "execution_count": 13,
   "id": "cbb024b1-301b-44f3-bdbb-51bbfaf4ba56",
   "metadata": {},
   "outputs": [],
   "source": [
    "# Function returning the deviance of the Gamma\n",
    "deviance_g <- function(truevalues, predictions,weights){\n",
    "  sum <- 0\n",
    "  for (k in 1:length(predictions)){\n",
    "    sum <- sum + weights[k]*( log(truevalues[k]/predictions[k]) - \n",
    "                                ((truevalues[k]-predictions[k])/predictions[k]))\n",
    "    \n",
    "  }\n",
    "  return(-2* as.numeric(sum))\n",
    "}"
   ]
  },
  {
   "cell_type": "markdown",
   "id": "bc1def8b-bd06-423a-aa95-ad86069a26d2",
   "metadata": {},
   "source": [
    "### 1.5 Split trainiing/test sets"
   ]
  },
  {
   "cell_type": "markdown",
   "id": "3382431a-4ff3-462d-bc39-ec6f12bcaf2e",
   "metadata": {},
   "source": [
    "We will split our data into a training set and a test set. In order to have a fair and balanced repartition of the data, we will use the createDataPartition function from the caret package.\n",
    "\n",
    "This function returns a row of integers which are the row indexes of the training date (if we put p = 0.8 then we will have a vector of size \n",
    "0.8×len(Data)).\n",
    "\n",
    "However, we want to have a balanced repartition. It means that if we assume that 10 policyholders in the database have all the same characteristics, 8 will be in the training set and 2 in the test set (if we choose to split 80/20). In other terms it means that if we have 10 policyholders with AgeCar = 0-1, Sex = Male, Fuel = Petrol, Split = Once, Fleet = No, Sport = No, Cover = MTPL++, Power < 66, 8 of these profiles will go to the training set, and the rest will be kept in the test set.\n",
    "\n",
    "If we don't pay attention to it and just use CreateDataPartition on one column, for example 'Sex', we will have a split where 80% of the male will be in the training set, and 20% will be in the test set. But it is not because it is true for the feature sex that the split will be equivalent when it comes to other features.\n",
    "\n",
    "That is why we need to create a new factor variable, which is a concatenation of all the features of each policyholder. This way, we make sure that our split is fair regarding all categorical features.\n",
    "\n",
    "However, we might not have enough date for each unique profile (less than 5 observations for example), which leads all observations to be put in the training set and none in the testing set. This is done in order to respect the 80/20 repartition set. This raises warnings in R; to not display them we temporarily disable them through the options command line."
   ]
  },
  {
   "cell_type": "code",
   "execution_count": 14,
   "id": "b783748d-20ac-4c0f-99f2-f2ecde88ff1d",
   "metadata": {},
   "outputs": [
    {
     "data": {
      "text/html": [
       "<table class=\"dataframe\">\n",
       "<caption>A data.frame: 6 × 13</caption>\n",
       "<thead>\n",
       "\t<tr><th></th><th scope=col>Age</th><th scope=col>RiskExp</th><th scope=col>NbrClaims</th><th scope=col>ClaimAmount</th><th scope=col>AgeCar</th><th scope=col>Sex</th><th scope=col>Fuel</th><th scope=col>Split</th><th scope=col>Use</th><th scope=col>Fleet</th><th scope=col>Sport</th><th scope=col>Cover</th><th scope=col>Power</th></tr>\n",
       "\t<tr><th></th><th scope=col>&lt;int&gt;</th><th scope=col>&lt;dbl&gt;</th><th scope=col>&lt;int&gt;</th><th scope=col>&lt;dbl&gt;</th><th scope=col>&lt;fct&gt;</th><th scope=col>&lt;fct&gt;</th><th scope=col>&lt;fct&gt;</th><th scope=col>&lt;fct&gt;</th><th scope=col>&lt;fct&gt;</th><th scope=col>&lt;fct&gt;</th><th scope=col>&lt;fct&gt;</th><th scope=col>&lt;fct&gt;</th><th scope=col>&lt;fct&gt;</th></tr>\n",
       "</thead>\n",
       "<tbody>\n",
       "\t<tr><th scope=row>1</th><td>64</td><td>1.00000000</td><td>0</td><td>  0.0000</td><td>2-5 </td><td>Female</td><td>Petrol</td><td>Once   </td><td>Private</td><td>No </td><td>No</td><td>MTPL+</td><td>66-110</td></tr>\n",
       "\t<tr><th scope=row>2</th><td>28</td><td>0.04657534</td><td>1</td><td>155.9746</td><td>6-10</td><td>Female</td><td>Petrol</td><td>Twice  </td><td>Private</td><td>No </td><td>No</td><td>MTPL </td><td>66-110</td></tr>\n",
       "\t<tr><th scope=row>3</th><td>58</td><td>0.40273973</td><td>0</td><td><span style=white-space:pre-wrap>  0.0000</span></td><td>&gt;10 </td><td>Female</td><td>Petrol</td><td>Thrice </td><td>Private</td><td>No </td><td>No</td><td>MTPL </td><td><span style=white-space:pre-wrap>&lt;66   </span></td></tr>\n",
       "\t<tr><th scope=row>5</th><td>29</td><td>1.00000000</td><td>0</td><td><span style=white-space:pre-wrap>  0.0000</span></td><td>6-10</td><td>Female</td><td>Petrol</td><td><span style=white-space:pre-wrap>Once   </span></td><td>Private</td><td>No </td><td>No</td><td>MTPL+</td><td><span style=white-space:pre-wrap>&lt;66   </span></td></tr>\n",
       "\t<tr><th scope=row>6</th><td>25</td><td>0.29589041</td><td>0</td><td><span style=white-space:pre-wrap>  0.0000</span></td><td>&gt;10 </td><td>Female</td><td>Petrol</td><td><span style=white-space:pre-wrap>Twice  </span></td><td>Private</td><td>Yes</td><td>No</td><td>MTPL+</td><td>66-110</td></tr>\n",
       "\t<tr><th scope=row>7</th><td>34</td><td>1.00000000</td><td>0</td><td><span style=white-space:pre-wrap>  0.0000</span></td><td>&gt;10 </td><td>Female</td><td>Petrol</td><td>Monthly</td><td>Private</td><td>No </td><td>No</td><td>MTPL </td><td><span style=white-space:pre-wrap>&lt;66   </span></td></tr>\n",
       "</tbody>\n",
       "</table>\n"
      ],
      "text/latex": [
       "A data.frame: 6 × 13\n",
       "\\begin{tabular}{r|lllllllllllll}\n",
       "  & Age & RiskExp & NbrClaims & ClaimAmount & AgeCar & Sex & Fuel & Split & Use & Fleet & Sport & Cover & Power\\\\\n",
       "  & <int> & <dbl> & <int> & <dbl> & <fct> & <fct> & <fct> & <fct> & <fct> & <fct> & <fct> & <fct> & <fct>\\\\\n",
       "\\hline\n",
       "\t1 & 64 & 1.00000000 & 0 &   0.0000 & 2-5  & Female & Petrol & Once    & Private & No  & No & MTPL+ & 66-110\\\\\n",
       "\t2 & 28 & 0.04657534 & 1 & 155.9746 & 6-10 & Female & Petrol & Twice   & Private & No  & No & MTPL  & 66-110\\\\\n",
       "\t3 & 58 & 0.40273973 & 0 &   0.0000 & >10  & Female & Petrol & Thrice  & Private & No  & No & MTPL  & <66   \\\\\n",
       "\t5 & 29 & 1.00000000 & 0 &   0.0000 & 6-10 & Female & Petrol & Once    & Private & No  & No & MTPL+ & <66   \\\\\n",
       "\t6 & 25 & 0.29589041 & 0 &   0.0000 & >10  & Female & Petrol & Twice   & Private & Yes & No & MTPL+ & 66-110\\\\\n",
       "\t7 & 34 & 1.00000000 & 0 &   0.0000 & >10  & Female & Petrol & Monthly & Private & No  & No & MTPL  & <66   \\\\\n",
       "\\end{tabular}\n"
      ],
      "text/markdown": [
       "\n",
       "A data.frame: 6 × 13\n",
       "\n",
       "| <!--/--> | Age &lt;int&gt; | RiskExp &lt;dbl&gt; | NbrClaims &lt;int&gt; | ClaimAmount &lt;dbl&gt; | AgeCar &lt;fct&gt; | Sex &lt;fct&gt; | Fuel &lt;fct&gt; | Split &lt;fct&gt; | Use &lt;fct&gt; | Fleet &lt;fct&gt; | Sport &lt;fct&gt; | Cover &lt;fct&gt; | Power &lt;fct&gt; |\n",
       "|---|---|---|---|---|---|---|---|---|---|---|---|---|---|\n",
       "| 1 | 64 | 1.00000000 | 0 |   0.0000 | 2-5  | Female | Petrol | Once    | Private | No  | No | MTPL+ | 66-110 |\n",
       "| 2 | 28 | 0.04657534 | 1 | 155.9746 | 6-10 | Female | Petrol | Twice   | Private | No  | No | MTPL  | 66-110 |\n",
       "| 3 | 58 | 0.40273973 | 0 |   0.0000 | &gt;10  | Female | Petrol | Thrice  | Private | No  | No | MTPL  | &lt;66    |\n",
       "| 5 | 29 | 1.00000000 | 0 |   0.0000 | 6-10 | Female | Petrol | Once    | Private | No  | No | MTPL+ | &lt;66    |\n",
       "| 6 | 25 | 0.29589041 | 0 |   0.0000 | &gt;10  | Female | Petrol | Twice   | Private | Yes | No | MTPL+ | 66-110 |\n",
       "| 7 | 34 | 1.00000000 | 0 |   0.0000 | &gt;10  | Female | Petrol | Monthly | Private | No  | No | MTPL  | &lt;66    |\n",
       "\n"
      ],
      "text/plain": [
       "  Age RiskExp    NbrClaims ClaimAmount AgeCar Sex    Fuel   Split   Use    \n",
       "1 64  1.00000000 0           0.0000    2-5    Female Petrol Once    Private\n",
       "2 28  0.04657534 1         155.9746    6-10   Female Petrol Twice   Private\n",
       "3 58  0.40273973 0           0.0000    >10    Female Petrol Thrice  Private\n",
       "5 29  1.00000000 0           0.0000    6-10   Female Petrol Once    Private\n",
       "6 25  0.29589041 0           0.0000    >10    Female Petrol Twice   Private\n",
       "7 34  1.00000000 0           0.0000    >10    Female Petrol Monthly Private\n",
       "  Fleet Sport Cover Power \n",
       "1 No    No    MTPL+ 66-110\n",
       "2 No    No    MTPL  66-110\n",
       "3 No    No    MTPL  <66   \n",
       "5 No    No    MTPL+ <66   \n",
       "6 Yes   No    MTPL+ 66-110\n",
       "7 No    No    MTPL  <66   "
      ]
     },
     "metadata": {},
     "output_type": "display_data"
    }
   ],
   "source": [
    "set.seed(223)\n",
    "\n",
    "defaultW <- getOption(\"warn\") \n",
    "options(warn = -1) \n",
    "\n",
    "# We create a new factor variable regrouping all modalities'combinations possible\n",
    "factorvariable <- c(\"AgeCar\",\"Sex\",'Fuel','Split',\"Use\",\"Fleet\",\"Sport\",\"Cover\",\"Power\")\n",
    "tmp <- NULL\n",
    "for (var in factorvariable)\n",
    "{\n",
    "  tmp <- paste(tmp,Data[[var]])\n",
    "}\n",
    "\n",
    "# We partition the data, such as 80% of each new categories go to the training set\n",
    "# and 20% on the test set\n",
    "\n",
    "inTraining <- createDataPartition(tmp, p = 0.8, list = FALSE)\n",
    "\n",
    "options(warn = defaultW)\n",
    "\n",
    "Data_train <- Data[inTraining,]\n",
    "Data_test <- Data[-inTraining,]\n",
    "\n",
    "head(Data_train)"
   ]
  },
  {
   "cell_type": "code",
   "execution_count": 15,
   "id": "fd34bef5-9d8a-4375-a0dd-472b136ea3d9",
   "metadata": {},
   "outputs": [
    {
     "data": {
      "text/html": [
       "0.196575765167393"
      ],
      "text/latex": [
       "0.196575765167393"
      ],
      "text/markdown": [
       "0.196575765167393"
      ],
      "text/plain": [
       "[1] 0.1965758"
      ]
     },
     "metadata": {},
     "output_type": "display_data"
    }
   ],
   "source": [
    "length(Data_test$Age) / (length(Data_train$Age) + length(Data_test$Age))"
   ]
  },
  {
   "cell_type": "markdown",
   "id": "4f8e763a-7d5a-4834-85dc-b836488286b0",
   "metadata": {},
   "source": [
    "### 1.6 Split between attritional and atypical sets"
   ]
  },
  {
   "cell_type": "markdown",
   "id": "c69ef014-484d-4663-95fa-80315b6210f6",
   "metadata": {},
   "source": [
    "Let's compute the mean cost on the database and remove the atypical claims, which will be treated in a next part of this training.\n",
    "\n",
    "First let's look at how our data are distributed:"
   ]
  },
  {
   "cell_type": "code",
   "execution_count": 16,
   "id": "72981141-fa2d-4e54-a4b0-8b8d0886bd8a",
   "metadata": {},
   "outputs": [
    {
     "name": "stderr",
     "output_type": "stream",
     "text": [
      "\u001b[1m\u001b[22m`stat_bin()` using `bins = 30`. Pick better value with `binwidth`.\n",
      "\u001b[1m\u001b[22m`stat_bin()` using `bins = 30`. Pick better value with `binwidth`.\n"
     ]
    },
    {
     "data": {
      "image/png": "[encoded data removed]",
      "text/plain": [
       "plot without title"
      ]
     },
     "metadata": {
      "image/png": {
       "height": 240,
       "width": 600
      }
     },
     "output_type": "display_data"
    },
    {
     "data": {
      "image/png": "[encoded data removed]",
      "text/plain": [
       "plot without title"
      ]
     },
     "metadata": {
      "image/png": {
       "height": 240,
       "width": 600
      }
     },
     "output_type": "display_data"
    }
   ],
   "source": [
    "print(ggplot(data = subset(Data, ClaimAmount > 0), aes(x = ClaimAmount)) + geom_histogram(boundary = 0))\n",
    "\n",
    "print(ggplot(data = subset(Data, ClaimAmount > 0 & ClaimAmount < 150000), aes(x = ClaimAmount)) \n",
    "      + geom_histogram(boundary = 0))"
   ]
  },
  {
   "cell_type": "code",
   "execution_count": 17,
   "id": "264fa044-de91-47fc-9177-70768fced05d",
   "metadata": {},
   "outputs": [],
   "source": [
    "#Considering the distribution of the amount of claims within our portfolio, we decide to set up the threshold at 100 000€.\n",
    "\n",
    "# Compute mean cost\n",
    "MeanCharge <- with(Data_train,ifelse(NbrClaims != 0, ClaimAmount/NbrClaims,0))\n",
    "Data_train[[\"MeanCharge\"]]<-MeanCharge\n",
    "\n",
    "MeanCharge <- with(Data_test,ifelse(NbrClaims != 0, ClaimAmount/NbrClaims,0))\n",
    "Data_test[[\"MeanCharge\"]]<-MeanCharge\n",
    "\n",
    "\n",
    "# Atypical losses are treated in another analysis\n",
    "L <- Data_train[[\"MeanCharge\"]] < 100000\n",
    "DataAttr_train <- Data_train[L,]\n",
    "\n",
    "L <- Data_test[[\"MeanCharge\"]] < 100000\n",
    "DataAttr_test <- Data_test[L,]"
   ]
  },
  {
   "cell_type": "markdown",
   "id": "95cdffc0-3bd6-48bc-ad72-1034b718709e",
   "metadata": {},
   "source": [
    "## 2-GLM Analysis:frequency"
   ]
  },
  {
   "cell_type": "markdown",
   "id": "22c98e3e-1e69-44a2-9cc2-d13070d6cd38",
   "metadata": {},
   "source": [
    "Here is a non-exhaustive list of packages that can be used to implement GLM:\n",
    "\n",
    "* fastglm : package to fit GLM efficiently using ‘RcppEigen’ (improved speed)\n",
    "\n",
    "* glmnet : LASSO and Elastic-net regularized GLM\n",
    "\n",
    "* Bigglm : Creates a GLM object that uses only p^2 memory for p variables (Large database)\n",
    "\n",
    "* bestglm : Allows the use of CV, and provides new information criteria such BICq, AIC, BIC and EBIC for selecting the best model\n",
    "\n",
    "* glm.deploy : Write a glm model into C or Java\n",
    "\n",
    "Now, we will model the claim's frequency using GLMs."
   ]
  },
  {
   "cell_type": "code",
   "execution_count": 18,
   "id": "4a706a71-8c6b-4bd0-a02a-9b6bca3918f1",
   "metadata": {},
   "outputs": [],
   "source": [
    "DataFreq_train <- DataAttr_train\n",
    "DataFreq_test <- DataAttr_test"
   ]
  },
  {
   "cell_type": "markdown",
   "id": "55bfbb7c-10d1-4255-89fd-d002c1245443",
   "metadata": {},
   "source": [
    "Now we can perform a first GLM Analysis using the glm function. The Anova function displays all the explanatory variable and their corresponding \n",
    "p-value whereas the summary function displays all the modalities, their estimate and the corresponding p-values.\n",
    "Before moving on, let's develop what is the p-value and why it is of great help in our case.\n",
    "In a GLM, we obtain for each modality of each categorical feature a parameter estimate β, exception made for the reference classes which were defined earlier. But R is going to provide us some more information on these estimates: a standard error term, a \n",
    "z-score and a p-value which will be presented under the column \n",
    "Pr(>|z|).\n",
    "But what is the z-score ? This is the test-statistic for the Wald-test which states that the value of the parameter is 0. It is equal to the value of the parameter divided by the standard error.\n",
    "In other terms, it is the test-statistic which compares \n",
    "H0 to H1 :\n",
    "H0:βj=0.\n",
    "H1:βj<>0.\n",
    "If the null-hypothesis is true (i.e. the parameter is 0 in the population) and we were to draw many samples from our population and compute the \n",
    "z-statistic in each of them, then those z-statistics would follow a standard normal distribution. This is the Wald-test.\n",
    "\n",
    "The p-value is drawn from this statistic. The highest the z-value, the less likely that the true regression coefficient is 0. A good rule of thumb is to use a cut-off value of 2 which approximately corresponds to a two-sided hypothesis test with a significance level of \n",
    "α=0.05 (our p-value).\n",
    "\n",
    "An Anova analysis is also performed. It is quite similar to the one we just introduced, except that this time we test the relevance of the feature on its globality, and not just for each of its modalities."
   ]
  },
  {
   "cell_type": "code",
   "execution_count": 19,
   "id": "59b2dbd8-d1ac-4af5-be51-2047a4a9e97a",
   "metadata": {},
   "outputs": [
    {
     "name": "stderr",
     "output_type": "stream",
     "text": [
      "Warning message in printHypothesis(L, rhs, names(b)):\n",
      "\"one or more coefficients in the hypothesis include\n",
      "     arithmetic operators in their names;\n",
      "  the printed representation of the hypothesis will be omitted\"\n",
      "Warning message in printHypothesis(L, rhs, names(b)):\n",
      "\"one or more coefficients in the hypothesis include\n",
      "     arithmetic operators in their names;\n",
      "  the printed representation of the hypothesis will be omitted\"\n",
      "Warning message in printHypothesis(L, rhs, names(b)):\n",
      "\"one or more coefficients in the hypothesis include\n",
      "     arithmetic operators in their names;\n",
      "  the printed representation of the hypothesis will be omitted\"\n"
     ]
    },
    {
     "data": {
      "text/html": [
       "<table class=\"dataframe\">\n",
       "<caption>A anova: 10 × 3</caption>\n",
       "<thead>\n",
       "\t<tr><th></th><th scope=col>Df</th><th scope=col>Chisq</th><th scope=col>Pr(&gt;Chisq)</th></tr>\n",
       "\t<tr><th></th><th scope=col>&lt;dbl&gt;</th><th scope=col>&lt;dbl&gt;</th><th scope=col>&lt;dbl&gt;</th></tr>\n",
       "</thead>\n",
       "<tbody>\n",
       "\t<tr><th scope=row>(Intercept)</th><td>1</td><td>13754.844880</td><td> 0.000000e+00</td></tr>\n",
       "\t<tr><th scope=row>Sex</th><td>1</td><td>   28.506097</td><td> 9.340388e-08</td></tr>\n",
       "\t<tr><th scope=row>Use</th><td>1</td><td>    0.210069</td><td> 6.467133e-01</td></tr>\n",
       "\t<tr><th scope=row>Fleet</th><td>1</td><td>   10.697531</td><td> 1.072786e-03</td></tr>\n",
       "\t<tr><th scope=row>Sport</th><td>1</td><td>    3.652900</td><td> 5.597166e-02</td></tr>\n",
       "\t<tr><th scope=row>Cover</th><td>2</td><td>   74.342939</td><td> 7.188460e-17</td></tr>\n",
       "\t<tr><th scope=row>Fuel</th><td>1</td><td>  143.315352</td><td> 5.015118e-33</td></tr>\n",
       "\t<tr><th scope=row>AgeCar</th><td>3</td><td>   57.500490</td><td> 2.009408e-12</td></tr>\n",
       "\t<tr><th scope=row>Power</th><td>2</td><td>   24.781706</td><td> 4.156434e-06</td></tr>\n",
       "\t<tr><th scope=row>Split</th><td>3</td><td>  568.569343</td><td>6.558878e-123</td></tr>\n",
       "</tbody>\n",
       "</table>\n"
      ],
      "text/latex": [
       "A anova: 10 × 3\n",
       "\\begin{tabular}{r|lll}\n",
       "  & Df & Chisq & Pr(>Chisq)\\\\\n",
       "  & <dbl> & <dbl> & <dbl>\\\\\n",
       "\\hline\n",
       "\t(Intercept) & 1 & 13754.844880 &  0.000000e+00\\\\\n",
       "\tSex & 1 &    28.506097 &  9.340388e-08\\\\\n",
       "\tUse & 1 &     0.210069 &  6.467133e-01\\\\\n",
       "\tFleet & 1 &    10.697531 &  1.072786e-03\\\\\n",
       "\tSport & 1 &     3.652900 &  5.597166e-02\\\\\n",
       "\tCover & 2 &    74.342939 &  7.188460e-17\\\\\n",
       "\tFuel & 1 &   143.315352 &  5.015118e-33\\\\\n",
       "\tAgeCar & 3 &    57.500490 &  2.009408e-12\\\\\n",
       "\tPower & 2 &    24.781706 &  4.156434e-06\\\\\n",
       "\tSplit & 3 &   568.569343 & 6.558878e-123\\\\\n",
       "\\end{tabular}\n"
      ],
      "text/markdown": [
       "\n",
       "A anova: 10 × 3\n",
       "\n",
       "| <!--/--> | Df &lt;dbl&gt; | Chisq &lt;dbl&gt; | Pr(&gt;Chisq) &lt;dbl&gt; |\n",
       "|---|---|---|---|\n",
       "| (Intercept) | 1 | 13754.844880 |  0.000000e+00 |\n",
       "| Sex | 1 |    28.506097 |  9.340388e-08 |\n",
       "| Use | 1 |     0.210069 |  6.467133e-01 |\n",
       "| Fleet | 1 |    10.697531 |  1.072786e-03 |\n",
       "| Sport | 1 |     3.652900 |  5.597166e-02 |\n",
       "| Cover | 2 |    74.342939 |  7.188460e-17 |\n",
       "| Fuel | 1 |   143.315352 |  5.015118e-33 |\n",
       "| AgeCar | 3 |    57.500490 |  2.009408e-12 |\n",
       "| Power | 2 |    24.781706 |  4.156434e-06 |\n",
       "| Split | 3 |   568.569343 | 6.558878e-123 |\n",
       "\n"
      ],
      "text/plain": [
       "            Df Chisq        Pr(>Chisq)   \n",
       "(Intercept) 1  13754.844880  0.000000e+00\n",
       "Sex         1     28.506097  9.340388e-08\n",
       "Use         1      0.210069  6.467133e-01\n",
       "Fleet       1     10.697531  1.072786e-03\n",
       "Sport       1      3.652900  5.597166e-02\n",
       "Cover       2     74.342939  7.188460e-17\n",
       "Fuel        1    143.315352  5.015118e-33\n",
       "AgeCar      3     57.500490  2.009408e-12\n",
       "Power       2     24.781706  4.156434e-06\n",
       "Split       3    568.569343 6.558878e-123"
      ]
     },
     "metadata": {},
     "output_type": "display_data"
    },
    {
     "data": {
      "text/plain": [
       "\n",
       "Call:\n",
       "glm(formula = NbrClaims ~ offset(log(RiskExp)) + Sex + Use + \n",
       "    Fleet + Sport + Cover + Fuel + AgeCar + Power + Split, family = poisson(link = log), \n",
       "    data = DataFreq_train)\n",
       "\n",
       "Coefficients:\n",
       "                 Estimate Std. Error  z value Pr(>|z|)    \n",
       "(Intercept)     -2.178330   0.018574 -117.281  < 2e-16 ***\n",
       "SexFemale        0.094898   0.017774    5.339 9.34e-08 ***\n",
       "UseProfessional  0.016557   0.036124    0.458 0.646713    \n",
       "FleetYes        -0.156492   0.047846   -3.271 0.001073 ** \n",
       "SportYes         0.148824   0.077867    1.911 0.055972 .  \n",
       "CoverMTPL+      -0.156152   0.019157   -8.151 3.61e-16 ***\n",
       "CoverMTPL+++    -0.141172   0.027149   -5.200 1.99e-07 ***\n",
       "FuelGasoil       0.203043   0.016961   11.971  < 2e-16 ***\n",
       "AgeCar0-1        0.195294   0.037034    5.273 1.34e-07 ***\n",
       "AgeCar2-5       -0.071074   0.020165   -3.525 0.000424 ***\n",
       "AgeCar>10        0.002353   0.020801    0.113 0.909950    \n",
       "Power>110        0.191970   0.077721    2.470 0.013511 *  \n",
       "Power66-110      0.086097   0.018749    4.592 4.39e-06 ***\n",
       "SplitMonthly     0.407758   0.023677   17.221  < 2e-16 ***\n",
       "SplitThrice      0.524988   0.026501   19.810  < 2e-16 ***\n",
       "SplitTwice       0.215757   0.018661   11.562  < 2e-16 ***\n",
       "---\n",
       "Signif. codes:  0 '***' 0.001 '**' 0.01 '*' 0.05 '.' 0.1 ' ' 1\n",
       "\n",
       "(Dispersion parameter for poisson family taken to be 1)\n",
       "\n",
       "    Null deviance: 72532  on 131471  degrees of freedom\n",
       "Residual deviance: 71641  on 131456  degrees of freedom\n",
       "AIC: 102095\n",
       "\n",
       "Number of Fisher Scoring iterations: 6\n"
      ]
     },
     "metadata": {},
     "output_type": "display_data"
    }
   ],
   "source": [
    "GLM_Analysis<-glm(NbrClaims ~ offset(log(RiskExp))+Sex+Use+Fleet+Sport+Cover+Fuel+AgeCar\n",
    "                  +Power+Split,family=poisson(link=log), data=DataFreq_train)\n",
    "\n",
    "Anova(GLM_Analysis, test.statistic=\"Wald\",type=3,singular.ok=TRUE) ;\n",
    "\n",
    "summary(GLM_Analysis)"
   ]
  },
  {
   "cell_type": "markdown",
   "id": "c71e94f8-c6d3-4baa-864d-a4fb74a6ad2a",
   "metadata": {},
   "source": [
    "In the summary above you can retrieve the different statistics mentioned above. The Anova function enables you to perform a Wald test on the global feature, and not at a modality level. It is useful when some modalities are not really significant and you wonder if you should keep or not the feature as is.\n",
    "Here we have some feature with a p-value higher than our threshold (5%). The usual way to proceed is to remove features with high-value one by one, starting with the one with the highest p-value. It prevents you from removing a feature which has only high p-value because of collinearity with other not relevant features.\n",
    "That is what we are going to do now. We are going to run multiple GLMs and remove one feature at a time.\n",
    "We start with the variable 'Use', which has the highest p-value (64%) and thus can be removed from the study."
   ]
  },
  {
   "cell_type": "code",
   "execution_count": 20,
   "id": "b529a775-61df-4bf4-99ad-85701877003c",
   "metadata": {},
   "outputs": [
    {
     "name": "stderr",
     "output_type": "stream",
     "text": [
      "Warning message in printHypothesis(L, rhs, names(b)):\n",
      "\"one or more coefficients in the hypothesis include\n",
      "     arithmetic operators in their names;\n",
      "  the printed representation of the hypothesis will be omitted\"\n",
      "Warning message in printHypothesis(L, rhs, names(b)):\n",
      "\"one or more coefficients in the hypothesis include\n",
      "     arithmetic operators in their names;\n",
      "  the printed representation of the hypothesis will be omitted\"\n",
      "Warning message in printHypothesis(L, rhs, names(b)):\n",
      "\"one or more coefficients in the hypothesis include\n",
      "     arithmetic operators in their names;\n",
      "  the printed representation of the hypothesis will be omitted\"\n"
     ]
    },
    {
     "data": {
      "text/html": [
       "<table class=\"dataframe\">\n",
       "<caption>A anova: 9 × 3</caption>\n",
       "<thead>\n",
       "\t<tr><th></th><th scope=col>Df</th><th scope=col>Chisq</th><th scope=col>Pr(&gt;Chisq)</th></tr>\n",
       "\t<tr><th></th><th scope=col>&lt;dbl&gt;</th><th scope=col>&lt;dbl&gt;</th><th scope=col>&lt;dbl&gt;</th></tr>\n",
       "</thead>\n",
       "<tbody>\n",
       "\t<tr><th scope=row>(Intercept)</th><td>1</td><td>13778.395613</td><td> 0.000000e+00</td></tr>\n",
       "\t<tr><th scope=row>Sex</th><td>1</td><td>   28.458905</td><td> 9.570855e-08</td></tr>\n",
       "\t<tr><th scope=row>Fleet</th><td>1</td><td>   10.513406</td><td> 1.185116e-03</td></tr>\n",
       "\t<tr><th scope=row>Sport</th><td>1</td><td>    3.631565</td><td> 5.669347e-02</td></tr>\n",
       "\t<tr><th scope=row>Cover</th><td>2</td><td>   74.148844</td><td> 7.921055e-17</td></tr>\n",
       "\t<tr><th scope=row>Fuel</th><td>1</td><td>  144.789954</td><td> 2.387165e-33</td></tr>\n",
       "\t<tr><th scope=row>AgeCar</th><td>3</td><td>   57.399034</td><td> 2.112167e-12</td></tr>\n",
       "\t<tr><th scope=row>Power</th><td>2</td><td>   25.507026</td><td> 2.892142e-06</td></tr>\n",
       "\t<tr><th scope=row>Split</th><td>3</td><td>  568.360424</td><td>7.279744e-123</td></tr>\n",
       "</tbody>\n",
       "</table>\n"
      ],
      "text/latex": [
       "A anova: 9 × 3\n",
       "\\begin{tabular}{r|lll}\n",
       "  & Df & Chisq & Pr(>Chisq)\\\\\n",
       "  & <dbl> & <dbl> & <dbl>\\\\\n",
       "\\hline\n",
       "\t(Intercept) & 1 & 13778.395613 &  0.000000e+00\\\\\n",
       "\tSex & 1 &    28.458905 &  9.570855e-08\\\\\n",
       "\tFleet & 1 &    10.513406 &  1.185116e-03\\\\\n",
       "\tSport & 1 &     3.631565 &  5.669347e-02\\\\\n",
       "\tCover & 2 &    74.148844 &  7.921055e-17\\\\\n",
       "\tFuel & 1 &   144.789954 &  2.387165e-33\\\\\n",
       "\tAgeCar & 3 &    57.399034 &  2.112167e-12\\\\\n",
       "\tPower & 2 &    25.507026 &  2.892142e-06\\\\\n",
       "\tSplit & 3 &   568.360424 & 7.279744e-123\\\\\n",
       "\\end{tabular}\n"
      ],
      "text/markdown": [
       "\n",
       "A anova: 9 × 3\n",
       "\n",
       "| <!--/--> | Df &lt;dbl&gt; | Chisq &lt;dbl&gt; | Pr(&gt;Chisq) &lt;dbl&gt; |\n",
       "|---|---|---|---|\n",
       "| (Intercept) | 1 | 13778.395613 |  0.000000e+00 |\n",
       "| Sex | 1 |    28.458905 |  9.570855e-08 |\n",
       "| Fleet | 1 |    10.513406 |  1.185116e-03 |\n",
       "| Sport | 1 |     3.631565 |  5.669347e-02 |\n",
       "| Cover | 2 |    74.148844 |  7.921055e-17 |\n",
       "| Fuel | 1 |   144.789954 |  2.387165e-33 |\n",
       "| AgeCar | 3 |    57.399034 |  2.112167e-12 |\n",
       "| Power | 2 |    25.507026 |  2.892142e-06 |\n",
       "| Split | 3 |   568.360424 | 7.279744e-123 |\n",
       "\n"
      ],
      "text/plain": [
       "            Df Chisq        Pr(>Chisq)   \n",
       "(Intercept) 1  13778.395613  0.000000e+00\n",
       "Sex         1     28.458905  9.570855e-08\n",
       "Fleet       1     10.513406  1.185116e-03\n",
       "Sport       1      3.631565  5.669347e-02\n",
       "Cover       2     74.148844  7.921055e-17\n",
       "Fuel        1    144.789954  2.387165e-33\n",
       "AgeCar      3     57.399034  2.112167e-12\n",
       "Power       2     25.507026  2.892142e-06\n",
       "Split       3    568.360424 7.279744e-123"
      ]
     },
     "metadata": {},
     "output_type": "display_data"
    },
    {
     "data": {
      "text/plain": [
       "\n",
       "Call:\n",
       "glm(formula = NbrClaims ~ offset(log(RiskExp)) + Sex + Fleet + \n",
       "    Sport + Cover + Fuel + AgeCar + Power + Split, family = poisson(link = log), \n",
       "    data = DataFreq_train)\n",
       "\n",
       "Coefficients:\n",
       "              Estimate Std. Error  z value Pr(>|z|)    \n",
       "(Intercept)  -2.177947   0.018554 -117.381  < 2e-16 ***\n",
       "SexFemale     0.094814   0.017773    5.335 9.57e-08 ***\n",
       "FleetYes     -0.154470   0.047640   -3.242 0.001185 ** \n",
       "SportYes      0.148379   0.077862    1.906 0.056693 .  \n",
       "CoverMTPL+   -0.156014   0.019155   -8.145 3.80e-16 ***\n",
       "CoverMTPL+++ -0.140278   0.027078   -5.181 2.21e-07 ***\n",
       "FuelGasoil    0.203583   0.016919   12.033  < 2e-16 ***\n",
       "AgeCar0-1     0.195020   0.037030    5.266 1.39e-07 ***\n",
       "AgeCar2-5    -0.071050   0.020165   -3.523 0.000426 ***\n",
       "AgeCar>10     0.002337   0.020801    0.112 0.910530    \n",
       "Power>110     0.194204   0.077566    2.504 0.012290 *  \n",
       "Power66-110   0.086847   0.018676    4.650 3.32e-06 ***\n",
       "SplitMonthly  0.407587   0.023674   17.216  < 2e-16 ***\n",
       "SplitThrice   0.524876   0.026500   19.807  < 2e-16 ***\n",
       "SplitTwice    0.215470   0.018651   11.553  < 2e-16 ***\n",
       "---\n",
       "Signif. codes:  0 '***' 0.001 '**' 0.01 '*' 0.05 '.' 0.1 ' ' 1\n",
       "\n",
       "(Dispersion parameter for poisson family taken to be 1)\n",
       "\n",
       "    Null deviance: 72532  on 131471  degrees of freedom\n",
       "Residual deviance: 71642  on 131457  degrees of freedom\n",
       "AIC: 102094\n",
       "\n",
       "Number of Fisher Scoring iterations: 6\n"
      ]
     },
     "metadata": {},
     "output_type": "display_data"
    }
   ],
   "source": [
    "GLM_Analysis<-glm(NbrClaims ~ offset(log(RiskExp))+Sex+Fleet+Sport+Cover+Fuel+AgeCar\n",
    "                  +Power+Split,family=poisson(link=log), data=DataFreq_train)\n",
    "\n",
    "Anova(GLM_Analysis, test.statistic=\"Wald\",type=3,singular.ok=TRUE) ;\n",
    "\n",
    "summary(GLM_Analysis)"
   ]
  },
  {
   "cell_type": "code",
   "execution_count": 22,
   "id": "b75d5345-1a48-43b5-9404-f6ffb68986bf",
   "metadata": {},
   "outputs": [
    {
     "name": "stderr",
     "output_type": "stream",
     "text": [
      "Warning message in printHypothesis(L, rhs, names(b)):\n",
      "\"one or more coefficients in the hypothesis include\n",
      "     arithmetic operators in their names;\n",
      "  the printed representation of the hypothesis will be omitted\"\n",
      "Warning message in printHypothesis(L, rhs, names(b)):\n",
      "\"one or more coefficients in the hypothesis include\n",
      "     arithmetic operators in their names;\n",
      "  the printed representation of the hypothesis will be omitted\"\n",
      "Warning message in printHypothesis(L, rhs, names(b)):\n",
      "\"one or more coefficients in the hypothesis include\n",
      "     arithmetic operators in their names;\n",
      "  the printed representation of the hypothesis will be omitted\"\n"
     ]
    },
    {
     "data": {
      "text/html": [
       "<table class=\"dataframe\">\n",
       "<caption>A anova: 8 × 3</caption>\n",
       "<thead>\n",
       "\t<tr><th></th><th scope=col>Df</th><th scope=col>Chisq</th><th scope=col>Pr(&gt;Chisq)</th></tr>\n",
       "\t<tr><th></th><th scope=col>&lt;dbl&gt;</th><th scope=col>&lt;dbl&gt;</th><th scope=col>&lt;dbl&gt;</th></tr>\n",
       "</thead>\n",
       "<tbody>\n",
       "\t<tr><th scope=row>(Intercept)</th><td>1</td><td>13779.46742</td><td> 0.000000e+00</td></tr>\n",
       "\t<tr><th scope=row>Sex</th><td>1</td><td>   28.43931</td><td> 9.668200e-08</td></tr>\n",
       "\t<tr><th scope=row>Fleet</th><td>1</td><td>   10.52693</td><td> 1.176476e-03</td></tr>\n",
       "\t<tr><th scope=row>Cover</th><td>2</td><td>   74.54690</td><td> 6.491525e-17</td></tr>\n",
       "\t<tr><th scope=row>Fuel</th><td>1</td><td>  143.45115</td><td> 4.683707e-33</td></tr>\n",
       "\t<tr><th scope=row>AgeCar</th><td>3</td><td>   57.39592</td><td> 2.115407e-12</td></tr>\n",
       "\t<tr><th scope=row>Power</th><td>2</td><td>   32.10061</td><td> 1.070141e-07</td></tr>\n",
       "\t<tr><th scope=row>Split</th><td>3</td><td>  569.30370</td><td>4.546175e-123</td></tr>\n",
       "</tbody>\n",
       "</table>\n"
      ],
      "text/latex": [
       "A anova: 8 × 3\n",
       "\\begin{tabular}{r|lll}\n",
       "  & Df & Chisq & Pr(>Chisq)\\\\\n",
       "  & <dbl> & <dbl> & <dbl>\\\\\n",
       "\\hline\n",
       "\t(Intercept) & 1 & 13779.46742 &  0.000000e+00\\\\\n",
       "\tSex & 1 &    28.43931 &  9.668200e-08\\\\\n",
       "\tFleet & 1 &    10.52693 &  1.176476e-03\\\\\n",
       "\tCover & 2 &    74.54690 &  6.491525e-17\\\\\n",
       "\tFuel & 1 &   143.45115 &  4.683707e-33\\\\\n",
       "\tAgeCar & 3 &    57.39592 &  2.115407e-12\\\\\n",
       "\tPower & 2 &    32.10061 &  1.070141e-07\\\\\n",
       "\tSplit & 3 &   569.30370 & 4.546175e-123\\\\\n",
       "\\end{tabular}\n"
      ],
      "text/markdown": [
       "\n",
       "A anova: 8 × 3\n",
       "\n",
       "| <!--/--> | Df &lt;dbl&gt; | Chisq &lt;dbl&gt; | Pr(&gt;Chisq) &lt;dbl&gt; |\n",
       "|---|---|---|---|\n",
       "| (Intercept) | 1 | 13779.46742 |  0.000000e+00 |\n",
       "| Sex | 1 |    28.43931 |  9.668200e-08 |\n",
       "| Fleet | 1 |    10.52693 |  1.176476e-03 |\n",
       "| Cover | 2 |    74.54690 |  6.491525e-17 |\n",
       "| Fuel | 1 |   143.45115 |  4.683707e-33 |\n",
       "| AgeCar | 3 |    57.39592 |  2.115407e-12 |\n",
       "| Power | 2 |    32.10061 |  1.070141e-07 |\n",
       "| Split | 3 |   569.30370 | 4.546175e-123 |\n",
       "\n"
      ],
      "text/plain": [
       "            Df Chisq       Pr(>Chisq)   \n",
       "(Intercept) 1  13779.46742  0.000000e+00\n",
       "Sex         1     28.43931  9.668200e-08\n",
       "Fleet       1     10.52693  1.176476e-03\n",
       "Cover       2     74.54690  6.491525e-17\n",
       "Fuel        1    143.45115  4.683707e-33\n",
       "AgeCar      3     57.39592  2.115407e-12\n",
       "Power       2     32.10061  1.070141e-07\n",
       "Split       3    569.30370 4.546175e-123"
      ]
     },
     "metadata": {},
     "output_type": "display_data"
    },
    {
     "data": {
      "text/plain": [
       "\n",
       "Call:\n",
       "glm(formula = NbrClaims ~ offset(log(RiskExp)) + Sex + Fleet + \n",
       "    Cover + Fuel + AgeCar + Power + Split, family = poisson(link = log), \n",
       "    data = DataFreq_train)\n",
       "\n",
       "Coefficients:\n",
       "              Estimate Std. Error  z value Pr(>|z|)    \n",
       "(Intercept)  -2.177139   0.018547 -117.386  < 2e-16 ***\n",
       "SexFemale     0.094782   0.017773    5.333 9.67e-08 ***\n",
       "FleetYes     -0.154570   0.047640   -3.245 0.001176 ** \n",
       "CoverMTPL+   -0.156304   0.019155   -8.160 3.35e-16 ***\n",
       "CoverMTPL+++ -0.141065   0.027076   -5.210 1.89e-07 ***\n",
       "FuelGasoil    0.202478   0.016905   11.977  < 2e-16 ***\n",
       "AgeCar0-1     0.193514   0.037021    5.227 1.72e-07 ***\n",
       "AgeCar2-5    -0.072048   0.020159   -3.574 0.000351 ***\n",
       "AgeCar>10     0.002013   0.020801    0.097 0.922903    \n",
       "Power>110     0.237845   0.073734    3.226 0.001257 ** \n",
       "Power66-110   0.091009   0.018531    4.911 9.05e-07 ***\n",
       "SplitMonthly  0.406441   0.023666   17.174  < 2e-16 ***\n",
       "SplitThrice   0.526416   0.026486   19.875  < 2e-16 ***\n",
       "SplitTwice    0.216217   0.018647   11.595  < 2e-16 ***\n",
       "---\n",
       "Signif. codes:  0 '***' 0.001 '**' 0.01 '*' 0.05 '.' 0.1 ' ' 1\n",
       "\n",
       "(Dispersion parameter for poisson family taken to be 1)\n",
       "\n",
       "    Null deviance: 72532  on 131471  degrees of freedom\n",
       "Residual deviance: 71645  on 131458  degrees of freedom\n",
       "AIC: 102095\n",
       "\n",
       "Number of Fisher Scoring iterations: 6\n"
      ]
     },
     "metadata": {},
     "output_type": "display_data"
    }
   ],
   "source": [
    "#Now we see that 'Sport' has the highest :p-value (6%) and exceeds our threshold, so we remove it as well.\n",
    "GLM_Analysis<-glm(NbrClaims ~ offset(log(RiskExp))+Sex+Fleet+Cover+Fuel+AgeCar\n",
    "                  +Power+Split,family=poisson(link=log), data=DataFreq_train)\n",
    "\n",
    "Anova(GLM_Analysis, test.statistic=\"Wald\",type=3,singular.ok=TRUE) ;\n",
    "\n",
    "summary(GLM_Analysis)"
   ]
  },
  {
   "cell_type": "markdown",
   "id": "4463fbbb-09d8-4bf9-831f-7f0c551787e4",
   "metadata": {},
   "source": [
    "With the Type 3 analysis (first analysis displayed), we observe that all the variables are significant; this is because the \n",
    "p-value presented under the column Pr(>Chisq)is way under our threshold for all features. So, with a confidence level of 95% we can say that all these variable appear as relevant (aka their β coefficient is not 0 => they have an impact on the final prediction).\n",
    "\n",
    "However, all the modalities are not significant and we will have a first look at the confidence interval around the predictions. Indeed, for a model to be performant, it should only have relevant and significant modalities. Thus, some modalities can be grouped with other ones if their impact is similar."
   ]
  },
  {
   "cell_type": "code",
   "execution_count": 23,
   "id": "e95764fc-fc2b-44d3-862a-910ba60b44b3",
   "metadata": {},
   "outputs": [
    {
     "data": {
      "text/html": [
       "<table class=\"dataframe\">\n",
       "<caption>A matrix: 14 × 2 of type dbl</caption>\n",
       "<thead>\n",
       "\t<tr><th></th><th scope=col>2.5 %</th><th scope=col>97.5 %</th></tr>\n",
       "</thead>\n",
       "<tbody>\n",
       "\t<tr><th scope=row>(Intercept)</th><td>-2.21348982</td><td>-2.14078755</td></tr>\n",
       "\t<tr><th scope=row>SexFemale</th><td> 0.05994730</td><td> 0.12961729</td></tr>\n",
       "\t<tr><th scope=row>FleetYes</th><td>-0.24794387</td><td>-0.06119691</td></tr>\n",
       "\t<tr><th scope=row>CoverMTPL+</th><td>-0.19384648</td><td>-0.11876078</td></tr>\n",
       "\t<tr><th scope=row>CoverMTPL+++</th><td>-0.19413254</td><td>-0.08799816</td></tr>\n",
       "\t<tr><th scope=row>FuelGasoil</th><td> 0.16934402</td><td> 0.23561204</td></tr>\n",
       "\t<tr><th scope=row>AgeCar0-1</th><td> 0.12095383</td><td> 0.26607366</td></tr>\n",
       "\t<tr><th scope=row>AgeCar2-5</th><td>-0.11155797</td><td>-0.03253802</td></tr>\n",
       "\t<tr><th scope=row>AgeCar&gt;10</th><td>-0.03875545</td><td> 0.04278150</td></tr>\n",
       "\t<tr><th scope=row>Power&gt;110</th><td> 0.09332940</td><td> 0.38235979</td></tr>\n",
       "\t<tr><th scope=row>Power66-110</th><td> 0.05468920</td><td> 0.12732935</td></tr>\n",
       "\t<tr><th scope=row>SplitMonthly</th><td> 0.36005704</td><td> 0.45282435</td></tr>\n",
       "\t<tr><th scope=row>SplitThrice</th><td> 0.47450312</td><td> 0.57832800</td></tr>\n",
       "\t<tr><th scope=row>SplitTwice</th><td> 0.17967037</td><td> 0.25276457</td></tr>\n",
       "</tbody>\n",
       "</table>\n"
      ],
      "text/latex": [
       "A matrix: 14 × 2 of type dbl\n",
       "\\begin{tabular}{r|ll}\n",
       "  & 2.5 \\% & 97.5 \\%\\\\\n",
       "\\hline\n",
       "\t(Intercept) & -2.21348982 & -2.14078755\\\\\n",
       "\tSexFemale &  0.05994730 &  0.12961729\\\\\n",
       "\tFleetYes & -0.24794387 & -0.06119691\\\\\n",
       "\tCoverMTPL+ & -0.19384648 & -0.11876078\\\\\n",
       "\tCoverMTPL+++ & -0.19413254 & -0.08799816\\\\\n",
       "\tFuelGasoil &  0.16934402 &  0.23561204\\\\\n",
       "\tAgeCar0-1 &  0.12095383 &  0.26607366\\\\\n",
       "\tAgeCar2-5 & -0.11155797 & -0.03253802\\\\\n",
       "\tAgeCar>10 & -0.03875545 &  0.04278150\\\\\n",
       "\tPower>110 &  0.09332940 &  0.38235979\\\\\n",
       "\tPower66-110 &  0.05468920 &  0.12732935\\\\\n",
       "\tSplitMonthly &  0.36005704 &  0.45282435\\\\\n",
       "\tSplitThrice &  0.47450312 &  0.57832800\\\\\n",
       "\tSplitTwice &  0.17967037 &  0.25276457\\\\\n",
       "\\end{tabular}\n"
      ],
      "text/markdown": [
       "\n",
       "A matrix: 14 × 2 of type dbl\n",
       "\n",
       "| <!--/--> | 2.5 % | 97.5 % |\n",
       "|---|---|---|\n",
       "| (Intercept) | -2.21348982 | -2.14078755 |\n",
       "| SexFemale |  0.05994730 |  0.12961729 |\n",
       "| FleetYes | -0.24794387 | -0.06119691 |\n",
       "| CoverMTPL+ | -0.19384648 | -0.11876078 |\n",
       "| CoverMTPL+++ | -0.19413254 | -0.08799816 |\n",
       "| FuelGasoil |  0.16934402 |  0.23561204 |\n",
       "| AgeCar0-1 |  0.12095383 |  0.26607366 |\n",
       "| AgeCar2-5 | -0.11155797 | -0.03253802 |\n",
       "| AgeCar&gt;10 | -0.03875545 |  0.04278150 |\n",
       "| Power&gt;110 |  0.09332940 |  0.38235979 |\n",
       "| Power66-110 |  0.05468920 |  0.12732935 |\n",
       "| SplitMonthly |  0.36005704 |  0.45282435 |\n",
       "| SplitThrice |  0.47450312 |  0.57832800 |\n",
       "| SplitTwice |  0.17967037 |  0.25276457 |\n",
       "\n"
      ],
      "text/plain": [
       "             2.5 %       97.5 %     \n",
       "(Intercept)  -2.21348982 -2.14078755\n",
       "SexFemale     0.05994730  0.12961729\n",
       "FleetYes     -0.24794387 -0.06119691\n",
       "CoverMTPL+   -0.19384648 -0.11876078\n",
       "CoverMTPL+++ -0.19413254 -0.08799816\n",
       "FuelGasoil    0.16934402  0.23561204\n",
       "AgeCar0-1     0.12095383  0.26607366\n",
       "AgeCar2-5    -0.11155797 -0.03253802\n",
       "AgeCar>10    -0.03875545  0.04278150\n",
       "Power>110     0.09332940  0.38235979\n",
       "Power66-110   0.05468920  0.12732935\n",
       "SplitMonthly  0.36005704  0.45282435\n",
       "SplitThrice   0.47450312  0.57832800\n",
       "SplitTwice    0.17967037  0.25276457"
      ]
     },
     "metadata": {},
     "output_type": "display_data"
    }
   ],
   "source": [
    "# We use the confint.default function of the GLM to compute confindence intervals around the prediction\n",
    "# It means that the true value for the parameter should lie (with a 95% confidence level) within this interval\n",
    "# The higher the confidence level, the larger the interval \n",
    "confint.default(GLM_Analysis,level = 0.95)   \n",
    "\n",
    "# It is particularly useful to note interval which include the value 0 as it means that the model do not know if the impact\n",
    "# of this particular modality/feature is positive or negative -> in other words, this feature is not good in helping"
   ]
  },
  {
   "cell_type": "markdown",
   "id": "edad22db-0386-4286-8f50-d710699b0f91",
   "metadata": {},
   "source": [
    "The following remarks can be done:\n",
    "\n",
    "* Variable Cover: we can try to gather MTPL+ and MTPL+++ as the predicted value of the first one is in the confidence interval of the other one\n",
    "* Variable Split: there is no overlapping of the confidence intervals\n",
    "* Variable Power: 66-110 and >110 are overlapping\n",
    "* Variable AgeCar: some modalities are not significative --> we can try to gather them\n",
    "\n",
    "We can also use the fit.contrast function as to test the signigicance of individual modalities for potential further groupings. fit.contrast(GLM_Analysis,\"AgeCar\",c(-1,1,0,0)) test if the modalities \"6-10\" and \">10\" should be gathered."
   ]
  },
  {
   "cell_type": "code",
   "execution_count": 25,
   "id": "4cf302fe-f8d2-4569-a6cc-d3b6faa01077",
   "metadata": {},
   "outputs": [
    {
     "data": {
      "text/plain": [
       "                     Estimate Std. Error   z value     Pr(>|z|)\n",
       "Cover c=( -1 1 0 ) -0.1563036 0.01915487 -8.159995 3.350376e-16"
      ]
     },
     "metadata": {},
     "output_type": "display_data"
    },
    {
     "data": {
      "text/plain": [
       "                     Estimate Std. Error   z value     Pr(>|z|)\n",
       "Cover c=( -1 0 1 ) -0.1410654 0.02707559 -5.210055 1.887842e-07"
      ]
     },
     "metadata": {},
     "output_type": "display_data"
    },
    {
     "data": {
      "text/plain": [
       "                     Estimate Std. Error   z value  Pr(>|z|)\n",
       "Cover c=( 0 -1 1 ) 0.01523828 0.02790613 0.5460549 0.5850282"
      ]
     },
     "metadata": {},
     "output_type": "display_data"
    },
    {
     "data": {
      "text/plain": [
       "                    Estimate Std. Error  z value    Pr(>|z|)\n",
       "Power c=( -1 1 0 ) 0.2378446  0.0737336 3.225729 0.001256523"
      ]
     },
     "metadata": {},
     "output_type": "display_data"
    },
    {
     "data": {
      "text/plain": [
       "                     Estimate Std. Error  z value     Pr(>|z|)\n",
       "Power c=( -1 0 1 ) 0.09100927 0.01853099 4.911193 9.052377e-07"
      ]
     },
     "metadata": {},
     "output_type": "display_data"
    },
    {
     "data": {
      "text/plain": [
       "                     Estimate Std. Error   z value   Pr(>|z|)\n",
       "Power c=( 0 -1 1 ) -0.1468353 0.07450891 -1.970708 0.04875727"
      ]
     },
     "metadata": {},
     "output_type": "display_data"
    },
    {
     "data": {
      "text/plain": [
       "                       Estimate Std. Error  z value     Pr(>|z|)\n",
       "AgeCar c=( -1 1 0 0 ) 0.1935137 0.03702105 5.227128 1.721633e-07"
      ]
     },
     "metadata": {},
     "output_type": "display_data"
    },
    {
     "data": {
      "text/plain": [
       "                       Estimate Std. Error   z value     Pr(>|z|)\n",
       "AgeCar c=( -1 0 1 0 ) -0.072048 0.02015852 -3.574072 0.0003514728"
      ]
     },
     "metadata": {},
     "output_type": "display_data"
    },
    {
     "data": {
      "text/plain": [
       "                         Estimate Std. Error    z value  Pr(>|z|)\n",
       "AgeCar c=( -1 0 0 1 ) 0.002013023 0.02080062 0.09677707 0.9229034"
      ]
     },
     "metadata": {},
     "output_type": "display_data"
    },
    {
     "data": {
      "text/plain": [
       "                        Estimate Std. Error   z value     Pr(>|z|)\n",
       "AgeCar c=( 0 -1 1 0 ) -0.2655617 0.03633246 -7.309214 2.687104e-13"
      ]
     },
     "metadata": {},
     "output_type": "display_data"
    },
    {
     "data": {
      "text/plain": [
       "                        Estimate Std. Error   z value     Pr(>|z|)\n",
       "AgeCar c=( 0 -1 0 1 ) -0.1915007 0.03941289 -4.858834 1.180788e-06"
      ]
     },
     "metadata": {},
     "output_type": "display_data"
    },
    {
     "data": {
      "text/plain": [
       "                        Estimate Std. Error  z value    Pr(>|z|)\n",
       "AgeCar c=( 0 0 -1 1 ) 0.07406102 0.02418722 3.061989 0.002198713"
      ]
     },
     "metadata": {},
     "output_type": "display_data"
    },
    {
     "data": {
      "text/plain": [
       "                      Estimate Std. Error  z value    Pr(>|z|)\n",
       "Split c=( -1 1 0 0 ) 0.4064407 0.02366556 17.17435 4.13256e-66"
      ]
     },
     "metadata": {},
     "output_type": "display_data"
    },
    {
     "data": {
      "text/plain": [
       "                      Estimate Std. Error  z value     Pr(>|z|)\n",
       "Split c=( -1 0 1 0 ) 0.5264156 0.02648643 19.87492 6.709446e-88"
      ]
     },
     "metadata": {},
     "output_type": "display_data"
    },
    {
     "data": {
      "text/plain": [
       "                      Estimate Std. Error  z value     Pr(>|z|)\n",
       "Split c=( -1 0 0 1 ) 0.2162175 0.01864682 11.59541 4.347946e-31"
      ]
     },
     "metadata": {},
     "output_type": "display_data"
    },
    {
     "data": {
      "text/plain": [
       "                      Estimate Std. Error  z value     Pr(>|z|)\n",
       "Split c=( 0 -1 1 0 ) 0.1199749 0.03118842 3.846776 0.0001196824"
      ]
     },
     "metadata": {},
     "output_type": "display_data"
    },
    {
     "data": {
      "text/plain": [
       "                       Estimate Std. Error   z value     Pr(>|z|)\n",
       "Split c=( 0 -1 0 1 ) -0.1902232 0.02495711 -7.622007 2.497624e-14"
      ]
     },
     "metadata": {},
     "output_type": "display_data"
    },
    {
     "data": {
      "text/plain": [
       "                       Estimate Std. Error   z value     Pr(>|z|)\n",
       "Split c=( 0 0 -1 1 ) -0.3101981 0.02758278 -11.24608 2.421186e-29"
      ]
     },
     "metadata": {},
     "output_type": "display_data"
    }
   ],
   "source": [
    "fit.contrast(GLM_Analysis,\"Cover\",c(-1,1,0)) ;\n",
    "fit.contrast(GLM_Analysis,\"Cover\",c(-1,0,1)) ;\n",
    "fit.contrast(GLM_Analysis,\"Cover\",c(0,-1,1)) ;\n",
    " \n",
    "fit.contrast(GLM_Analysis,\"Power\",c(-1,1,0)) ;\n",
    "fit.contrast(GLM_Analysis,\"Power\",c(-1,0,1)) ;\n",
    "fit.contrast(GLM_Analysis,\"Power\",c(0,-1,1)) ;\n",
    "\n",
    "fit.contrast(GLM_Analysis,\"AgeCar\",c(-1,1,0,0)) ;\n",
    "fit.contrast(GLM_Analysis,\"AgeCar\",c(-1,0,1,0)) ;\n",
    "fit.contrast(GLM_Analysis,\"AgeCar\",c(-1,0,0,1)) ;\n",
    "fit.contrast(GLM_Analysis,\"AgeCar\",c(0,-1,1,0)) ;\n",
    "fit.contrast(GLM_Analysis,\"AgeCar\",c(0,-1,0,1)) ;\n",
    "fit.contrast(GLM_Analysis,\"AgeCar\",c(0,0,-1,1)) ;\n",
    "\n",
    "fit.contrast(GLM_Analysis,\"Split\",c(-1,1,0,0)) \n",
    "fit.contrast(GLM_Analysis,\"Split\",c(-1,0,1,0))\n",
    "fit.contrast(GLM_Analysis,\"Split\",c(-1,0,0,1))\n",
    "fit.contrast(GLM_Analysis,\"Split\",c(0,-1,1,0))\n",
    "fit.contrast(GLM_Analysis,\"Split\",c(0,-1,0,1))\n",
    "fit.contrast(GLM_Analysis,\"Split\",c(0,0,-1,1))"
   ]
  },
  {
   "cell_type": "code",
   "execution_count": 26,
   "id": "538c1ffd-e591-47db-a764-fefde8396a8d",
   "metadata": {},
   "outputs": [
    {
     "data": {
      "text/html": [
       "<style>\n",
       ".list-inline {list-style: none; margin:0; padding: 0}\n",
       ".list-inline>li {display: inline-block}\n",
       ".list-inline>li:not(:last-child)::after {content: \"\\00b7\"; padding: 0 .5ex}\n",
       "</style>\n",
       "<ol class=list-inline><li>'6-10'</li><li>'0-1'</li><li>'2-5'</li><li>'&gt;10'</li></ol>\n"
      ],
      "text/latex": [
       "\\begin{enumerate*}\n",
       "\\item '6-10'\n",
       "\\item '0-1'\n",
       "\\item '2-5'\n",
       "\\item '>10'\n",
       "\\end{enumerate*}\n"
      ],
      "text/markdown": [
       "1. '6-10'\n",
       "2. '0-1'\n",
       "3. '2-5'\n",
       "4. '&gt;10'\n",
       "\n",
       "\n"
      ],
      "text/plain": [
       "[1] \"6-10\" \"0-1\"  \"2-5\"  \">10\" "
      ]
     },
     "metadata": {},
     "output_type": "display_data"
    },
    {
     "name": "stderr",
     "output_type": "stream",
     "text": [
      "Warning message in printHypothesis(L, rhs, names(b)):\n",
      "\"one or more coefficients in the hypothesis include\n",
      "     arithmetic operators in their names;\n",
      "  the printed representation of the hypothesis will be omitted\"\n",
      "Warning message in printHypothesis(L, rhs, names(b)):\n",
      "\"one or more coefficients in the hypothesis include\n",
      "     arithmetic operators in their names;\n",
      "  the printed representation of the hypothesis will be omitted\"\n",
      "Warning message in printHypothesis(L, rhs, names(b)):\n",
      "\"one or more coefficients in the hypothesis include\n",
      "     arithmetic operators in their names;\n",
      "  the printed representation of the hypothesis will be omitted\"\n"
     ]
    },
    {
     "data": {
      "text/html": [
       "<table class=\"dataframe\">\n",
       "<caption>A anova: 8 × 3</caption>\n",
       "<thead>\n",
       "\t<tr><th></th><th scope=col>Df</th><th scope=col>Chisq</th><th scope=col>Pr(&gt;Chisq)</th></tr>\n",
       "\t<tr><th></th><th scope=col>&lt;dbl&gt;</th><th scope=col>&lt;dbl&gt;</th><th scope=col>&lt;dbl&gt;</th></tr>\n",
       "</thead>\n",
       "<tbody>\n",
       "\t<tr><th scope=row>(Intercept)</th><td>1</td><td>17359.76038</td><td> 0.000000e+00</td></tr>\n",
       "\t<tr><th scope=row>Sex</th><td>1</td><td>   28.44461</td><td> 9.641763e-08</td></tr>\n",
       "\t<tr><th scope=row>Fleet</th><td>1</td><td>   10.53322</td><td> 1.172476e-03</td></tr>\n",
       "\t<tr><th scope=row>Cover</th><td>2</td><td>   77.42605</td><td> 1.538677e-17</td></tr>\n",
       "\t<tr><th scope=row>Fuel</th><td>1</td><td>  143.81645</td><td> 3.896925e-33</td></tr>\n",
       "\t<tr><th scope=row>AgeCar</th><td>2</td><td>   57.38675</td><td> 3.456411e-13</td></tr>\n",
       "\t<tr><th scope=row>Power</th><td>2</td><td>   32.19377</td><td> 1.021439e-07</td></tr>\n",
       "\t<tr><th scope=row>Split</th><td>3</td><td>  571.55416</td><td>1.478487e-123</td></tr>\n",
       "</tbody>\n",
       "</table>\n"
      ],
      "text/latex": [
       "A anova: 8 × 3\n",
       "\\begin{tabular}{r|lll}\n",
       "  & Df & Chisq & Pr(>Chisq)\\\\\n",
       "  & <dbl> & <dbl> & <dbl>\\\\\n",
       "\\hline\n",
       "\t(Intercept) & 1 & 17359.76038 &  0.000000e+00\\\\\n",
       "\tSex & 1 &    28.44461 &  9.641763e-08\\\\\n",
       "\tFleet & 1 &    10.53322 &  1.172476e-03\\\\\n",
       "\tCover & 2 &    77.42605 &  1.538677e-17\\\\\n",
       "\tFuel & 1 &   143.81645 &  3.896925e-33\\\\\n",
       "\tAgeCar & 2 &    57.38675 &  3.456411e-13\\\\\n",
       "\tPower & 2 &    32.19377 &  1.021439e-07\\\\\n",
       "\tSplit & 3 &   571.55416 & 1.478487e-123\\\\\n",
       "\\end{tabular}\n"
      ],
      "text/markdown": [
       "\n",
       "A anova: 8 × 3\n",
       "\n",
       "| <!--/--> | Df &lt;dbl&gt; | Chisq &lt;dbl&gt; | Pr(&gt;Chisq) &lt;dbl&gt; |\n",
       "|---|---|---|---|\n",
       "| (Intercept) | 1 | 17359.76038 |  0.000000e+00 |\n",
       "| Sex | 1 |    28.44461 |  9.641763e-08 |\n",
       "| Fleet | 1 |    10.53322 |  1.172476e-03 |\n",
       "| Cover | 2 |    77.42605 |  1.538677e-17 |\n",
       "| Fuel | 1 |   143.81645 |  3.896925e-33 |\n",
       "| AgeCar | 2 |    57.38675 |  3.456411e-13 |\n",
       "| Power | 2 |    32.19377 |  1.021439e-07 |\n",
       "| Split | 3 |   571.55416 | 1.478487e-123 |\n",
       "\n"
      ],
      "text/plain": [
       "            Df Chisq       Pr(>Chisq)   \n",
       "(Intercept) 1  17359.76038  0.000000e+00\n",
       "Sex         1     28.44461  9.641763e-08\n",
       "Fleet       1     10.53322  1.172476e-03\n",
       "Cover       2     77.42605  1.538677e-17\n",
       "Fuel        1    143.81645  3.896925e-33\n",
       "AgeCar      2     57.38675  3.456411e-13\n",
       "Power       2     32.19377  1.021439e-07\n",
       "Split       3    571.55416 1.478487e-123"
      ]
     },
     "metadata": {},
     "output_type": "display_data"
    },
    {
     "data": {
      "text/plain": [
       "\n",
       "Call:\n",
       "glm(formula = NbrClaims ~ offset(log(RiskExp)) + Sex + Fleet + \n",
       "    Cover + Fuel + AgeCar + Power + Split, family = poisson(link = log), \n",
       "    data = DataFreq_train)\n",
       "\n",
       "Coefficients:\n",
       "             Estimate Std. Error  z value Pr(>|z|)    \n",
       "(Intercept)  -2.17632    0.01652 -131.756  < 2e-16 ***\n",
       "SexFemale     0.09479    0.01777    5.333 9.64e-08 ***\n",
       "FleetYes     -0.15461    0.04764   -3.245 0.001172 ** \n",
       "CoverMTPL+   -0.15664    0.01883   -8.318  < 2e-16 ***\n",
       "CoverMTPL+++ -0.14128    0.02698   -5.236 1.64e-07 ***\n",
       "FuelGasoil    0.20238    0.01688   11.992  < 2e-16 ***\n",
       "AgeCar0-1     0.19293    0.03653    5.281 1.28e-07 ***\n",
       "AgeCar2-5    -0.07264    0.01921   -3.781 0.000156 ***\n",
       "Power>110     0.23771    0.07372    3.224 0.001262 ** \n",
       "Power66-110   0.09087    0.01848    4.918 8.72e-07 ***\n",
       "SplitMonthly  0.40649    0.02366   17.181  < 2e-16 ***\n",
       "SplitThrice   0.52658    0.02643   19.920  < 2e-16 ***\n",
       "SplitTwice    0.21628    0.01864   11.606  < 2e-16 ***\n",
       "---\n",
       "Signif. codes:  0 '***' 0.001 '**' 0.01 '*' 0.05 '.' 0.1 ' ' 1\n",
       "\n",
       "(Dispersion parameter for poisson family taken to be 1)\n",
       "\n",
       "    Null deviance: 72532  on 131471  degrees of freedom\n",
       "Residual deviance: 71645  on 131459  degrees of freedom\n",
       "AIC: 102093\n",
       "\n",
       "Number of Fisher Scoring iterations: 6\n"
      ]
     },
     "metadata": {},
     "output_type": "display_data"
    }
   ],
   "source": [
    "levels(DataFreq_train[[\"AgeCar\"]])  ;\n",
    "\n",
    "DataFreq_train[[\"AgeCar\"]] <- with(DataFreq_train, \n",
    "                                       ifelse(AgeCar==\"2-5\",\"2-5\",\n",
    "                                              ifelse(AgeCar == \"0-1\", \"0-1\", \">5\")))\n",
    "DataFreq_train[[\"AgeCar\"]] <-as.factor(DataFreq_train[[\"AgeCar\"]]) \n",
    "\n",
    "# Do not forget to set the reference level as it was set before !\n",
    "DataFreq_train[[\"AgeCar\"]] <- fct_relevel(DataFreq_train[[\"AgeCar\"]], \">5\")\n",
    "\n",
    "# Now we can run once again a GLM analysis on our 'updated' data\n",
    "\n",
    "GLM_Analysis<-glm(NbrClaims ~ offset(log(RiskExp))+Sex+Fleet+Cover+Fuel+AgeCar\n",
    "                  +Power+Split,family=poisson(link=log), data=DataFreq_train)\n",
    "\n",
    "Anova(GLM_Analysis, test.statistic=\"Wald\",type=3,singular.ok=TRUE) ;\n",
    "\n",
    "summary(GLM_Analysis)"
   ]
  },
  {
   "cell_type": "code",
   "execution_count": 27,
   "id": "f44f6a48-ac68-46a3-9ec8-3f59198125fc",
   "metadata": {},
   "outputs": [],
   "source": [
    "#We then redo the same process and further try to perform some groupings:\n",
    "# Other gatherings? -> Same step as above : if you want to see the output, just remove the \"#\" at the beginning of each line\n",
    "#fit.contrast(GLM_Analysis,\"Cover\",c(-1,1,0));\n",
    "#fit.contrast(GLM_Analysis,\"Cover\",c(-1,0,1));\n",
    "#fit.contrast(GLM_Analysis,\"Cover\",c(0,-1,1));\n",
    "\n",
    "#fit.contrast(GLM_Analysis,\"Power\",c(-1,1,0));\n",
    "#fit.contrast(GLM_Analysis,\"Power\",c(-1,0,1));\n",
    "#fit.contrast(GLM_Analysis,\"Power\",c(0,-1,1));\n",
    "\n",
    "#fit.contrast(GLM_Analysis,\"AgeCar\",c(-1,1,0));\n",
    "#fit.contrast(GLM_Analysis,\"AgeCar\",c(-1,0,1));\n",
    "#fit.contrast(GLM_Analysis,\"AgeCar\",c(0,-1,1));\n",
    "\n",
    "#fit.contrast(GLM_Analysis,\"Split\",c(-1,1,0,0)) \n",
    "#fit.contrast(GLM_Analysis,\"Split\",c(-1,0,1,0))\n",
    "#fit.contrast(GLM_Analysis,\"Split\",c(-1,0,0,1))\n",
    "#fit.contrast(GLM_Analysis,\"Split\",c(0,-1,1,0))\n",
    "#fit.contrast(GLM_Analysis,\"Split\",c(0,-1,0,1))\n",
    "#fit.contrast(GLM_Analysis,\"Split\",c(0,0,-1,1))\n"
   ]
  },
  {
   "cell_type": "markdown",
   "id": "1401a128-b611-4cfd-8815-9755ad4828e9",
   "metadata": {},
   "source": [
    "The modalities \"MTPL+\" and \"MTPL+++\" of \"Cover\" should be gathered as (\"More\") as the p-value equals 58%"
   ]
  },
  {
   "cell_type": "code",
   "execution_count": 28,
   "id": "33c23ecc-65d2-4898-85cf-c1c27e29a8c9",
   "metadata": {},
   "outputs": [
    {
     "data": {
      "text/html": [
       "<style>\n",
       ".list-inline {list-style: none; margin:0; padding: 0}\n",
       ".list-inline>li {display: inline-block}\n",
       ".list-inline>li:not(:last-child)::after {content: \"\\00b7\"; padding: 0 .5ex}\n",
       "</style>\n",
       "<ol class=list-inline><li>'MTPL'</li><li>'MTPL+'</li><li>'MTPL+++'</li></ol>\n"
      ],
      "text/latex": [
       "\\begin{enumerate*}\n",
       "\\item 'MTPL'\n",
       "\\item 'MTPL+'\n",
       "\\item 'MTPL+++'\n",
       "\\end{enumerate*}\n"
      ],
      "text/markdown": [
       "1. 'MTPL'\n",
       "2. 'MTPL+'\n",
       "3. 'MTPL+++'\n",
       "\n",
       "\n"
      ],
      "text/plain": [
       "[1] \"MTPL\"    \"MTPL+\"   \"MTPL+++\""
      ]
     },
     "metadata": {},
     "output_type": "display_data"
    },
    {
     "name": "stderr",
     "output_type": "stream",
     "text": [
      "Warning message in printHypothesis(L, rhs, names(b)):\n",
      "\"one or more coefficients in the hypothesis include\n",
      "     arithmetic operators in their names;\n",
      "  the printed representation of the hypothesis will be omitted\"\n",
      "Warning message in printHypothesis(L, rhs, names(b)):\n",
      "\"one or more coefficients in the hypothesis include\n",
      "     arithmetic operators in their names;\n",
      "  the printed representation of the hypothesis will be omitted\"\n"
     ]
    },
    {
     "data": {
      "text/html": [
       "<table class=\"dataframe\">\n",
       "<caption>A anova: 8 × 3</caption>\n",
       "<thead>\n",
       "\t<tr><th></th><th scope=col>Df</th><th scope=col>Chisq</th><th scope=col>Pr(&gt;Chisq)</th></tr>\n",
       "\t<tr><th></th><th scope=col>&lt;dbl&gt;</th><th scope=col>&lt;dbl&gt;</th><th scope=col>&lt;dbl&gt;</th></tr>\n",
       "</thead>\n",
       "<tbody>\n",
       "\t<tr><th scope=row>(Intercept)</th><td>1</td><td>17593.77389</td><td> 0.000000e+00</td></tr>\n",
       "\t<tr><th scope=row>Sex</th><td>1</td><td>   28.58280</td><td> 8.977619e-08</td></tr>\n",
       "\t<tr><th scope=row>Fleet</th><td>1</td><td>   10.39530</td><td> 1.263367e-03</td></tr>\n",
       "\t<tr><th scope=row>Cover</th><td>1</td><td>   77.22576</td><td> 1.524916e-18</td></tr>\n",
       "\t<tr><th scope=row>Fuel</th><td>1</td><td>  144.69247</td><td> 2.507238e-33</td></tr>\n",
       "\t<tr><th scope=row>AgeCar</th><td>2</td><td>   58.09543</td><td> 2.425140e-13</td></tr>\n",
       "\t<tr><th scope=row>Power</th><td>2</td><td>   32.86314</td><td> 7.309043e-08</td></tr>\n",
       "\t<tr><th scope=row>Split</th><td>3</td><td>  574.34632</td><td>3.669116e-124</td></tr>\n",
       "</tbody>\n",
       "</table>\n"
      ],
      "text/latex": [
       "A anova: 8 × 3\n",
       "\\begin{tabular}{r|lll}\n",
       "  & Df & Chisq & Pr(>Chisq)\\\\\n",
       "  & <dbl> & <dbl> & <dbl>\\\\\n",
       "\\hline\n",
       "\t(Intercept) & 1 & 17593.77389 &  0.000000e+00\\\\\n",
       "\tSex & 1 &    28.58280 &  8.977619e-08\\\\\n",
       "\tFleet & 1 &    10.39530 &  1.263367e-03\\\\\n",
       "\tCover & 1 &    77.22576 &  1.524916e-18\\\\\n",
       "\tFuel & 1 &   144.69247 &  2.507238e-33\\\\\n",
       "\tAgeCar & 2 &    58.09543 &  2.425140e-13\\\\\n",
       "\tPower & 2 &    32.86314 &  7.309043e-08\\\\\n",
       "\tSplit & 3 &   574.34632 & 3.669116e-124\\\\\n",
       "\\end{tabular}\n"
      ],
      "text/markdown": [
       "\n",
       "A anova: 8 × 3\n",
       "\n",
       "| <!--/--> | Df &lt;dbl&gt; | Chisq &lt;dbl&gt; | Pr(&gt;Chisq) &lt;dbl&gt; |\n",
       "|---|---|---|---|\n",
       "| (Intercept) | 1 | 17593.77389 |  0.000000e+00 |\n",
       "| Sex | 1 |    28.58280 |  8.977619e-08 |\n",
       "| Fleet | 1 |    10.39530 |  1.263367e-03 |\n",
       "| Cover | 1 |    77.22576 |  1.524916e-18 |\n",
       "| Fuel | 1 |   144.69247 |  2.507238e-33 |\n",
       "| AgeCar | 2 |    58.09543 |  2.425140e-13 |\n",
       "| Power | 2 |    32.86314 |  7.309043e-08 |\n",
       "| Split | 3 |   574.34632 | 3.669116e-124 |\n",
       "\n"
      ],
      "text/plain": [
       "            Df Chisq       Pr(>Chisq)   \n",
       "(Intercept) 1  17593.77389  0.000000e+00\n",
       "Sex         1     28.58280  8.977619e-08\n",
       "Fleet       1     10.39530  1.263367e-03\n",
       "Cover       1     77.22576  1.524916e-18\n",
       "Fuel        1    144.69247  2.507238e-33\n",
       "AgeCar      2     58.09543  2.425140e-13\n",
       "Power       2     32.86314  7.309043e-08\n",
       "Split       3    574.34632 3.669116e-124"
      ]
     },
     "metadata": {},
     "output_type": "display_data"
    },
    {
     "data": {
      "text/plain": [
       "\n",
       "Call:\n",
       "glm(formula = NbrClaims ~ offset(log(RiskExp)) + Sex + Fleet + \n",
       "    Cover + Fuel + AgeCar + Power + Split, family = poisson(link = log), \n",
       "    data = DataFreq_train)\n",
       "\n",
       "Coefficients:\n",
       "             Estimate Std. Error  z value Pr(>|z|)    \n",
       "(Intercept)  -2.17735    0.01642 -132.642  < 2e-16 ***\n",
       "SexFemale     0.09500    0.01777    5.346 8.98e-08 ***\n",
       "FleetYes     -0.15344    0.04759   -3.224 0.001263 ** \n",
       "CoverMore    -0.15267    0.01737   -8.788  < 2e-16 ***\n",
       "FuelGasoil    0.20279    0.01686   12.029  < 2e-16 ***\n",
       "AgeCar0-1     0.19783    0.03542    5.585 2.33e-08 ***\n",
       "AgeCar2-5    -0.07030    0.01872   -3.755 0.000174 ***\n",
       "Power>110     0.23896    0.07368    3.243 0.001183 ** \n",
       "Power66-110   0.09162    0.01842    4.972 6.61e-07 ***\n",
       "SplitMonthly  0.40771    0.02355   17.309  < 2e-16 ***\n",
       "SplitThrice   0.52667    0.02643   19.924  < 2e-16 ***\n",
       "SplitTwice    0.21599    0.01863   11.595  < 2e-16 ***\n",
       "---\n",
       "Signif. codes:  0 '***' 0.001 '**' 0.01 '*' 0.05 '.' 0.1 ' ' 1\n",
       "\n",
       "(Dispersion parameter for poisson family taken to be 1)\n",
       "\n",
       "    Null deviance: 72532  on 131471  degrees of freedom\n",
       "Residual deviance: 71646  on 131460  degrees of freedom\n",
       "AIC: 102091\n",
       "\n",
       "Number of Fisher Scoring iterations: 6\n"
      ]
     },
     "metadata": {},
     "output_type": "display_data"
    }
   ],
   "source": [
    "levels(DataFreq_train[[\"Cover\"]]) ;\n",
    "\n",
    "DataFreq_train[[\"Cover\"]] <- with(DataFreq_train, \n",
    "                                      ifelse(Cover==\"MTPL\",\"MTPL\",\"More\"))  \n",
    "DataFreq_train[[\"Cover\"]] <-as.factor(DataFreq_train[[\"Cover\"]]) \n",
    "\n",
    "# Do not forget to set the reference level as it was set before !\n",
    "DataFreq_train[[\"Cover\"]] <- fct_relevel(DataFreq_train[[\"Cover\"]], \"MTPL\")\n",
    "\n",
    "GLM_Analysis<-glm(NbrClaims ~ offset(log(RiskExp))+Sex+Fleet+Cover+Fuel+AgeCar\n",
    "                  +Power+Split,family=poisson(link=log), data=DataFreq_train)\n",
    "                      \n",
    "Anova(GLM_Analysis, test.statistic=\"Wald\",type=3,singular.ok=TRUE);\n",
    "\n",
    "summary(GLM_Analysis)"
   ]
  },
  {
   "cell_type": "code",
   "execution_count": 30,
   "id": "672738d1-f824-4431-b81d-8fa871213b3e",
   "metadata": {},
   "outputs": [
    {
     "data": {
      "text/plain": [
       "                    Estimate Std. Error  z value    Pr(>|z|)\n",
       "Power c=( -1 1 0 ) 0.2389612 0.07368459 3.243028 0.001182667"
      ]
     },
     "metadata": {},
     "output_type": "display_data"
    },
    {
     "data": {
      "text/plain": [
       "                     Estimate Std. Error  z value     Pr(>|z|)\n",
       "Power c=( -1 0 1 ) 0.09161539  0.0184246 4.972451 6.611181e-07"
      ]
     },
     "metadata": {},
     "output_type": "display_data"
    },
    {
     "data": {
      "text/plain": [
       "                     Estimate Std. Error   z value   Pr(>|z|)\n",
       "Power c=( 0 -1 1 ) -0.1473458 0.07450306 -1.977715 0.04796092"
      ]
     },
     "metadata": {},
     "output_type": "display_data"
    },
    {
     "data": {
      "text/plain": [
       "                     Estimate Std. Error  z value     Pr(>|z|)\n",
       "AgeCar c=( -1 1 0 ) 0.1978323 0.03541948 5.585411 2.331486e-08"
      ]
     },
     "metadata": {},
     "output_type": "display_data"
    },
    {
     "data": {
      "text/plain": [
       "                       Estimate Std. Error   z value     Pr(>|z|)\n",
       "AgeCar c=( -1 0 1 ) -0.07029617 0.01872294 -3.754548 0.0001736548"
      ]
     },
     "metadata": {},
     "output_type": "display_data"
    },
    {
     "data": {
      "text/plain": [
       "                      Estimate Std. Error   z value     Pr(>|z|)\n",
       "AgeCar c=( 0 -1 1 ) -0.2681285   0.036034 -7.440986 9.993625e-14"
      ]
     },
     "metadata": {},
     "output_type": "display_data"
    }
   ],
   "source": [
    "#We repeat once again the same steps to be sure we have the best model possible:\n",
    "fit.contrast(GLM_Analysis,\"Power\",c(-1,1,0));\n",
    "fit.contrast(GLM_Analysis,\"Power\",c(-1,0,1));\n",
    "fit.contrast(GLM_Analysis,\"Power\",c(0,-1,1));\n",
    "\n",
    "fit.contrast(GLM_Analysis,\"AgeCar\",c(-1,1,0));\n",
    "fit.contrast(GLM_Analysis,\"AgeCar\",c(-1,0,1));\n",
    "fit.contrast(GLM_Analysis,\"AgeCar\",c(0,-1,1));\n",
    "\n",
    "#fit.contrast(GLM_Analysis,\"Split\",c(-1,1,0,0)) \n",
    "#fit.contrast(GLM_Analysis,\"Split\",c(-1,0,1,0))\n",
    "#fit.contrast(GLM_Analysis,\"Split\",c(-1,0,0,1))\n",
    "#fit.contrast(GLM_Analysis,\"Split\",c(0,-1,1,0))\n",
    "#fit.contrast(GLM_Analysis,\"Split\",c(0,-1,0,1))\n",
    "#fit.contrast(GLM_Analysis,\"Split\",c(0,0,-1,1))"
   ]
  },
  {
   "cell_type": "markdown",
   "id": "e9c5cc90-3eb2-4e03-9a91-cd21456323a3",
   "metadata": {},
   "source": [
    "No more gatherings need to be done. All the variables and modalities are significant.\n",
    "We are thus going to apply our changes to our test dataset."
   ]
  },
  {
   "cell_type": "code",
   "execution_count": 31,
   "id": "c0f264ae-fc19-41e7-8e28-9ffc7cd1c0a0",
   "metadata": {},
   "outputs": [
    {
     "name": "stdout",
     "output_type": "stream",
     "text": [
      " More  MTPL \n",
      "13293 18876 \n",
      "   >5   0-1   2-5 \n",
      "20572  1448 10149 \n"
     ]
    }
   ],
   "source": [
    "DataFreq_test[[\"AgeCar\"]] <- with(DataFreq_test, \n",
    "                                      ifelse(AgeCar==\"2-5\",\"2-5\",\n",
    "                                             ifelse(AgeCar == \"0-1\", \"0-1\", \">5\")))\n",
    "DataFreq_test[[\"Cover\"]] <- with(DataFreq_test, ifelse(Cover==\"MTPL\",\"MTPL\",\"More\"))  \n",
    "\n",
    "DataFreq_test[[\"Cover\"]] <-as.factor(DataFreq_test[[\"Cover\"]])   \n",
    "DataFreq_test[[\"AgeCar\"]] <-as.factor(DataFreq_test[[\"AgeCar\"]])   \n",
    "\n",
    "print(summary(DataFreq_test[[\"Cover\"]]))\n",
    "print(summary(DataFreq_test[[\"AgeCar\"]]))"
   ]
  },
  {
   "cell_type": "code",
   "execution_count": 32,
   "id": "8723adb5-7b54-44f7-9e4e-5b6ec1dbc114",
   "metadata": {},
   "outputs": [
    {
     "data": {
      "text/html": [
       "17380.4292556871"
      ],
      "text/latex": [
       "17380.4292556871"
      ],
      "text/markdown": [
       "17380.4292556871"
      ],
      "text/plain": [
       "[1] 17380.43"
      ]
     },
     "metadata": {},
     "output_type": "display_data"
    },
    {
     "data": {
      "text/html": [
       "17590.4286643878"
      ],
      "text/latex": [
       "17590.4286643878"
      ],
      "text/markdown": [
       "17590.4286643878"
      ],
      "text/plain": [
       "[1] 17590.43"
      ]
     },
     "metadata": {},
     "output_type": "display_data"
    }
   ],
   "source": [
    "#Now we will compute the error on the test dataset and compare it to the error obtained using the simple average as predictor\n",
    "# Function returning the deviance of the Poisson\n",
    "predict_test <- predict(GLM_Analysis, newdata = DataFreq_test, type=\"response\")  \n",
    "Dev_GLM <- deviance_p(DataFreq_test$NbrClaims, predict_test)\n",
    "Dev_GLM\n",
    "\n",
    "Lambda <- sum(DataFreq_train$NbrClaims) / sum(DataFreq_train$RiskExp)\n",
    "Dev_MEAN <- deviance_p(DataFreq_test$NbrClaims, Lambda*DataFreq_test$RiskExp)\n",
    "Dev_MEAN\n"
   ]
  },
  {
   "cell_type": "markdown",
   "id": "94c5ba31-2761-42c2-8c23-319117c41744",
   "metadata": {},
   "source": [
    "The goal here was to test the relevance of our model (let's say, following the hypothesis \n",
    "H1, with all the parameters βshaving their value given by the last GLM_Analysis) to the model stated as hypothesis H0 were all the parameters βsare set to 0.\n",
    "To do that, we will use a χ2test to determine whether or not we can reject the null hypothesis H0(where we use 0 parameters -> the mean of the observations).\n",
    "As we did earlier, we use a threshold value of 5% to make our decision."
   ]
  },
  {
   "cell_type": "code",
   "execution_count": 33,
   "id": "75e27f1e-efd5-414b-a8ed-df0634d99ed8",
   "metadata": {},
   "outputs": [
    {
     "data": {
      "text/html": [
       "6.23061784324759e-39"
      ],
      "text/latex": [
       "6.23061784324759e-39"
      ],
      "text/markdown": [
       "6.23061784324759e-39"
      ],
      "text/plain": [
       "[1] 6.230618e-39"
      ]
     },
     "metadata": {},
     "output_type": "display_data"
    }
   ],
   "source": [
    "# Null hypothesis: the model with 0 parameter (ie, using the mean)\n",
    "# H0 is rejected if Delta (= Dev_MEAN - Dev_GLM) is too large (>3.841 for a X² with 1 degree of freedom, \n",
    "#                                                              >19.675 for a X² with 11 degrees of freedom)\n",
    "\n",
    "Delta <- Dev_MEAN - Dev_GLM\n",
    "pchisq(Delta, df=11, lower.tail=FALSE)"
   ]
  },
  {
   "cell_type": "markdown",
   "id": "aaa0aea5-0d5c-43a9-a140-2b65a6b42383",
   "metadata": {},
   "source": [
    "P[Delta>Chisq]=6.230618e−39<5%thus we can reject the null hypothesis ."
   ]
  },
  {
   "cell_type": "markdown",
   "id": "162ba485-1784-43ca-a5fd-65765170dac3",
   "metadata": {},
   "source": [
    "## 3- GLM Analysis costs"
   ]
  },
  {
   "cell_type": "markdown",
   "id": "993499b7-91e4-4c7b-b6e8-f54a6c1eda5c",
   "metadata": {},
   "source": [
    "In this part we will perform a Gamma regression on costs.\n",
    "We will use the same data as for the frequency analysis. We start by eliminating the lines where the claim amount is equal to zero."
   ]
  },
  {
   "cell_type": "code",
   "execution_count": 34,
   "id": "96f37096-daf6-4aca-9782-85ca1c315d4e",
   "metadata": {},
   "outputs": [],
   "source": [
    "DataCosts_train <- DataAttr_train\n",
    "DataCosts_test <- DataAttr_test\n",
    "\n",
    "\n",
    "# Eliminate data with cost charge equals to zero\n",
    "L = DataCosts_train[[\"MeanCharge\"]] != 0 \n",
    "DataCosts_train = DataCosts_train[L,]\n",
    "\n",
    "L = DataCosts_test[[\"MeanCharge\"]] != 0 \n",
    "DataCosts_test = DataCosts_test[L,]"
   ]
  },
  {
   "cell_type": "markdown",
   "id": "62bef3ca-6882-4428-9b10-b9dd5f3905d9",
   "metadata": {},
   "source": [
    "We move on to a first GLM analysis, using a Gamma distribution and the logarithmic link function."
   ]
  },
  {
   "cell_type": "code",
   "execution_count": 36,
   "id": "3bbcb98f-b8b2-43e0-b652-aa57e88b5c41",
   "metadata": {},
   "outputs": [
    {
     "data": {
      "text/html": [
       "<table class=\"dataframe\">\n",
       "<caption>A anova: 10 × 4</caption>\n",
       "<thead>\n",
       "\t<tr><th></th><th scope=col>Sum Sq</th><th scope=col>Df</th><th scope=col>F values</th><th scope=col>Pr(&gt;F)</th></tr>\n",
       "\t<tr><th></th><th scope=col>&lt;dbl&gt;</th><th scope=col>&lt;dbl&gt;</th><th scope=col>&lt;dbl&gt;</th><th scope=col>&lt;dbl&gt;</th></tr>\n",
       "</thead>\n",
       "<tbody>\n",
       "\t<tr><th scope=row>Sex</th><td>1.425944e+00</td><td>    1</td><td> 0.174553046</td><td>6.761028e-01</td></tr>\n",
       "\t<tr><th scope=row>Use</th><td>9.577637e-01</td><td>    1</td><td> 0.117242014</td><td>7.320501e-01</td></tr>\n",
       "\t<tr><th scope=row>Fleet</th><td>2.818052e+00</td><td>    1</td><td> 0.344964063</td><td>5.569868e-01</td></tr>\n",
       "\t<tr><th scope=row>Sport</th><td>1.670135e+01</td><td>    1</td><td> 2.044450449</td><td>1.527833e-01</td></tr>\n",
       "\t<tr><th scope=row>Cover</th><td>2.282555e+02</td><td>    2</td><td>13.970638718</td><td>8.677120e-07</td></tr>\n",
       "\t<tr><th scope=row>Split</th><td>1.861637e+01</td><td>    3</td><td> 0.759623898</td><td>5.165997e-01</td></tr>\n",
       "\t<tr><th scope=row>Fuel</th><td>1.549691e+00</td><td>    1</td><td> 0.189701118</td><td>6.631719e-01</td></tr>\n",
       "\t<tr><th scope=row>AgeCar</th><td>7.753418e+01</td><td>    3</td><td> 3.163711350</td><td>2.345509e-02</td></tr>\n",
       "\t<tr><th scope=row>Power</th><td>8.223869e-02</td><td>    2</td><td> 0.005033512</td><td>9.949791e-01</td></tr>\n",
       "\t<tr><th scope=row>Residuals</th><td>1.203393e+05</td><td>14731</td><td>          NA</td><td>          NA</td></tr>\n",
       "</tbody>\n",
       "</table>\n"
      ],
      "text/latex": [
       "A anova: 10 × 4\n",
       "\\begin{tabular}{r|llll}\n",
       "  & Sum Sq & Df & F values & Pr(>F)\\\\\n",
       "  & <dbl> & <dbl> & <dbl> & <dbl>\\\\\n",
       "\\hline\n",
       "\tSex & 1.425944e+00 &     1 &  0.174553046 & 6.761028e-01\\\\\n",
       "\tUse & 9.577637e-01 &     1 &  0.117242014 & 7.320501e-01\\\\\n",
       "\tFleet & 2.818052e+00 &     1 &  0.344964063 & 5.569868e-01\\\\\n",
       "\tSport & 1.670135e+01 &     1 &  2.044450449 & 1.527833e-01\\\\\n",
       "\tCover & 2.282555e+02 &     2 & 13.970638718 & 8.677120e-07\\\\\n",
       "\tSplit & 1.861637e+01 &     3 &  0.759623898 & 5.165997e-01\\\\\n",
       "\tFuel & 1.549691e+00 &     1 &  0.189701118 & 6.631719e-01\\\\\n",
       "\tAgeCar & 7.753418e+01 &     3 &  3.163711350 & 2.345509e-02\\\\\n",
       "\tPower & 8.223869e-02 &     2 &  0.005033512 & 9.949791e-01\\\\\n",
       "\tResiduals & 1.203393e+05 & 14731 &           NA &           NA\\\\\n",
       "\\end{tabular}\n"
      ],
      "text/markdown": [
       "\n",
       "A anova: 10 × 4\n",
       "\n",
       "| <!--/--> | Sum Sq &lt;dbl&gt; | Df &lt;dbl&gt; | F values &lt;dbl&gt; | Pr(&gt;F) &lt;dbl&gt; |\n",
       "|---|---|---|---|---|\n",
       "| Sex | 1.425944e+00 |     1 |  0.174553046 | 6.761028e-01 |\n",
       "| Use | 9.577637e-01 |     1 |  0.117242014 | 7.320501e-01 |\n",
       "| Fleet | 2.818052e+00 |     1 |  0.344964063 | 5.569868e-01 |\n",
       "| Sport | 1.670135e+01 |     1 |  2.044450449 | 1.527833e-01 |\n",
       "| Cover | 2.282555e+02 |     2 | 13.970638718 | 8.677120e-07 |\n",
       "| Split | 1.861637e+01 |     3 |  0.759623898 | 5.165997e-01 |\n",
       "| Fuel | 1.549691e+00 |     1 |  0.189701118 | 6.631719e-01 |\n",
       "| AgeCar | 7.753418e+01 |     3 |  3.163711350 | 2.345509e-02 |\n",
       "| Power | 8.223869e-02 |     2 |  0.005033512 | 9.949791e-01 |\n",
       "| Residuals | 1.203393e+05 | 14731 |           NA |           NA |\n",
       "\n"
      ],
      "text/plain": [
       "          Sum Sq       Df    F values     Pr(>F)      \n",
       "Sex       1.425944e+00     1  0.174553046 6.761028e-01\n",
       "Use       9.577637e-01     1  0.117242014 7.320501e-01\n",
       "Fleet     2.818052e+00     1  0.344964063 5.569868e-01\n",
       "Sport     1.670135e+01     1  2.044450449 1.527833e-01\n",
       "Cover     2.282555e+02     2 13.970638718 8.677120e-07\n",
       "Split     1.861637e+01     3  0.759623898 5.165997e-01\n",
       "Fuel      1.549691e+00     1  0.189701118 6.631719e-01\n",
       "AgeCar    7.753418e+01     3  3.163711350 2.345509e-02\n",
       "Power     8.223869e-02     2  0.005033512 9.949791e-01\n",
       "Residuals 1.203393e+05 14731           NA           NA"
      ]
     },
     "metadata": {},
     "output_type": "display_data"
    }
   ],
   "source": [
    "GLM_AnalysisCosts<-glm(MeanCharge ~ Sex+Use+Fleet+Sport+ Cover+Split+Fuel+AgeCar+Power,\n",
    "                       family=Gamma(link=log),weights=NbrClaims, data = DataCosts_train)\n",
    "\n",
    "Anova(GLM_AnalysisCosts, type='III', test.statistic='F')"
   ]
  },
  {
   "cell_type": "markdown",
   "id": "f8456801-607f-40c3-ad0b-2154d01e8b21",
   "metadata": {},
   "source": [
    "As we did for the frequency analysis, we are going to proceed step by step. So we are removing features which have a \n",
    "p-value (see explanations in the frequency analysis part) higher than our 5% threshold, one by one, starting with the one having the highest p-value. We only stop when the remaining features are significant at our 5% level of confidence.\n",
    "The p-value of the variable \"Power\" is the highest and equals 99% so we remove it:"
   ]
  },
  {
   "cell_type": "code",
   "execution_count": 37,
   "id": "d5e2c802-c5af-49a4-a5fc-953d7285972a",
   "metadata": {},
   "outputs": [
    {
     "data": {
      "text/html": [
       "<table class=\"dataframe\">\n",
       "<caption>A anova: 9 × 4</caption>\n",
       "<thead>\n",
       "\t<tr><th></th><th scope=col>Sum Sq</th><th scope=col>Df</th><th scope=col>F values</th><th scope=col>Pr(&gt;F)</th></tr>\n",
       "\t<tr><th></th><th scope=col>&lt;dbl&gt;</th><th scope=col>&lt;dbl&gt;</th><th scope=col>&lt;dbl&gt;</th><th scope=col>&lt;dbl&gt;</th></tr>\n",
       "</thead>\n",
       "<tbody>\n",
       "\t<tr><th scope=row>Sex</th><td>1.383203e+00</td><td>    1</td><td> 0.1693411</td><td>6.807040e-01</td></tr>\n",
       "\t<tr><th scope=row>Use</th><td>9.212600e-01</td><td>    1</td><td> 0.1127869</td><td>7.369981e-01</td></tr>\n",
       "\t<tr><th scope=row>Fleet</th><td>2.875234e+00</td><td>    1</td><td> 0.3520057</td><td>5.529891e-01</td></tr>\n",
       "\t<tr><th scope=row>Sport</th><td>1.816006e+01</td><td>    1</td><td> 2.2232779</td><td>1.359656e-01</td></tr>\n",
       "\t<tr><th scope=row>Cover</th><td>2.303610e+02</td><td>    2</td><td>14.1011789</td><td>7.617102e-07</td></tr>\n",
       "\t<tr><th scope=row>Split</th><td>1.865590e+01</td><td>    3</td><td> 0.7613276</td><td>5.156155e-01</td></tr>\n",
       "\t<tr><th scope=row>Fuel</th><td>1.508748e+00</td><td>    1</td><td> 0.1847113</td><td>6.673616e-01</td></tr>\n",
       "\t<tr><th scope=row>AgeCar</th><td>7.748823e+01</td><td>    3</td><td> 3.1622122</td><td>2.350320e-02</td></tr>\n",
       "\t<tr><th scope=row>Residuals</th><td>1.203413e+05</td><td>14733</td><td>        NA</td><td>          NA</td></tr>\n",
       "</tbody>\n",
       "</table>\n"
      ],
      "text/latex": [
       "A anova: 9 × 4\n",
       "\\begin{tabular}{r|llll}\n",
       "  & Sum Sq & Df & F values & Pr(>F)\\\\\n",
       "  & <dbl> & <dbl> & <dbl> & <dbl>\\\\\n",
       "\\hline\n",
       "\tSex & 1.383203e+00 &     1 &  0.1693411 & 6.807040e-01\\\\\n",
       "\tUse & 9.212600e-01 &     1 &  0.1127869 & 7.369981e-01\\\\\n",
       "\tFleet & 2.875234e+00 &     1 &  0.3520057 & 5.529891e-01\\\\\n",
       "\tSport & 1.816006e+01 &     1 &  2.2232779 & 1.359656e-01\\\\\n",
       "\tCover & 2.303610e+02 &     2 & 14.1011789 & 7.617102e-07\\\\\n",
       "\tSplit & 1.865590e+01 &     3 &  0.7613276 & 5.156155e-01\\\\\n",
       "\tFuel & 1.508748e+00 &     1 &  0.1847113 & 6.673616e-01\\\\\n",
       "\tAgeCar & 7.748823e+01 &     3 &  3.1622122 & 2.350320e-02\\\\\n",
       "\tResiduals & 1.203413e+05 & 14733 &         NA &           NA\\\\\n",
       "\\end{tabular}\n"
      ],
      "text/markdown": [
       "\n",
       "A anova: 9 × 4\n",
       "\n",
       "| <!--/--> | Sum Sq &lt;dbl&gt; | Df &lt;dbl&gt; | F values &lt;dbl&gt; | Pr(&gt;F) &lt;dbl&gt; |\n",
       "|---|---|---|---|---|\n",
       "| Sex | 1.383203e+00 |     1 |  0.1693411 | 6.807040e-01 |\n",
       "| Use | 9.212600e-01 |     1 |  0.1127869 | 7.369981e-01 |\n",
       "| Fleet | 2.875234e+00 |     1 |  0.3520057 | 5.529891e-01 |\n",
       "| Sport | 1.816006e+01 |     1 |  2.2232779 | 1.359656e-01 |\n",
       "| Cover | 2.303610e+02 |     2 | 14.1011789 | 7.617102e-07 |\n",
       "| Split | 1.865590e+01 |     3 |  0.7613276 | 5.156155e-01 |\n",
       "| Fuel | 1.508748e+00 |     1 |  0.1847113 | 6.673616e-01 |\n",
       "| AgeCar | 7.748823e+01 |     3 |  3.1622122 | 2.350320e-02 |\n",
       "| Residuals | 1.203413e+05 | 14733 |         NA |           NA |\n",
       "\n"
      ],
      "text/plain": [
       "          Sum Sq       Df    F values   Pr(>F)      \n",
       "Sex       1.383203e+00     1  0.1693411 6.807040e-01\n",
       "Use       9.212600e-01     1  0.1127869 7.369981e-01\n",
       "Fleet     2.875234e+00     1  0.3520057 5.529891e-01\n",
       "Sport     1.816006e+01     1  2.2232779 1.359656e-01\n",
       "Cover     2.303610e+02     2 14.1011789 7.617102e-07\n",
       "Split     1.865590e+01     3  0.7613276 5.156155e-01\n",
       "Fuel      1.508748e+00     1  0.1847113 6.673616e-01\n",
       "AgeCar    7.748823e+01     3  3.1622122 2.350320e-02\n",
       "Residuals 1.203413e+05 14733         NA           NA"
      ]
     },
     "metadata": {},
     "output_type": "display_data"
    }
   ],
   "source": [
    "GLM_AnalysisCosts<-glm(MeanCharge ~ Sex+Use+Fleet+Sport+ Cover+Split+Fuel+AgeCar,\n",
    "                       family=Gamma(link=log),weights=NbrClaims, data = DataCosts_train)\n",
    "\n",
    "Anova(GLM_AnalysisCosts, type='III', test.statistic='F')"
   ]
  },
  {
   "cell_type": "markdown",
   "id": "a2cd91df-1d72-4456-8082-f92a9a1dd5cb",
   "metadata": {},
   "source": [
    "The p-value of the variable \"Use\" is equal to 73% so we remove it:"
   ]
  },
  {
   "cell_type": "code",
   "execution_count": 38,
   "id": "ce77be63-776b-44a8-8f38-67e859153ec8",
   "metadata": {},
   "outputs": [
    {
     "data": {
      "text/html": [
       "<table class=\"dataframe\">\n",
       "<caption>A anova: 8 × 4</caption>\n",
       "<thead>\n",
       "\t<tr><th></th><th scope=col>Sum Sq</th><th scope=col>Df</th><th scope=col>F values</th><th scope=col>Pr(&gt;F)</th></tr>\n",
       "\t<tr><th></th><th scope=col>&lt;dbl&gt;</th><th scope=col>&lt;dbl&gt;</th><th scope=col>&lt;dbl&gt;</th><th scope=col>&lt;dbl&gt;</th></tr>\n",
       "</thead>\n",
       "<tbody>\n",
       "\t<tr><th scope=row>Sex</th><td>1.455886e+00</td><td>    1</td><td> 0.1782434</td><td>6.728934e-01</td></tr>\n",
       "\t<tr><th scope=row>Fleet</th><td>2.354915e+00</td><td>    1</td><td> 0.2883112</td><td>5.913129e-01</td></tr>\n",
       "\t<tr><th scope=row>Sport</th><td>1.815140e+01</td><td>    1</td><td> 2.2222669</td><td>1.360546e-01</td></tr>\n",
       "\t<tr><th scope=row>Cover</th><td>2.304714e+02</td><td>    2</td><td>14.1082496</td><td>7.563529e-07</td></tr>\n",
       "\t<tr><th scope=row>Split</th><td>1.916281e+01</td><td>    3</td><td> 0.7820312</td><td>5.037684e-01</td></tr>\n",
       "\t<tr><th scope=row>Fuel</th><td>1.336541e+00</td><td>    1</td><td> 0.1636320</td><td>6.858402e-01</td></tr>\n",
       "\t<tr><th scope=row>AgeCar</th><td>7.697693e+01</td><td>    3</td><td> 3.1414163</td><td>2.418069e-02</td></tr>\n",
       "\t<tr><th scope=row>Residuals</th><td>1.203468e+05</td><td>14734</td><td>        NA</td><td>          NA</td></tr>\n",
       "</tbody>\n",
       "</table>\n"
      ],
      "text/latex": [
       "A anova: 8 × 4\n",
       "\\begin{tabular}{r|llll}\n",
       "  & Sum Sq & Df & F values & Pr(>F)\\\\\n",
       "  & <dbl> & <dbl> & <dbl> & <dbl>\\\\\n",
       "\\hline\n",
       "\tSex & 1.455886e+00 &     1 &  0.1782434 & 6.728934e-01\\\\\n",
       "\tFleet & 2.354915e+00 &     1 &  0.2883112 & 5.913129e-01\\\\\n",
       "\tSport & 1.815140e+01 &     1 &  2.2222669 & 1.360546e-01\\\\\n",
       "\tCover & 2.304714e+02 &     2 & 14.1082496 & 7.563529e-07\\\\\n",
       "\tSplit & 1.916281e+01 &     3 &  0.7820312 & 5.037684e-01\\\\\n",
       "\tFuel & 1.336541e+00 &     1 &  0.1636320 & 6.858402e-01\\\\\n",
       "\tAgeCar & 7.697693e+01 &     3 &  3.1414163 & 2.418069e-02\\\\\n",
       "\tResiduals & 1.203468e+05 & 14734 &         NA &           NA\\\\\n",
       "\\end{tabular}\n"
      ],
      "text/markdown": [
       "\n",
       "A anova: 8 × 4\n",
       "\n",
       "| <!--/--> | Sum Sq &lt;dbl&gt; | Df &lt;dbl&gt; | F values &lt;dbl&gt; | Pr(&gt;F) &lt;dbl&gt; |\n",
       "|---|---|---|---|---|\n",
       "| Sex | 1.455886e+00 |     1 |  0.1782434 | 6.728934e-01 |\n",
       "| Fleet | 2.354915e+00 |     1 |  0.2883112 | 5.913129e-01 |\n",
       "| Sport | 1.815140e+01 |     1 |  2.2222669 | 1.360546e-01 |\n",
       "| Cover | 2.304714e+02 |     2 | 14.1082496 | 7.563529e-07 |\n",
       "| Split | 1.916281e+01 |     3 |  0.7820312 | 5.037684e-01 |\n",
       "| Fuel | 1.336541e+00 |     1 |  0.1636320 | 6.858402e-01 |\n",
       "| AgeCar | 7.697693e+01 |     3 |  3.1414163 | 2.418069e-02 |\n",
       "| Residuals | 1.203468e+05 | 14734 |         NA |           NA |\n",
       "\n"
      ],
      "text/plain": [
       "          Sum Sq       Df    F values   Pr(>F)      \n",
       "Sex       1.455886e+00     1  0.1782434 6.728934e-01\n",
       "Fleet     2.354915e+00     1  0.2883112 5.913129e-01\n",
       "Sport     1.815140e+01     1  2.2222669 1.360546e-01\n",
       "Cover     2.304714e+02     2 14.1082496 7.563529e-07\n",
       "Split     1.916281e+01     3  0.7820312 5.037684e-01\n",
       "Fuel      1.336541e+00     1  0.1636320 6.858402e-01\n",
       "AgeCar    7.697693e+01     3  3.1414163 2.418069e-02\n",
       "Residuals 1.203468e+05 14734         NA           NA"
      ]
     },
     "metadata": {},
     "output_type": "display_data"
    }
   ],
   "source": [
    "GLM_AnalysisCosts<-glm(MeanCharge ~ Sex+Fleet+Sport+ Cover+Split+Fuel+AgeCar,\n",
    "                       family=Gamma(link=log),weights=NbrClaims, data = DataCosts_train)\n",
    "\n",
    "Anova(GLM_AnalysisCosts, type='III', test.statistic='F')\n"
   ]
  },
  {
   "cell_type": "markdown",
   "id": "f4898ad1-79de-43d2-b43e-b8ef27cc6697",
   "metadata": {},
   "source": [
    "The p-value of the variable \"Fuel\" is equal to 68% so we remove it:"
   ]
  },
  {
   "cell_type": "code",
   "execution_count": 39,
   "id": "5ababada-420a-4fe9-a49b-d87048e68d2d",
   "metadata": {},
   "outputs": [
    {
     "data": {
      "text/html": [
       "<table class=\"dataframe\">\n",
       "<caption>A anova: 7 × 4</caption>\n",
       "<thead>\n",
       "\t<tr><th></th><th scope=col>Sum Sq</th><th scope=col>Df</th><th scope=col>F values</th><th scope=col>Pr(&gt;F)</th></tr>\n",
       "\t<tr><th></th><th scope=col>&lt;dbl&gt;</th><th scope=col>&lt;dbl&gt;</th><th scope=col>&lt;dbl&gt;</th><th scope=col>&lt;dbl&gt;</th></tr>\n",
       "</thead>\n",
       "<tbody>\n",
       "\t<tr><th scope=row>Sex</th><td>1.206419e+00</td><td>    1</td><td> 0.1474356</td><td>7.010037e-01</td></tr>\n",
       "\t<tr><th scope=row>Fleet</th><td>2.414663e+00</td><td>    1</td><td> 0.2950941</td><td>5.869826e-01</td></tr>\n",
       "\t<tr><th scope=row>Sport</th><td>1.907732e+01</td><td>    1</td><td> 2.3314258</td><td>1.268072e-01</td></tr>\n",
       "\t<tr><th scope=row>Cover</th><td>2.301673e+02</td><td>    2</td><td>14.0642868</td><td>7.902790e-07</td></tr>\n",
       "\t<tr><th scope=row>Split</th><td>1.902024e+01</td><td>    3</td><td> 0.7748163</td><td>5.078732e-01</td></tr>\n",
       "\t<tr><th scope=row>AgeCar</th><td>7.680512e+01</td><td>    3</td><td> 3.1287658</td><td>2.460214e-02</td></tr>\n",
       "\t<tr><th scope=row>Residuals</th><td>1.205719e+05</td><td>14735</td><td>        NA</td><td>          NA</td></tr>\n",
       "</tbody>\n",
       "</table>\n"
      ],
      "text/latex": [
       "A anova: 7 × 4\n",
       "\\begin{tabular}{r|llll}\n",
       "  & Sum Sq & Df & F values & Pr(>F)\\\\\n",
       "  & <dbl> & <dbl> & <dbl> & <dbl>\\\\\n",
       "\\hline\n",
       "\tSex & 1.206419e+00 &     1 &  0.1474356 & 7.010037e-01\\\\\n",
       "\tFleet & 2.414663e+00 &     1 &  0.2950941 & 5.869826e-01\\\\\n",
       "\tSport & 1.907732e+01 &     1 &  2.3314258 & 1.268072e-01\\\\\n",
       "\tCover & 2.301673e+02 &     2 & 14.0642868 & 7.902790e-07\\\\\n",
       "\tSplit & 1.902024e+01 &     3 &  0.7748163 & 5.078732e-01\\\\\n",
       "\tAgeCar & 7.680512e+01 &     3 &  3.1287658 & 2.460214e-02\\\\\n",
       "\tResiduals & 1.205719e+05 & 14735 &         NA &           NA\\\\\n",
       "\\end{tabular}\n"
      ],
      "text/markdown": [
       "\n",
       "A anova: 7 × 4\n",
       "\n",
       "| <!--/--> | Sum Sq &lt;dbl&gt; | Df &lt;dbl&gt; | F values &lt;dbl&gt; | Pr(&gt;F) &lt;dbl&gt; |\n",
       "|---|---|---|---|---|\n",
       "| Sex | 1.206419e+00 |     1 |  0.1474356 | 7.010037e-01 |\n",
       "| Fleet | 2.414663e+00 |     1 |  0.2950941 | 5.869826e-01 |\n",
       "| Sport | 1.907732e+01 |     1 |  2.3314258 | 1.268072e-01 |\n",
       "| Cover | 2.301673e+02 |     2 | 14.0642868 | 7.902790e-07 |\n",
       "| Split | 1.902024e+01 |     3 |  0.7748163 | 5.078732e-01 |\n",
       "| AgeCar | 7.680512e+01 |     3 |  3.1287658 | 2.460214e-02 |\n",
       "| Residuals | 1.205719e+05 | 14735 |         NA |           NA |\n",
       "\n"
      ],
      "text/plain": [
       "          Sum Sq       Df    F values   Pr(>F)      \n",
       "Sex       1.206419e+00     1  0.1474356 7.010037e-01\n",
       "Fleet     2.414663e+00     1  0.2950941 5.869826e-01\n",
       "Sport     1.907732e+01     1  2.3314258 1.268072e-01\n",
       "Cover     2.301673e+02     2 14.0642868 7.902790e-07\n",
       "Split     1.902024e+01     3  0.7748163 5.078732e-01\n",
       "AgeCar    7.680512e+01     3  3.1287658 2.460214e-02\n",
       "Residuals 1.205719e+05 14735         NA           NA"
      ]
     },
     "metadata": {},
     "output_type": "display_data"
    }
   ],
   "source": [
    "GLM_AnalysisCosts<-glm(MeanCharge ~ Sex+Fleet+Sport+ Cover+Split+AgeCar,\n",
    "                       family=Gamma(link=log),weights=NbrClaims, data = DataCosts_train)\n",
    "\n",
    "Anova(GLM_AnalysisCosts, type='III', test.statistic='F')"
   ]
  },
  {
   "cell_type": "markdown",
   "id": "5420aadb-d4b0-4c8b-9c20-337c0aaecffa",
   "metadata": {},
   "source": [
    "The p-value of the variable \"Sex\" is equal to 70% so we remove it:"
   ]
  },
  {
   "cell_type": "code",
   "execution_count": 40,
   "id": "e5630168-38c3-4790-8a91-9d2b66cfc142",
   "metadata": {},
   "outputs": [
    {
     "data": {
      "text/html": [
       "<table class=\"dataframe\">\n",
       "<caption>A anova: 6 × 4</caption>\n",
       "<thead>\n",
       "\t<tr><th></th><th scope=col>Sum Sq</th><th scope=col>Df</th><th scope=col>F values</th><th scope=col>Pr(&gt;F)</th></tr>\n",
       "\t<tr><th></th><th scope=col>&lt;dbl&gt;</th><th scope=col>&lt;dbl&gt;</th><th scope=col>&lt;dbl&gt;</th><th scope=col>&lt;dbl&gt;</th></tr>\n",
       "</thead>\n",
       "<tbody>\n",
       "\t<tr><th scope=row>Fleet</th><td>2.401744e+00</td><td>    1</td><td> 0.2932643</td><td>5.881445e-01</td></tr>\n",
       "\t<tr><th scope=row>Sport</th><td>1.868212e+01</td><td>    1</td><td> 2.2811754</td><td>1.309740e-01</td></tr>\n",
       "\t<tr><th scope=row>Cover</th><td>2.305689e+02</td><td>    2</td><td>14.0767784</td><td>7.804864e-07</td></tr>\n",
       "\t<tr><th scope=row>Split</th><td>1.914477e+01</td><td>    3</td><td> 0.7792224</td><td>5.053634e-01</td></tr>\n",
       "\t<tr><th scope=row>AgeCar</th><td>7.711194e+01</td><td>    3</td><td> 3.1385778</td><td>2.427463e-02</td></tr>\n",
       "\t<tr><th scope=row>Residuals</th><td>1.206833e+05</td><td>14736</td><td>        NA</td><td>          NA</td></tr>\n",
       "</tbody>\n",
       "</table>\n"
      ],
      "text/latex": [
       "A anova: 6 × 4\n",
       "\\begin{tabular}{r|llll}\n",
       "  & Sum Sq & Df & F values & Pr(>F)\\\\\n",
       "  & <dbl> & <dbl> & <dbl> & <dbl>\\\\\n",
       "\\hline\n",
       "\tFleet & 2.401744e+00 &     1 &  0.2932643 & 5.881445e-01\\\\\n",
       "\tSport & 1.868212e+01 &     1 &  2.2811754 & 1.309740e-01\\\\\n",
       "\tCover & 2.305689e+02 &     2 & 14.0767784 & 7.804864e-07\\\\\n",
       "\tSplit & 1.914477e+01 &     3 &  0.7792224 & 5.053634e-01\\\\\n",
       "\tAgeCar & 7.711194e+01 &     3 &  3.1385778 & 2.427463e-02\\\\\n",
       "\tResiduals & 1.206833e+05 & 14736 &         NA &           NA\\\\\n",
       "\\end{tabular}\n"
      ],
      "text/markdown": [
       "\n",
       "A anova: 6 × 4\n",
       "\n",
       "| <!--/--> | Sum Sq &lt;dbl&gt; | Df &lt;dbl&gt; | F values &lt;dbl&gt; | Pr(&gt;F) &lt;dbl&gt; |\n",
       "|---|---|---|---|---|\n",
       "| Fleet | 2.401744e+00 |     1 |  0.2932643 | 5.881445e-01 |\n",
       "| Sport | 1.868212e+01 |     1 |  2.2811754 | 1.309740e-01 |\n",
       "| Cover | 2.305689e+02 |     2 | 14.0767784 | 7.804864e-07 |\n",
       "| Split | 1.914477e+01 |     3 |  0.7792224 | 5.053634e-01 |\n",
       "| AgeCar | 7.711194e+01 |     3 |  3.1385778 | 2.427463e-02 |\n",
       "| Residuals | 1.206833e+05 | 14736 |         NA |           NA |\n",
       "\n"
      ],
      "text/plain": [
       "          Sum Sq       Df    F values   Pr(>F)      \n",
       "Fleet     2.401744e+00     1  0.2932643 5.881445e-01\n",
       "Sport     1.868212e+01     1  2.2811754 1.309740e-01\n",
       "Cover     2.305689e+02     2 14.0767784 7.804864e-07\n",
       "Split     1.914477e+01     3  0.7792224 5.053634e-01\n",
       "AgeCar    7.711194e+01     3  3.1385778 2.427463e-02\n",
       "Residuals 1.206833e+05 14736         NA           NA"
      ]
     },
     "metadata": {},
     "output_type": "display_data"
    }
   ],
   "source": [
    "GLM_AnalysisCosts<-glm(MeanCharge ~ Fleet+Sport+ Cover+Split+AgeCar,\n",
    "                       family=Gamma(link=log),weights=NbrClaims, data = DataCosts_train)\n",
    "\n",
    "Anova(GLM_AnalysisCosts, type='III', test.statistic='F')"
   ]
  },
  {
   "cell_type": "markdown",
   "id": "4ca4d0bb-b825-4e1e-877a-c2b742d9bd71",
   "metadata": {},
   "source": [
    "The p-value of the variable \"Fleet\" is equal to 59% so we remove it:"
   ]
  },
  {
   "cell_type": "code",
   "execution_count": 41,
   "id": "3d9065f8-357d-450d-a8c3-805d22287b76",
   "metadata": {},
   "outputs": [
    {
     "data": {
      "text/html": [
       "<table class=\"dataframe\">\n",
       "<caption>A anova: 5 × 4</caption>\n",
       "<thead>\n",
       "\t<tr><th></th><th scope=col>Sum Sq</th><th scope=col>Df</th><th scope=col>F values</th><th scope=col>Pr(&gt;F)</th></tr>\n",
       "\t<tr><th></th><th scope=col>&lt;dbl&gt;</th><th scope=col>&lt;dbl&gt;</th><th scope=col>&lt;dbl&gt;</th><th scope=col>&lt;dbl&gt;</th></tr>\n",
       "</thead>\n",
       "<tbody>\n",
       "\t<tr><th scope=row>Sport</th><td>    18.52262</td><td>    1</td><td> 2.2626369</td><td>1.325497e-01</td></tr>\n",
       "\t<tr><th scope=row>Cover</th><td>   230.89648</td><td>    2</td><td>14.1026219</td><td>7.606112e-07</td></tr>\n",
       "\t<tr><th scope=row>Split</th><td>    18.82484</td><td>    3</td><td> 0.7665186</td><td>5.126255e-01</td></tr>\n",
       "\t<tr><th scope=row>AgeCar</th><td>    77.63190</td><td>    3</td><td> 3.1610508</td><td>2.354053e-02</td></tr>\n",
       "\t<tr><th scope=row>Residuals</th><td>120641.44856</td><td>14737</td><td>        NA</td><td>          NA</td></tr>\n",
       "</tbody>\n",
       "</table>\n"
      ],
      "text/latex": [
       "A anova: 5 × 4\n",
       "\\begin{tabular}{r|llll}\n",
       "  & Sum Sq & Df & F values & Pr(>F)\\\\\n",
       "  & <dbl> & <dbl> & <dbl> & <dbl>\\\\\n",
       "\\hline\n",
       "\tSport &     18.52262 &     1 &  2.2626369 & 1.325497e-01\\\\\n",
       "\tCover &    230.89648 &     2 & 14.1026219 & 7.606112e-07\\\\\n",
       "\tSplit &     18.82484 &     3 &  0.7665186 & 5.126255e-01\\\\\n",
       "\tAgeCar &     77.63190 &     3 &  3.1610508 & 2.354053e-02\\\\\n",
       "\tResiduals & 120641.44856 & 14737 &         NA &           NA\\\\\n",
       "\\end{tabular}\n"
      ],
      "text/markdown": [
       "\n",
       "A anova: 5 × 4\n",
       "\n",
       "| <!--/--> | Sum Sq &lt;dbl&gt; | Df &lt;dbl&gt; | F values &lt;dbl&gt; | Pr(&gt;F) &lt;dbl&gt; |\n",
       "|---|---|---|---|---|\n",
       "| Sport |     18.52262 |     1 |  2.2626369 | 1.325497e-01 |\n",
       "| Cover |    230.89648 |     2 | 14.1026219 | 7.606112e-07 |\n",
       "| Split |     18.82484 |     3 |  0.7665186 | 5.126255e-01 |\n",
       "| AgeCar |     77.63190 |     3 |  3.1610508 | 2.354053e-02 |\n",
       "| Residuals | 120641.44856 | 14737 |         NA |           NA |\n",
       "\n"
      ],
      "text/plain": [
       "          Sum Sq       Df    F values   Pr(>F)      \n",
       "Sport         18.52262     1  2.2626369 1.325497e-01\n",
       "Cover        230.89648     2 14.1026219 7.606112e-07\n",
       "Split         18.82484     3  0.7665186 5.126255e-01\n",
       "AgeCar        77.63190     3  3.1610508 2.354053e-02\n",
       "Residuals 120641.44856 14737         NA           NA"
      ]
     },
     "metadata": {},
     "output_type": "display_data"
    }
   ],
   "source": [
    "GLM_AnalysisCosts<-glm(MeanCharge ~ Sport+ Cover+Split+AgeCar,\n",
    "                       family=Gamma(link=log),weights=NbrClaims, data = DataCosts_train)\n",
    "\n",
    "Anova(GLM_AnalysisCosts, type='III', test.statistic='F')"
   ]
  },
  {
   "cell_type": "markdown",
   "id": "a707109d-6a7d-413b-a47c-7b9dd4569357",
   "metadata": {},
   "source": [
    "The p-value of the variable \"Split\" is equal to 51% so we remove it:"
   ]
  },
  {
   "cell_type": "code",
   "execution_count": 42,
   "id": "80a9c3c5-595a-4886-9323-d5c9ee28b87d",
   "metadata": {},
   "outputs": [
    {
     "data": {
      "text/html": [
       "<table class=\"dataframe\">\n",
       "<caption>A anova: 4 × 4</caption>\n",
       "<thead>\n",
       "\t<tr><th></th><th scope=col>Sum Sq</th><th scope=col>Df</th><th scope=col>F values</th><th scope=col>Pr(&gt;F)</th></tr>\n",
       "\t<tr><th></th><th scope=col>&lt;dbl&gt;</th><th scope=col>&lt;dbl&gt;</th><th scope=col>&lt;dbl&gt;</th><th scope=col>&lt;dbl&gt;</th></tr>\n",
       "</thead>\n",
       "<tbody>\n",
       "\t<tr><th scope=row>Sport</th><td>    16.55557</td><td>    1</td><td> 2.006134</td><td>1.566852e-01</td></tr>\n",
       "\t<tr><th scope=row>Cover</th><td>   238.10702</td><td>    2</td><td>14.426399</td><td>5.505776e-07</td></tr>\n",
       "\t<tr><th scope=row>AgeCar</th><td>    74.94768</td><td>    3</td><td> 3.027281</td><td>2.825424e-02</td></tr>\n",
       "\t<tr><th scope=row>Residuals</th><td>121641.49411</td><td>14740</td><td>       NA</td><td>          NA</td></tr>\n",
       "</tbody>\n",
       "</table>\n"
      ],
      "text/latex": [
       "A anova: 4 × 4\n",
       "\\begin{tabular}{r|llll}\n",
       "  & Sum Sq & Df & F values & Pr(>F)\\\\\n",
       "  & <dbl> & <dbl> & <dbl> & <dbl>\\\\\n",
       "\\hline\n",
       "\tSport &     16.55557 &     1 &  2.006134 & 1.566852e-01\\\\\n",
       "\tCover &    238.10702 &     2 & 14.426399 & 5.505776e-07\\\\\n",
       "\tAgeCar &     74.94768 &     3 &  3.027281 & 2.825424e-02\\\\\n",
       "\tResiduals & 121641.49411 & 14740 &        NA &           NA\\\\\n",
       "\\end{tabular}\n"
      ],
      "text/markdown": [
       "\n",
       "A anova: 4 × 4\n",
       "\n",
       "| <!--/--> | Sum Sq &lt;dbl&gt; | Df &lt;dbl&gt; | F values &lt;dbl&gt; | Pr(&gt;F) &lt;dbl&gt; |\n",
       "|---|---|---|---|---|\n",
       "| Sport |     16.55557 |     1 |  2.006134 | 1.566852e-01 |\n",
       "| Cover |    238.10702 |     2 | 14.426399 | 5.505776e-07 |\n",
       "| AgeCar |     74.94768 |     3 |  3.027281 | 2.825424e-02 |\n",
       "| Residuals | 121641.49411 | 14740 |        NA |           NA |\n",
       "\n"
      ],
      "text/plain": [
       "          Sum Sq       Df    F values  Pr(>F)      \n",
       "Sport         16.55557     1  2.006134 1.566852e-01\n",
       "Cover        238.10702     2 14.426399 5.505776e-07\n",
       "AgeCar        74.94768     3  3.027281 2.825424e-02\n",
       "Residuals 121641.49411 14740        NA           NA"
      ]
     },
     "metadata": {},
     "output_type": "display_data"
    }
   ],
   "source": [
    "GLM_AnalysisCosts<-glm(MeanCharge ~ Sport+ Cover+AgeCar,\n",
    "                       family=Gamma(link=log),weights=NbrClaims, data = DataCosts_train)\n",
    "\n",
    "Anova(GLM_AnalysisCosts, type='III', test.statistic='F')"
   ]
  },
  {
   "cell_type": "markdown",
   "id": "b036d6f7-d7d6-48de-a6e2-009e7d3dcc5e",
   "metadata": {},
   "source": [
    "The p-value of the variable \"Sport\" is equal to 15% so we remove it:"
   ]
  },
  {
   "cell_type": "code",
   "execution_count": 43,
   "id": "2cb4504a-44ec-44b2-81d5-fabbb58c9208",
   "metadata": {},
   "outputs": [
    {
     "data": {
      "text/html": [
       "<table class=\"dataframe\">\n",
       "<caption>A anova: 3 × 4</caption>\n",
       "<thead>\n",
       "\t<tr><th></th><th scope=col>Sum Sq</th><th scope=col>Df</th><th scope=col>F values</th><th scope=col>Pr(&gt;F)</th></tr>\n",
       "\t<tr><th></th><th scope=col>&lt;dbl&gt;</th><th scope=col>&lt;dbl&gt;</th><th scope=col>&lt;dbl&gt;</th><th scope=col>&lt;dbl&gt;</th></tr>\n",
       "</thead>\n",
       "<tbody>\n",
       "\t<tr><th scope=row>Cover</th><td>   232.19269</td><td>    2</td><td>13.899364</td><td>9.316814e-07</td></tr>\n",
       "\t<tr><th scope=row>AgeCar</th><td>    74.78375</td><td>    3</td><td> 2.984437</td><td>2.995093e-02</td></tr>\n",
       "\t<tr><th scope=row>Residuals</th><td>123126.22206</td><td>14741</td><td>       NA</td><td>          NA</td></tr>\n",
       "</tbody>\n",
       "</table>\n"
      ],
      "text/latex": [
       "A anova: 3 × 4\n",
       "\\begin{tabular}{r|llll}\n",
       "  & Sum Sq & Df & F values & Pr(>F)\\\\\n",
       "  & <dbl> & <dbl> & <dbl> & <dbl>\\\\\n",
       "\\hline\n",
       "\tCover &    232.19269 &     2 & 13.899364 & 9.316814e-07\\\\\n",
       "\tAgeCar &     74.78375 &     3 &  2.984437 & 2.995093e-02\\\\\n",
       "\tResiduals & 123126.22206 & 14741 &        NA &           NA\\\\\n",
       "\\end{tabular}\n"
      ],
      "text/markdown": [
       "\n",
       "A anova: 3 × 4\n",
       "\n",
       "| <!--/--> | Sum Sq &lt;dbl&gt; | Df &lt;dbl&gt; | F values &lt;dbl&gt; | Pr(&gt;F) &lt;dbl&gt; |\n",
       "|---|---|---|---|---|\n",
       "| Cover |    232.19269 |     2 | 13.899364 | 9.316814e-07 |\n",
       "| AgeCar |     74.78375 |     3 |  2.984437 | 2.995093e-02 |\n",
       "| Residuals | 123126.22206 | 14741 |        NA |           NA |\n",
       "\n"
      ],
      "text/plain": [
       "          Sum Sq       Df    F values  Pr(>F)      \n",
       "Cover        232.19269     2 13.899364 9.316814e-07\n",
       "AgeCar        74.78375     3  2.984437 2.995093e-02\n",
       "Residuals 123126.22206 14741        NA           NA"
      ]
     },
     "metadata": {},
     "output_type": "display_data"
    }
   ],
   "source": [
    "GLM_AnalysisCosts<-glm(MeanCharge ~  Cover+AgeCar,\n",
    "                       family=Gamma(link=log),weights=NbrClaims, data = DataCosts_train)\n",
    "\n",
    "Anova(GLM_AnalysisCosts, type='III', test.statistic='F')"
   ]
  },
  {
   "cell_type": "markdown",
   "id": "ef86209c-cfea-4dc1-8afd-eef80292a843",
   "metadata": {},
   "source": [
    "Both the \"Agecar\" and \"Cover\" variables are significative. We will now try some gatherings:"
   ]
  },
  {
   "cell_type": "code",
   "execution_count": 44,
   "id": "58d35039-f7ba-4d80-8cb8-84fc1004f936",
   "metadata": {},
   "outputs": [
    {
     "data": {
      "text/plain": [
       "                       Estimate Std. Error  t value   Pr(>|t|)\n",
       "AgeCar c=( -1 1 0 0 ) 0.1995756  0.1075011 1.856498 0.06340257"
      ]
     },
     "metadata": {},
     "output_type": "display_data"
    },
    {
     "data": {
      "text/plain": [
       "                         Estimate Std. Error   t value  Pr(>|t|)\n",
       "AgeCar c=( -1 0 1 0 ) -0.09220502 0.05784774 -1.593926 0.1109741"
      ]
     },
     "metadata": {},
     "output_type": "display_data"
    },
    {
     "data": {
      "text/plain": [
       "                           Estimate Std. Error       t value  Pr(>|t|)\n",
       "AgeCar c=( -1 0 0 1 ) -4.558944e-07 0.05975334 -7.629606e-06 0.9999939"
      ]
     },
     "metadata": {},
     "output_type": "display_data"
    },
    {
     "data": {
      "text/plain": [
       "                        Estimate Std. Error   t value    Pr(>|t|)\n",
       "AgeCar c=( 0 -1 1 0 ) -0.2917806  0.1053651 -2.769233 0.005625874"
      ]
     },
     "metadata": {},
     "output_type": "display_data"
    },
    {
     "data": {
      "text/plain": [
       "                       Estimate Std. Error  t value   Pr(>|t|)\n",
       "AgeCar c=( 0 -1 0 1 ) -0.199576  0.1141517 -1.74834 0.08042598"
      ]
     },
     "metadata": {},
     "output_type": "display_data"
    },
    {
     "data": {
      "text/plain": [
       "                        Estimate Std. Error  t value  Pr(>|t|)\n",
       "AgeCar c=( 0 0 -1 1 ) 0.09220456 0.06892683 1.337717 0.1810095"
      ]
     },
     "metadata": {},
     "output_type": "display_data"
    },
    {
     "data": {
      "text/plain": [
       "                     Estimate Std. Error   t value     Pr(>|t|)\n",
       "Cover c=( -1 1 0 ) -0.2225343 0.05546115 -4.012436 6.039212e-05"
      ]
     },
     "metadata": {},
     "output_type": "display_data"
    },
    {
     "data": {
      "text/plain": [
       "                    Estimate Std. Error  t value   Pr(>|t|)\n",
       "Cover c=( -1 0 1 ) 0.1603938 0.07711661 2.079886 0.03755323"
      ]
     },
     "metadata": {},
     "output_type": "display_data"
    },
    {
     "data": {
      "text/plain": [
       "                    Estimate Std. Error  t value     Pr(>|t|)\n",
       "Cover c=( 0 -1 1 ) 0.3829281 0.07950803 4.816219 1.477577e-06"
      ]
     },
     "metadata": {},
     "output_type": "display_data"
    }
   ],
   "source": [
    "# \"AgeCar\" variable\n",
    "fit.contrast(GLM_AnalysisCosts,\"AgeCar\",c(-1,1,0,0))\n",
    "fit.contrast(GLM_AnalysisCosts,\"AgeCar\",c(-1,0,1,0))\n",
    "fit.contrast(GLM_AnalysisCosts,\"AgeCar\",c(-1,0,0,1))\n",
    "fit.contrast(GLM_AnalysisCosts,\"AgeCar\",c(0,-1,1,0))\n",
    "fit.contrast(GLM_AnalysisCosts,\"AgeCar\",c(0,-1,0,1))\n",
    "fit.contrast(GLM_AnalysisCosts,\"AgeCar\",c(0,0,-1,1))\n",
    "\n",
    "# \"Cover\" variable\n",
    "fit.contrast(GLM_AnalysisCosts,\"Cover\",c(-1,1,0))\n",
    "fit.contrast(GLM_AnalysisCosts,\"Cover\",c(-1,0,1))\n",
    "fit.contrast(GLM_AnalysisCosts,\"Cover\",c(0,-1,1))"
   ]
  },
  {
   "cell_type": "markdown",
   "id": "99f347d3-0e5a-4e5a-9a95-8237d0e56ee6",
   "metadata": {},
   "source": [
    "The levels \"6-10\" and \">10\" of the AgeCar variable should be gathered as the coresponding p-value is equal to 99%."
   ]
  },
  {
   "cell_type": "code",
   "execution_count": 45,
   "id": "5a6729dc-f145-4ebd-8591-62c7a2e415ee",
   "metadata": {},
   "outputs": [
    {
     "data": {
      "text/html": [
       "<style>\n",
       ".list-inline {list-style: none; margin:0; padding: 0}\n",
       ".list-inline>li {display: inline-block}\n",
       ".list-inline>li:not(:last-child)::after {content: \"\\00b7\"; padding: 0 .5ex}\n",
       "</style>\n",
       "<ol class=list-inline><li>'6-10'</li><li>'0-1'</li><li>'2-5'</li><li>'&gt;10'</li></ol>\n"
      ],
      "text/latex": [
       "\\begin{enumerate*}\n",
       "\\item '6-10'\n",
       "\\item '0-1'\n",
       "\\item '2-5'\n",
       "\\item '>10'\n",
       "\\end{enumerate*}\n"
      ],
      "text/markdown": [
       "1. '6-10'\n",
       "2. '0-1'\n",
       "3. '2-5'\n",
       "4. '&gt;10'\n",
       "\n",
       "\n"
      ],
      "text/plain": [
       "[1] \"6-10\" \"0-1\"  \"2-5\"  \">10\" "
      ]
     },
     "metadata": {},
     "output_type": "display_data"
    },
    {
     "data": {
      "text/html": [
       "<table class=\"dataframe\">\n",
       "<caption>A anova: 3 × 4</caption>\n",
       "<thead>\n",
       "\t<tr><th></th><th scope=col>Sum Sq</th><th scope=col>Df</th><th scope=col>F values</th><th scope=col>Pr(&gt;F)</th></tr>\n",
       "\t<tr><th></th><th scope=col>&lt;dbl&gt;</th><th scope=col>&lt;dbl&gt;</th><th scope=col>&lt;dbl&gt;</th><th scope=col>&lt;dbl&gt;</th></tr>\n",
       "</thead>\n",
       "<tbody>\n",
       "\t<tr><th scope=row>Cover</th><td>   235.09803</td><td>    2</td><td>14.074236</td><td>7.824652e-07</td></tr>\n",
       "\t<tr><th scope=row>AgeCar</th><td>    74.78375</td><td>    2</td><td> 4.476959</td><td>1.138339e-02</td></tr>\n",
       "\t<tr><th scope=row>Residuals</th><td>123126.22446</td><td>14742</td><td>       NA</td><td>          NA</td></tr>\n",
       "</tbody>\n",
       "</table>\n"
      ],
      "text/latex": [
       "A anova: 3 × 4\n",
       "\\begin{tabular}{r|llll}\n",
       "  & Sum Sq & Df & F values & Pr(>F)\\\\\n",
       "  & <dbl> & <dbl> & <dbl> & <dbl>\\\\\n",
       "\\hline\n",
       "\tCover &    235.09803 &     2 & 14.074236 & 7.824652e-07\\\\\n",
       "\tAgeCar &     74.78375 &     2 &  4.476959 & 1.138339e-02\\\\\n",
       "\tResiduals & 123126.22446 & 14742 &        NA &           NA\\\\\n",
       "\\end{tabular}\n"
      ],
      "text/markdown": [
       "\n",
       "A anova: 3 × 4\n",
       "\n",
       "| <!--/--> | Sum Sq &lt;dbl&gt; | Df &lt;dbl&gt; | F values &lt;dbl&gt; | Pr(&gt;F) &lt;dbl&gt; |\n",
       "|---|---|---|---|---|\n",
       "| Cover |    235.09803 |     2 | 14.074236 | 7.824652e-07 |\n",
       "| AgeCar |     74.78375 |     2 |  4.476959 | 1.138339e-02 |\n",
       "| Residuals | 123126.22446 | 14742 |        NA |           NA |\n",
       "\n"
      ],
      "text/plain": [
       "          Sum Sq       Df    F values  Pr(>F)      \n",
       "Cover        235.09803     2 14.074236 7.824652e-07\n",
       "AgeCar        74.78375     2  4.476959 1.138339e-02\n",
       "Residuals 123126.22446 14742        NA           NA"
      ]
     },
     "metadata": {},
     "output_type": "display_data"
    }
   ],
   "source": [
    "levels(DataCosts_train$AgeCar)\n",
    "\n",
    "DataCosts_train[[\"AgeCar\"]] <- with(DataCosts_train, ifelse(AgeCar==\"2-5\",\"2-5\",ifelse(AgeCar == \"0-1\", \"0-1\", \">5\")))\n",
    "DataCosts_train[[\"AgeCar\"]] <-as.factor(DataCosts_train[[\"AgeCar\"]])   \n",
    "DataCosts_train[[\"AgeCar\"]] <- fct_relevel(DataCosts_train[[\"AgeCar\"]], \">5\")\n",
    "\n",
    "\n",
    "# Perform a new GLM analysis\n",
    "GLM_AnalysisCosts<-glm(MeanCharge ~  Cover+AgeCar,\n",
    "                       family=Gamma(link=log),weights=NbrClaims, data = DataCosts_train)\n",
    "\n",
    "Anova(GLM_AnalysisCosts, type='III', test.statistic='F')"
   ]
  },
  {
   "cell_type": "markdown",
   "id": "029e07d1-ae8c-4805-958b-b5bc54f8b864",
   "metadata": {},
   "source": [
    "We can try further gatherings on both variables."
   ]
  },
  {
   "cell_type": "code",
   "execution_count": 46,
   "id": "4f8c8882-e00b-4ef4-8771-8b28012f8ea0",
   "metadata": {},
   "outputs": [
    {
     "data": {
      "text/plain": [
       "                     Estimate Std. Error  t value   Pr(>|t|)\n",
       "AgeCar c=( -1 1 0 ) 0.1995758  0.1060567 1.881785 0.05988492"
      ]
     },
     "metadata": {},
     "output_type": "display_data"
    },
    {
     "data": {
      "text/plain": [
       "                       Estimate Std. Error   t value  Pr(>|t|)\n",
       "AgeCar c=( -1 0 1 ) -0.09220493 0.05493345 -1.678484 0.0932738"
      ]
     },
     "metadata": {},
     "output_type": "display_data"
    },
    {
     "data": {
      "text/plain": [
       "                      Estimate Std. Error   t value    Pr(>|t|)\n",
       "AgeCar c=( 0 -1 1 ) -0.2917808    0.10536 -2.769371 0.005623492"
      ]
     },
     "metadata": {},
     "output_type": "display_data"
    },
    {
     "data": {
      "text/plain": [
       "                    Estimate Std. Error   t value     Pr(>|t|)\n",
       "Cover c=( -1 1 0 ) -0.222534 0.05447085 -4.085379 4.423774e-05"
      ]
     },
     "metadata": {},
     "output_type": "display_data"
    },
    {
     "data": {
      "text/plain": [
       "                   Estimate Std. Error  t value   Pr(>|t|)\n",
       "Cover c=( -1 0 1 ) 0.160394 0.07674565 2.089942 0.03664008"
      ]
     },
     "metadata": {},
     "output_type": "display_data"
    },
    {
     "data": {
      "text/plain": [
       "                   Estimate Std. Error  t value     Pr(>|t|)\n",
       "Cover c=( 0 -1 1 ) 0.382928 0.07945258 4.819579 1.452949e-06"
      ]
     },
     "metadata": {},
     "output_type": "display_data"
    }
   ],
   "source": [
    " # \"AgeCar\" variable\n",
    "fit.contrast(GLM_AnalysisCosts,\"AgeCar\",c(-1,1,0))\n",
    "fit.contrast(GLM_AnalysisCosts,\"AgeCar\",c(-1,0,1))\n",
    "fit.contrast(GLM_AnalysisCosts,\"AgeCar\",c(0,-1,1))\n",
    "\n",
    "# \"Cover\" variable\n",
    "fit.contrast(GLM_AnalysisCosts,\"Cover\",c(-1,1,0))\n",
    "fit.contrast(GLM_AnalysisCosts,\"Cover\",c(-1,0,1))\n",
    "fit.contrast(GLM_AnalysisCosts,\"Cover\",c(0,-1,1))"
   ]
  },
  {
   "cell_type": "markdown",
   "id": "4b68ec46-1ec2-47d0-a903-acef9a890e28",
   "metadata": {},
   "source": [
    "The levels \"2-5\" and \">5\" of the AgeCar variable should be gathered as the corresponding p-value is equal to 9%."
   ]
  },
  {
   "cell_type": "code",
   "execution_count": 47,
   "id": "5c77380b-6dba-4549-b27a-3ae3e1201759",
   "metadata": {},
   "outputs": [
    {
     "data": {
      "text/html": [
       "<style>\n",
       ".list-inline {list-style: none; margin:0; padding: 0}\n",
       ".list-inline>li {display: inline-block}\n",
       ".list-inline>li:not(:last-child)::after {content: \"\\00b7\"; padding: 0 .5ex}\n",
       "</style>\n",
       "<ol class=list-inline><li>'&gt;5'</li><li>'0-1'</li><li>'2-5'</li></ol>\n"
      ],
      "text/latex": [
       "\\begin{enumerate*}\n",
       "\\item '>5'\n",
       "\\item '0-1'\n",
       "\\item '2-5'\n",
       "\\end{enumerate*}\n"
      ],
      "text/markdown": [
       "1. '&gt;5'\n",
       "2. '0-1'\n",
       "3. '2-5'\n",
       "\n",
       "\n"
      ],
      "text/plain": [
       "[1] \">5\"  \"0-1\" \"2-5\""
      ]
     },
     "metadata": {},
     "output_type": "display_data"
    },
    {
     "data": {
      "text/html": [
       "<table class=\"dataframe\">\n",
       "<caption>A anova: 3 × 4</caption>\n",
       "<thead>\n",
       "\t<tr><th></th><th scope=col>Sum Sq</th><th scope=col>Df</th><th scope=col>F values</th><th scope=col>Pr(&gt;F)</th></tr>\n",
       "\t<tr><th></th><th scope=col>&lt;dbl&gt;</th><th scope=col>&lt;dbl&gt;</th><th scope=col>&lt;dbl&gt;</th><th scope=col>&lt;dbl&gt;</th></tr>\n",
       "</thead>\n",
       "<tbody>\n",
       "\t<tr><th scope=row>Cover</th><td>   230.88313</td><td>    2</td><td>13.725650</td><td>1.108073e-06</td></tr>\n",
       "\t<tr><th scope=row>AgeCar</th><td>    51.25616</td><td>    1</td><td> 6.094201</td><td>1.357388e-02</td></tr>\n",
       "\t<tr><th scope=row>Residuals</th><td>123998.12942</td><td>14743</td><td>       NA</td><td>          NA</td></tr>\n",
       "</tbody>\n",
       "</table>\n"
      ],
      "text/latex": [
       "A anova: 3 × 4\n",
       "\\begin{tabular}{r|llll}\n",
       "  & Sum Sq & Df & F values & Pr(>F)\\\\\n",
       "  & <dbl> & <dbl> & <dbl> & <dbl>\\\\\n",
       "\\hline\n",
       "\tCover &    230.88313 &     2 & 13.725650 & 1.108073e-06\\\\\n",
       "\tAgeCar &     51.25616 &     1 &  6.094201 & 1.357388e-02\\\\\n",
       "\tResiduals & 123998.12942 & 14743 &        NA &           NA\\\\\n",
       "\\end{tabular}\n"
      ],
      "text/markdown": [
       "\n",
       "A anova: 3 × 4\n",
       "\n",
       "| <!--/--> | Sum Sq &lt;dbl&gt; | Df &lt;dbl&gt; | F values &lt;dbl&gt; | Pr(&gt;F) &lt;dbl&gt; |\n",
       "|---|---|---|---|---|\n",
       "| Cover |    230.88313 |     2 | 13.725650 | 1.108073e-06 |\n",
       "| AgeCar |     51.25616 |     1 |  6.094201 | 1.357388e-02 |\n",
       "| Residuals | 123998.12942 | 14743 |        NA |           NA |\n",
       "\n"
      ],
      "text/plain": [
       "          Sum Sq       Df    F values  Pr(>F)      \n",
       "Cover        230.88313     2 13.725650 1.108073e-06\n",
       "AgeCar        51.25616     1  6.094201 1.357388e-02\n",
       "Residuals 123998.12942 14743        NA           NA"
      ]
     },
     "metadata": {},
     "output_type": "display_data"
    }
   ],
   "source": [
    "levels(DataCosts_train$AgeCar)\n",
    "\n",
    "\n",
    "DataCosts_train[[\"AgeCar\"]] <- with(DataCosts_train, ifelse(AgeCar==\"0-1\",\"0-1\",\">1\"))\n",
    "DataCosts_train[[\"AgeCar\"]] <-as.factor(DataCosts_train[[\"AgeCar\"]])   \n",
    "DataCosts_train[[\"AgeCar\"]] <- fct_relevel(DataCosts_train[[\"AgeCar\"]], \">1\")\n",
    "\n",
    "# Perform a new GLM analysis\n",
    "GLM_AnalysisCosts<-glm(MeanCharge ~  Cover+AgeCar,\n",
    "                       family=Gamma(link=log),weights=NbrClaims, data = DataCosts_train)\n",
    "\n",
    "Anova(GLM_AnalysisCosts, type='III', test.statistic='F')"
   ]
  },
  {
   "cell_type": "markdown",
   "id": "55518054-5058-4078-add7-925bc7d54ebd",
   "metadata": {},
   "source": [
    "The Agecar variable cannot be grouped anymore but we can still try some gatherings on the Cover variable."
   ]
  },
  {
   "cell_type": "code",
   "execution_count": 48,
   "id": "79b479cb-df7a-44b0-85c7-381c8705c63b",
   "metadata": {},
   "outputs": [
    {
     "data": {
      "text/plain": [
       "                     Estimate Std. Error   t value     Pr(>|t|)\n",
       "Cover c=( -1 1 0 ) -0.2434211 0.05322812 -4.573167 4.843173e-06"
      ]
     },
     "metadata": {},
     "output_type": "display_data"
    },
    {
     "data": {
      "text/plain": [
       "                    Estimate Std. Error  t value  Pr(>|t|)\n",
       "Cover c=( -1 0 1 ) 0.1123112 0.07100614 1.581712 0.1137369"
      ]
     },
     "metadata": {},
     "output_type": "display_data"
    },
    {
     "data": {
      "text/plain": [
       "                    Estimate Std. Error  t value     Pr(>|t|)\n",
       "Cover c=( 0 -1 1 ) 0.3557323 0.07781207 4.571686 4.877497e-06"
      ]
     },
     "metadata": {},
     "output_type": "display_data"
    }
   ],
   "source": [
    "fit.contrast(GLM_AnalysisCosts,\"Cover\",c(-1,1,0))\n",
    "fit.contrast(GLM_AnalysisCosts,\"Cover\",c(-1,0,1))\n",
    "fit.contrast(GLM_AnalysisCosts,\"Cover\",c(0,-1,1))"
   ]
  },
  {
   "cell_type": "markdown",
   "id": "2b9997f2-04b7-485e-bb8b-2b404becf12b",
   "metadata": {},
   "source": [
    "The modalities \"MTPL\" and \"MTPL+++\" of \"Cover\" should be gathered (\"Other\") as the p-value equals 11%"
   ]
  },
  {
   "cell_type": "code",
   "execution_count": 49,
   "id": "a0b1a668-d924-4c0e-9554-f2ee957f0d11",
   "metadata": {},
   "outputs": [
    {
     "data": {
      "text/html": [
       "<style>\n",
       ".list-inline {list-style: none; margin:0; padding: 0}\n",
       ".list-inline>li {display: inline-block}\n",
       ".list-inline>li:not(:last-child)::after {content: \"\\00b7\"; padding: 0 .5ex}\n",
       "</style>\n",
       "<ol class=list-inline><li>'MTPL'</li><li>'MTPL+'</li><li>'MTPL+++'</li></ol>\n"
      ],
      "text/latex": [
       "\\begin{enumerate*}\n",
       "\\item 'MTPL'\n",
       "\\item 'MTPL+'\n",
       "\\item 'MTPL+++'\n",
       "\\end{enumerate*}\n"
      ],
      "text/markdown": [
       "1. 'MTPL'\n",
       "2. 'MTPL+'\n",
       "3. 'MTPL+++'\n",
       "\n",
       "\n"
      ],
      "text/plain": [
       "[1] \"MTPL\"    \"MTPL+\"   \"MTPL+++\""
      ]
     },
     "metadata": {},
     "output_type": "display_data"
    },
    {
     "data": {
      "text/html": [
       "<table class=\"dataframe\">\n",
       "<caption>A anova: 3 × 4</caption>\n",
       "<thead>\n",
       "\t<tr><th></th><th scope=col>Sum Sq</th><th scope=col>Df</th><th scope=col>F values</th><th scope=col>Pr(&gt;F)</th></tr>\n",
       "\t<tr><th></th><th scope=col>&lt;dbl&gt;</th><th scope=col>&lt;dbl&gt;</th><th scope=col>&lt;dbl&gt;</th><th scope=col>&lt;dbl&gt;</th></tr>\n",
       "</thead>\n",
       "<tbody>\n",
       "\t<tr><th scope=row>Cover</th><td>   209.71599</td><td>    1</td><td>24.871683</td><td>6.197272e-07</td></tr>\n",
       "\t<tr><th scope=row>AgeCar</th><td>    83.46094</td><td>    1</td><td> 9.898216</td><td>1.657682e-03</td></tr>\n",
       "\t<tr><th scope=row>Residuals</th><td>124320.19584</td><td>14744</td><td>       NA</td><td>          NA</td></tr>\n",
       "</tbody>\n",
       "</table>\n"
      ],
      "text/latex": [
       "A anova: 3 × 4\n",
       "\\begin{tabular}{r|llll}\n",
       "  & Sum Sq & Df & F values & Pr(>F)\\\\\n",
       "  & <dbl> & <dbl> & <dbl> & <dbl>\\\\\n",
       "\\hline\n",
       "\tCover &    209.71599 &     1 & 24.871683 & 6.197272e-07\\\\\n",
       "\tAgeCar &     83.46094 &     1 &  9.898216 & 1.657682e-03\\\\\n",
       "\tResiduals & 124320.19584 & 14744 &        NA &           NA\\\\\n",
       "\\end{tabular}\n"
      ],
      "text/markdown": [
       "\n",
       "A anova: 3 × 4\n",
       "\n",
       "| <!--/--> | Sum Sq &lt;dbl&gt; | Df &lt;dbl&gt; | F values &lt;dbl&gt; | Pr(&gt;F) &lt;dbl&gt; |\n",
       "|---|---|---|---|---|\n",
       "| Cover |    209.71599 |     1 | 24.871683 | 6.197272e-07 |\n",
       "| AgeCar |     83.46094 |     1 |  9.898216 | 1.657682e-03 |\n",
       "| Residuals | 124320.19584 | 14744 |        NA |           NA |\n",
       "\n"
      ],
      "text/plain": [
       "          Sum Sq       Df    F values  Pr(>F)      \n",
       "Cover        209.71599     1 24.871683 6.197272e-07\n",
       "AgeCar        83.46094     1  9.898216 1.657682e-03\n",
       "Residuals 124320.19584 14744        NA           NA"
      ]
     },
     "metadata": {},
     "output_type": "display_data"
    },
    {
     "data": {
      "text/plain": [
       "\n",
       "Call:\n",
       "glm(formula = MeanCharge ~ Cover + AgeCar, family = Gamma(link = log), \n",
       "    data = DataCosts_train, weights = NbrClaims)\n",
       "\n",
       "Coefficients:\n",
       "            Estimate Std. Error t value Pr(>|t|)    \n",
       "(Intercept)  7.23973    0.02707 267.487  < 2e-16 ***\n",
       "CoverMTPL+  -0.26385    0.05173  -5.101 3.42e-07 ***\n",
       "AgeCar0-1    0.29691    0.09856   3.012   0.0026 ** \n",
       "---\n",
       "Signif. codes:  0 '***' 0.001 '**' 0.01 '*' 0.05 '.' 0.1 ' ' 1\n",
       "\n",
       "(Dispersion parameter for Gamma family taken to be 8.431918)\n",
       "\n",
       "    Null deviance: 34005  on 14746  degrees of freedom\n",
       "Residual deviance: 33699  on 14744  degrees of freedom\n",
       "AIC: 264239\n",
       "\n",
       "Number of Fisher Scoring iterations: 7\n"
      ]
     },
     "metadata": {},
     "output_type": "display_data"
    }
   ],
   "source": [
    "levels(DataCosts_train$Cover)\n",
    "\n",
    "DataCosts_train[[\"Cover\"]] <- with(DataCosts_train, ifelse(Cover==\"MTPL+\",\"MTPL+\",\"Other\"))  \n",
    "DataCosts_train[[\"Cover\"]] <-as.factor(DataCosts_train[[\"Cover\"]])   \n",
    "DataCosts_train[[\"Cover\"]] <- fct_relevel(DataCosts_train[[\"Cover\"]], \"Other\")\n",
    "\n",
    "# Perform a new GLM analysis\n",
    "GLM_AnalysisCosts<-glm(MeanCharge ~  Cover+AgeCar,\n",
    "                       family=Gamma(link=log),weights=NbrClaims, data = DataCosts_train)\n",
    "\n",
    "Anova(GLM_AnalysisCosts, type='III', test.statistic='F')\n",
    "summary(GLM_AnalysisCosts)"
   ]
  },
  {
   "cell_type": "markdown",
   "id": "2ea330da-f1e4-4985-9fad-60c3b54df84a",
   "metadata": {},
   "source": [
    "No more gatherings can be performed. These changes can be applied on the test set dand we can compute the error obtained on this test dataset and compare it with the one obtained using a simple average."
   ]
  },
  {
   "cell_type": "code",
   "execution_count": 50,
   "id": "92735f92-e310-4641-8747-955f0df6e03a",
   "metadata": {},
   "outputs": [
    {
     "data": {
      "text/html": [
       "8061.22253210542"
      ],
      "text/latex": [
       "8061.22253210542"
      ],
      "text/markdown": [
       "8061.22253210542"
      ],
      "text/plain": [
       "[1] 8061.223"
      ]
     },
     "metadata": {},
     "output_type": "display_data"
    },
    {
     "data": {
      "text/html": [
       "8142.35037148716"
      ],
      "text/latex": [
       "8142.35037148716"
      ],
      "text/markdown": [
       "8142.35037148716"
      ],
      "text/plain": [
       "[1] 8142.35"
      ]
     },
     "metadata": {},
     "output_type": "display_data"
    }
   ],
   "source": [
    "## Apply these changes on the test dataset\n",
    "DataCosts_test[[\"AgeCar\"]] <- with(DataCosts_test, ifelse(AgeCar==\"0-1\",\"0-1\",\">1\"))\n",
    "DataCosts_test[[\"Cover\"]] <- with(DataCosts_test, ifelse(Cover==\"MTPL+\",\"MTPL+\",\"Other\"))  \n",
    "\n",
    "# Compute the error on the test dataset and compare it to the error obtained using the simple average\n",
    "predict_test <- predict(GLM_AnalysisCosts, newdata = DataCosts_test, type=\"response\")  \n",
    "Cost_Dev_GLM <- deviance_g(DataCosts_test$MeanCharge, predict_test,DataCosts_test$NbrClaims)\n",
    "Cost_Dev_GLM\n",
    "\n",
    "Mu <- sum(DataCosts_train$ClaimAmount)/sum(DataCosts_train$NbrClaims)\n",
    "Cost_Dev_MEAN <- deviance_g(DataCosts_test$MeanCharge, \n",
    "                            rep(Mu, nrow(DataCosts_test)),DataCosts_test$NbrClaims)\n",
    "Cost_Dev_MEAN"
   ]
  },
  {
   "cell_type": "markdown",
   "id": "34953f96-689a-4f58-9345-e944145fffe8",
   "metadata": {},
   "source": [
    "As we did during the frequency analysis, we will also perform a \n",
    "χ2test to determine whether or not we can reject the null hypothesis (model with 0 explaining variables -> mean model).\n",
    "\n",
    "The hypothesis are similar to the one defined in the previous part: H1 corresponds to a situation where our parameters have for values the ones given by the GLM. H0matches a situation where all βcoefficients are set to 0."
   ]
  },
  {
   "cell_type": "code",
   "execution_count": 53,
   "id": "c0dd8e3f-bdf4-4c9d-848d-e30a5822a4b5",
   "metadata": {},
   "outputs": [
    {
     "data": {
      "text/html": [
       "2.41720516681936e-18"
      ],
      "text/latex": [
       "2.41720516681936e-18"
      ],
      "text/markdown": [
       "2.41720516681936e-18"
      ],
      "text/plain": [
       "[1] 2.417205e-18"
      ]
     },
     "metadata": {},
     "output_type": "display_data"
    }
   ],
   "source": [
    "# Null hypothesis: the model with 0 parameter (ie, using the mean)\n",
    "# H0 is rejected if Delta (= Dev_MEAN - Dev_GLM) is too large\n",
    "\n",
    "Delta <- Cost_Dev_MEAN - Cost_Dev_GLM\n",
    "pchisq(Delta, df=2, lower.tail=FALSE)"
   ]
  },
  {
   "cell_type": "markdown",
   "id": "7cc4b0f2-0e44-4a03-ae50-5e76504bbb90",
   "metadata": {},
   "source": [
    "2.41720516681936e-18 <5% thus we can rejext the null hypotheses H0."
   ]
  },
  {
   "cell_type": "markdown",
   "id": "66c9fb87-58c1-45fa-985c-7cd8c3ed621e",
   "metadata": {},
   "source": [
    "## 4 Pure premium : adjusting factor - global balance"
   ]
  },
  {
   "cell_type": "markdown",
   "id": "6b9b3028-d55e-4c90-b89f-a8717a3fcf8a",
   "metadata": {},
   "source": [
    "We will now use the results obtained in Chapter 2 and Chapter 3 to compute the pure premium for each policyholder.\n",
    "First we will again use a dataset without atypical claims."
   ]
  },
  {
   "cell_type": "code",
   "execution_count": 54,
   "id": "8359cb8f-6dca-48c8-998c-d04eec0f78c3",
   "metadata": {},
   "outputs": [],
   "source": [
    "DataGB <- DataAttr_train"
   ]
  },
  {
   "cell_type": "markdown",
   "id": "f4a4b8f6-dc83-4b5a-8e83-d756f23c263e",
   "metadata": {},
   "source": [
    "We will then apply our findings on Chapter 2 to our database. This can be done using the predict function. This gives us a predicted number of claims for each policyholder in the database."
   ]
  },
  {
   "cell_type": "code",
   "execution_count": 55,
   "id": "bfd5afdc-7ccf-4034-97d8-f7effe45fdb0",
   "metadata": {},
   "outputs": [],
   "source": [
    "# Apply the frequency changes on the dataset\n",
    "DataGB$OldAgeCar <- DataGB[[\"AgeCar\"]] \n",
    "DataGB$OldCover <- DataGB[[\"Cover\"]] \n",
    "DataGB[[\"AgeCar\"]] <- with(DataGB, ifelse(AgeCar==\"2-5\",\"2-5\",ifelse(AgeCar == \"0-1\", \"0-1\", \">5\")))\n",
    "DataGB[[\"Cover\"]] <- with(DataGB, ifelse(Cover==\"MTPL\",\"MTPL\",\"More\"))  \n",
    "\n",
    "DataGB$PredNrClaims <- predict(GLM_Analysis, newdata = DataGB, type=\"response\")"
   ]
  },
  {
   "cell_type": "code",
   "execution_count": 56,
   "id": "42ca30d0-3218-4837-b4a0-1b1c406fe88c",
   "metadata": {},
   "outputs": [],
   "source": [
    "#Using our final model determined in Chapter 3, we can predict the average claim amount for each policyholder in the database:\n",
    "DataGB$AgeCar <- DataGB$OldAgeCar\n",
    "DataGB$Cover <- DataGB$OldCover\n",
    "DataGB[[\"AgeCar\"]] <- with(DataGB, ifelse(AgeCar==\"0-1\",\"0-1\",\">1\"))\n",
    "DataGB[[\"Cover\"]] <- with(DataGB, ifelse(Cover==\"MTPL+\",\"MTPL+\",\"Other\"))  \n",
    "\n",
    "DataGB$PredMeanCost <- predict(GLM_AnalysisCosts, newdata = DataGB, type=\"response\")"
   ]
  },
  {
   "cell_type": "code",
   "execution_count": 57,
   "id": "74a4e3bc-1e6b-45a6-9a0f-ce9449cb405c",
   "metadata": {},
   "outputs": [
    {
     "data": {
      "text/html": [
       "21783451.8279863"
      ],
      "text/latex": [
       "21783451.8279863"
      ],
      "text/markdown": [
       "21783451.8279863"
      ],
      "text/plain": [
       "[1] 21783452"
      ]
     },
     "metadata": {},
     "output_type": "display_data"
    },
    {
     "data": {
      "text/html": [
       "21792995.2230506"
      ],
      "text/latex": [
       "21792995.2230506"
      ],
      "text/markdown": [
       "21792995.2230506"
      ],
      "text/plain": [
       "[1] 21792995"
      ]
     },
     "metadata": {},
     "output_type": "display_data"
    }
   ],
   "source": [
    "#Finally we can compute the pure premium for each policyholder by multiplying the number of claims by the average claim amount:\n",
    "DataGB$PredPP <- DataGB$PredNrClaims  * DataGB$PredMeanCost \n",
    "sum(DataGB$PredPP)\n",
    "sum(DataGB$ClaimAmount)"
   ]
  },
  {
   "cell_type": "code",
   "execution_count": 58,
   "id": "a23eec3f-177d-4597-93ba-bf8fc6bc6cb5",
   "metadata": {},
   "outputs": [
    {
     "data": {
      "text/html": [
       "1.00043810297558"
      ],
      "text/latex": [
       "1.00043810297558"
      ],
      "text/markdown": [
       "1.00043810297558"
      ],
      "text/plain": [
       "[1] 1.000438"
      ]
     },
     "metadata": {},
     "output_type": "display_data"
    }
   ],
   "source": [
    "#The total predicted pure premium is not equal to the total observed claim amount and we can thus compute an adjusting factor which should be applied to the intercept of our technical tariff.\n",
    "#Adjusting factor\n",
    "sum(DataGB$ClaimAmount)/sum(DataGB$PredPP)"
   ]
  },
  {
   "cell_type": "markdown",
   "id": "ea23d8e2-402e-4378-bbbc-89dd2bfd6493",
   "metadata": {},
   "source": [
    "## 5 Atypical treatment"
   ]
  },
  {
   "cell_type": "markdown",
   "id": "23da2af2-7d6f-4728-94a4-3754ae28f093",
   "metadata": {},
   "source": [
    "In this part, we will deal with the atypical Claims, which were removed in the previous chapters.\n",
    "We first start by building our updated database, with a new binary column to determine whether or not the claim is Atypical."
   ]
  },
  {
   "cell_type": "code",
   "execution_count": 59,
   "id": "8685962c-cc53-4ffa-b163-8fa68a2da99c",
   "metadata": {},
   "outputs": [],
   "source": [
    "# We create a new variable 'Atypical' which has the value 0 if the Mean charge is below 100k and 1 if it is equal or above 100k\n",
    "DataAty_train<-Data_train\n",
    "DataAty_train[[\"Atypical\"]]<-with(DataAty_train,ifelse(MeanCharge <= 100000, 0, 1))\n",
    "\n",
    "DataAty_test<-Data_test\n",
    "DataAty_test[[\"Atypical\"]]<-with(DataAty_test,ifelse(MeanCharge <= 100000, 0, 1))"
   ]
  },
  {
   "cell_type": "markdown",
   "id": "bcb0cd60-325b-4d9d-b367-73cf3f6c19bf",
   "metadata": {},
   "source": [
    "Now, we will apply the glm function to model the atypical claims' occurence. We will thus try to detect if some variables can explain the occurence of a large claim during the year or not. This is performed using a binomial distribution with the complementary log-log link function, since we want to model a variable which indicates whether a count is nonzero (with the possibility that the count might be modeled by a Poisson distribution)."
   ]
  },
  {
   "cell_type": "code",
   "execution_count": 60,
   "id": "38e4e22c-66c9-4543-bc89-ccf2a5db0c30",
   "metadata": {},
   "outputs": [
    {
     "name": "stderr",
     "output_type": "stream",
     "text": [
      "Warning message:\n",
      "\"glm.fit: des probabilités ont été ajustées numériquement à 0 ou 1\"\n",
      "Warning message in printHypothesis(L, rhs, names(b)):\n",
      "\"one or more coefficients in the hypothesis include\n",
      "     arithmetic operators in their names;\n",
      "  the printed representation of the hypothesis will be omitted\"\n",
      "Warning message in printHypothesis(L, rhs, names(b)):\n",
      "\"one or more coefficients in the hypothesis include\n",
      "     arithmetic operators in their names;\n",
      "  the printed representation of the hypothesis will be omitted\"\n",
      "Warning message in printHypothesis(L, rhs, names(b)):\n",
      "\"one or more coefficients in the hypothesis include\n",
      "     arithmetic operators in their names;\n",
      "  the printed representation of the hypothesis will be omitted\"\n"
     ]
    },
    {
     "data": {
      "text/html": [
       "<table class=\"dataframe\">\n",
       "<caption>A anova: 10 × 3</caption>\n",
       "<thead>\n",
       "\t<tr><th></th><th scope=col>Df</th><th scope=col>Chisq</th><th scope=col>Pr(&gt;Chisq)</th></tr>\n",
       "\t<tr><th></th><th scope=col>&lt;dbl&gt;</th><th scope=col>&lt;dbl&gt;</th><th scope=col>&lt;dbl&gt;</th></tr>\n",
       "</thead>\n",
       "<tbody>\n",
       "\t<tr><th scope=row>(Intercept)</th><td>1</td><td>2.046868e+02</td><td>1.982071e-46</td></tr>\n",
       "\t<tr><th scope=row>Sex</th><td>1</td><td>2.534914e+00</td><td>1.113530e-01</td></tr>\n",
       "\t<tr><th scope=row>Use</th><td>1</td><td>3.130726e-02</td><td>8.595566e-01</td></tr>\n",
       "\t<tr><th scope=row>Fleet</th><td>1</td><td>7.499123e-05</td><td>9.930906e-01</td></tr>\n",
       "\t<tr><th scope=row>Sport</th><td>1</td><td>2.796158e-05</td><td>9.957809e-01</td></tr>\n",
       "\t<tr><th scope=row>Cover</th><td>2</td><td>1.319462e-01</td><td>9.361560e-01</td></tr>\n",
       "\t<tr><th scope=row>Split</th><td>3</td><td>1.620941e+00</td><td>6.546510e-01</td></tr>\n",
       "\t<tr><th scope=row>Fuel</th><td>1</td><td>1.150091e-01</td><td>7.345119e-01</td></tr>\n",
       "\t<tr><th scope=row>AgeCar</th><td>3</td><td>6.493608e-01</td><td>8.850451e-01</td></tr>\n",
       "\t<tr><th scope=row>Power</th><td>2</td><td>6.292225e+00</td><td>4.301905e-02</td></tr>\n",
       "</tbody>\n",
       "</table>\n"
      ],
      "text/latex": [
       "A anova: 10 × 3\n",
       "\\begin{tabular}{r|lll}\n",
       "  & Df & Chisq & Pr(>Chisq)\\\\\n",
       "  & <dbl> & <dbl> & <dbl>\\\\\n",
       "\\hline\n",
       "\t(Intercept) & 1 & 2.046868e+02 & 1.982071e-46\\\\\n",
       "\tSex & 1 & 2.534914e+00 & 1.113530e-01\\\\\n",
       "\tUse & 1 & 3.130726e-02 & 8.595566e-01\\\\\n",
       "\tFleet & 1 & 7.499123e-05 & 9.930906e-01\\\\\n",
       "\tSport & 1 & 2.796158e-05 & 9.957809e-01\\\\\n",
       "\tCover & 2 & 1.319462e-01 & 9.361560e-01\\\\\n",
       "\tSplit & 3 & 1.620941e+00 & 6.546510e-01\\\\\n",
       "\tFuel & 1 & 1.150091e-01 & 7.345119e-01\\\\\n",
       "\tAgeCar & 3 & 6.493608e-01 & 8.850451e-01\\\\\n",
       "\tPower & 2 & 6.292225e+00 & 4.301905e-02\\\\\n",
       "\\end{tabular}\n"
      ],
      "text/markdown": [
       "\n",
       "A anova: 10 × 3\n",
       "\n",
       "| <!--/--> | Df &lt;dbl&gt; | Chisq &lt;dbl&gt; | Pr(&gt;Chisq) &lt;dbl&gt; |\n",
       "|---|---|---|---|\n",
       "| (Intercept) | 1 | 2.046868e+02 | 1.982071e-46 |\n",
       "| Sex | 1 | 2.534914e+00 | 1.113530e-01 |\n",
       "| Use | 1 | 3.130726e-02 | 8.595566e-01 |\n",
       "| Fleet | 1 | 7.499123e-05 | 9.930906e-01 |\n",
       "| Sport | 1 | 2.796158e-05 | 9.957809e-01 |\n",
       "| Cover | 2 | 1.319462e-01 | 9.361560e-01 |\n",
       "| Split | 3 | 1.620941e+00 | 6.546510e-01 |\n",
       "| Fuel | 1 | 1.150091e-01 | 7.345119e-01 |\n",
       "| AgeCar | 3 | 6.493608e-01 | 8.850451e-01 |\n",
       "| Power | 2 | 6.292225e+00 | 4.301905e-02 |\n",
       "\n"
      ],
      "text/plain": [
       "            Df Chisq        Pr(>Chisq)  \n",
       "(Intercept) 1  2.046868e+02 1.982071e-46\n",
       "Sex         1  2.534914e+00 1.113530e-01\n",
       "Use         1  3.130726e-02 8.595566e-01\n",
       "Fleet       1  7.499123e-05 9.930906e-01\n",
       "Sport       1  2.796158e-05 9.957809e-01\n",
       "Cover       2  1.319462e-01 9.361560e-01\n",
       "Split       3  1.620941e+00 6.546510e-01\n",
       "Fuel        1  1.150091e-01 7.345119e-01\n",
       "AgeCar      3  6.493608e-01 8.850451e-01\n",
       "Power       2  6.292225e+00 4.301905e-02"
      ]
     },
     "metadata": {},
     "output_type": "display_data"
    }
   ],
   "source": [
    "GLM_AnalysisAtyp <- glm(Atypical ~ Sex+Use+Fleet+Sport+Cover+Split+Fuel+AgeCar+Power, \n",
    "                    family=binomial(link=\"cloglog\"), offset = log(RiskExp),\n",
    "                    data=DataAty_train) ;\n",
    "\n",
    "Anova(GLM_AnalysisAtyp, test.statistic=\"Wald\",type=3,singular.ok=TRUE)"
   ]
  },
  {
   "cell_type": "markdown",
   "id": "aefd337a-d8c9-4a80-a8b3-c06709cc9cae",
   "metadata": {},
   "source": [
    "Still following the process we applied both for frequency and severity analysis, we are removing not significant features one by one, starting with the one having the highest \n",
    "p-value above our threshold.\n",
    "So we decide to eliminate the variable 'Sport' (p-value equals to 99.5%)"
   ]
  },
  {
   "cell_type": "code",
   "execution_count": 61,
   "id": "fec4d515-9a01-4897-b227-844f1d1f11cb",
   "metadata": {},
   "outputs": [
    {
     "name": "stderr",
     "output_type": "stream",
     "text": [
      "Warning message:\n",
      "\"glm.fit: des probabilités ont été ajustées numériquement à 0 ou 1\"\n",
      "Warning message in printHypothesis(L, rhs, names(b)):\n",
      "\"one or more coefficients in the hypothesis include\n",
      "     arithmetic operators in their names;\n",
      "  the printed representation of the hypothesis will be omitted\"\n",
      "Warning message in printHypothesis(L, rhs, names(b)):\n",
      "\"one or more coefficients in the hypothesis include\n",
      "     arithmetic operators in their names;\n",
      "  the printed representation of the hypothesis will be omitted\"\n",
      "Warning message in printHypothesis(L, rhs, names(b)):\n",
      "\"one or more coefficients in the hypothesis include\n",
      "     arithmetic operators in their names;\n",
      "  the printed representation of the hypothesis will be omitted\"\n"
     ]
    },
    {
     "data": {
      "text/html": [
       "<table class=\"dataframe\">\n",
       "<caption>A anova: 9 × 3</caption>\n",
       "<thead>\n",
       "\t<tr><th></th><th scope=col>Df</th><th scope=col>Chisq</th><th scope=col>Pr(&gt;Chisq)</th></tr>\n",
       "\t<tr><th></th><th scope=col>&lt;dbl&gt;</th><th scope=col>&lt;dbl&gt;</th><th scope=col>&lt;dbl&gt;</th></tr>\n",
       "</thead>\n",
       "<tbody>\n",
       "\t<tr><th scope=row>(Intercept)</th><td>1</td><td>2.049716e+02</td><td>1.717824e-46</td></tr>\n",
       "\t<tr><th scope=row>Sex</th><td>1</td><td>2.519367e+00</td><td>1.124557e-01</td></tr>\n",
       "\t<tr><th scope=row>Use</th><td>1</td><td>3.912205e-02</td><td>8.432071e-01</td></tr>\n",
       "\t<tr><th scope=row>Fleet</th><td>1</td><td>1.769854e-04</td><td>9.893856e-01</td></tr>\n",
       "\t<tr><th scope=row>Cover</th><td>2</td><td>1.372909e-01</td><td>9.336576e-01</td></tr>\n",
       "\t<tr><th scope=row>Split</th><td>3</td><td>1.614756e+00</td><td>6.560486e-01</td></tr>\n",
       "\t<tr><th scope=row>Fuel</th><td>1</td><td>1.258161e-01</td><td>7.228101e-01</td></tr>\n",
       "\t<tr><th scope=row>AgeCar</th><td>3</td><td>6.467541e-01</td><td>8.856505e-01</td></tr>\n",
       "\t<tr><th scope=row>Power</th><td>2</td><td>5.073215e+00</td><td>7.913440e-02</td></tr>\n",
       "</tbody>\n",
       "</table>\n"
      ],
      "text/latex": [
       "A anova: 9 × 3\n",
       "\\begin{tabular}{r|lll}\n",
       "  & Df & Chisq & Pr(>Chisq)\\\\\n",
       "  & <dbl> & <dbl> & <dbl>\\\\\n",
       "\\hline\n",
       "\t(Intercept) & 1 & 2.049716e+02 & 1.717824e-46\\\\\n",
       "\tSex & 1 & 2.519367e+00 & 1.124557e-01\\\\\n",
       "\tUse & 1 & 3.912205e-02 & 8.432071e-01\\\\\n",
       "\tFleet & 1 & 1.769854e-04 & 9.893856e-01\\\\\n",
       "\tCover & 2 & 1.372909e-01 & 9.336576e-01\\\\\n",
       "\tSplit & 3 & 1.614756e+00 & 6.560486e-01\\\\\n",
       "\tFuel & 1 & 1.258161e-01 & 7.228101e-01\\\\\n",
       "\tAgeCar & 3 & 6.467541e-01 & 8.856505e-01\\\\\n",
       "\tPower & 2 & 5.073215e+00 & 7.913440e-02\\\\\n",
       "\\end{tabular}\n"
      ],
      "text/markdown": [
       "\n",
       "A anova: 9 × 3\n",
       "\n",
       "| <!--/--> | Df &lt;dbl&gt; | Chisq &lt;dbl&gt; | Pr(&gt;Chisq) &lt;dbl&gt; |\n",
       "|---|---|---|---|\n",
       "| (Intercept) | 1 | 2.049716e+02 | 1.717824e-46 |\n",
       "| Sex | 1 | 2.519367e+00 | 1.124557e-01 |\n",
       "| Use | 1 | 3.912205e-02 | 8.432071e-01 |\n",
       "| Fleet | 1 | 1.769854e-04 | 9.893856e-01 |\n",
       "| Cover | 2 | 1.372909e-01 | 9.336576e-01 |\n",
       "| Split | 3 | 1.614756e+00 | 6.560486e-01 |\n",
       "| Fuel | 1 | 1.258161e-01 | 7.228101e-01 |\n",
       "| AgeCar | 3 | 6.467541e-01 | 8.856505e-01 |\n",
       "| Power | 2 | 5.073215e+00 | 7.913440e-02 |\n",
       "\n"
      ],
      "text/plain": [
       "            Df Chisq        Pr(>Chisq)  \n",
       "(Intercept) 1  2.049716e+02 1.717824e-46\n",
       "Sex         1  2.519367e+00 1.124557e-01\n",
       "Use         1  3.912205e-02 8.432071e-01\n",
       "Fleet       1  1.769854e-04 9.893856e-01\n",
       "Cover       2  1.372909e-01 9.336576e-01\n",
       "Split       3  1.614756e+00 6.560486e-01\n",
       "Fuel        1  1.258161e-01 7.228101e-01\n",
       "AgeCar      3  6.467541e-01 8.856505e-01\n",
       "Power       2  5.073215e+00 7.913440e-02"
      ]
     },
     "metadata": {},
     "output_type": "display_data"
    }
   ],
   "source": [
    "GLM_AnalysisAtyp <- glm(Atypical ~ Sex+Use+Fleet+Cover+Split+Fuel+AgeCar+Power, \n",
    "                        family=binomial(link=\"cloglog\"), offset = log(RiskExp),\n",
    "                        data=DataAty_train) ;\n",
    "\n",
    "Anova(GLM_AnalysisAtyp, test.statistic=\"Wald\",type=3,singular.ok=TRUE)"
   ]
  },
  {
   "cell_type": "markdown",
   "id": "370b34a6-6ac8-4311-9b9b-b6d93b194289",
   "metadata": {},
   "source": [
    "Following this, we decide to eliminate the variable 'Fleet' (p-value equals to 98.9%)"
   ]
  },
  {
   "cell_type": "code",
   "execution_count": 62,
   "id": "d5dc1b02-03d0-4b01-a4ad-5573967a9a15",
   "metadata": {},
   "outputs": [
    {
     "name": "stderr",
     "output_type": "stream",
     "text": [
      "Warning message in printHypothesis(L, rhs, names(b)):\n",
      "\"one or more coefficients in the hypothesis include\n",
      "     arithmetic operators in their names;\n",
      "  the printed representation of the hypothesis will be omitted\"\n",
      "Warning message in printHypothesis(L, rhs, names(b)):\n",
      "\"one or more coefficients in the hypothesis include\n",
      "     arithmetic operators in their names;\n",
      "  the printed representation of the hypothesis will be omitted\"\n",
      "Warning message in printHypothesis(L, rhs, names(b)):\n",
      "\"one or more coefficients in the hypothesis include\n",
      "     arithmetic operators in their names;\n",
      "  the printed representation of the hypothesis will be omitted\"\n"
     ]
    },
    {
     "data": {
      "text/html": [
       "<table class=\"dataframe\">\n",
       "<caption>A anova: 8 × 3</caption>\n",
       "<thead>\n",
       "\t<tr><th></th><th scope=col>Df</th><th scope=col>Chisq</th><th scope=col>Pr(&gt;Chisq)</th></tr>\n",
       "\t<tr><th></th><th scope=col>&lt;dbl&gt;</th><th scope=col>&lt;dbl&gt;</th><th scope=col>&lt;dbl&gt;</th></tr>\n",
       "</thead>\n",
       "<tbody>\n",
       "\t<tr><th scope=row>(Intercept)</th><td>1</td><td>206.40823235</td><td>8.346785e-47</td></tr>\n",
       "\t<tr><th scope=row>Sex</th><td>1</td><td>  2.46716002</td><td>1.162478e-01</td></tr>\n",
       "\t<tr><th scope=row>Use</th><td>1</td><td>  0.01323927</td><td>9.083960e-01</td></tr>\n",
       "\t<tr><th scope=row>Cover</th><td>2</td><td>  0.08979500</td><td>9.560955e-01</td></tr>\n",
       "\t<tr><th scope=row>Split</th><td>3</td><td>  1.58887513</td><td>6.619149e-01</td></tr>\n",
       "\t<tr><th scope=row>Fuel</th><td>1</td><td>  0.13192628</td><td>7.164431e-01</td></tr>\n",
       "\t<tr><th scope=row>AgeCar</th><td>3</td><td>  0.63849266</td><td>8.875665e-01</td></tr>\n",
       "\t<tr><th scope=row>Power</th><td>2</td><td>  5.06170411</td><td>7.959118e-02</td></tr>\n",
       "</tbody>\n",
       "</table>\n"
      ],
      "text/latex": [
       "A anova: 8 × 3\n",
       "\\begin{tabular}{r|lll}\n",
       "  & Df & Chisq & Pr(>Chisq)\\\\\n",
       "  & <dbl> & <dbl> & <dbl>\\\\\n",
       "\\hline\n",
       "\t(Intercept) & 1 & 206.40823235 & 8.346785e-47\\\\\n",
       "\tSex & 1 &   2.46716002 & 1.162478e-01\\\\\n",
       "\tUse & 1 &   0.01323927 & 9.083960e-01\\\\\n",
       "\tCover & 2 &   0.08979500 & 9.560955e-01\\\\\n",
       "\tSplit & 3 &   1.58887513 & 6.619149e-01\\\\\n",
       "\tFuel & 1 &   0.13192628 & 7.164431e-01\\\\\n",
       "\tAgeCar & 3 &   0.63849266 & 8.875665e-01\\\\\n",
       "\tPower & 2 &   5.06170411 & 7.959118e-02\\\\\n",
       "\\end{tabular}\n"
      ],
      "text/markdown": [
       "\n",
       "A anova: 8 × 3\n",
       "\n",
       "| <!--/--> | Df &lt;dbl&gt; | Chisq &lt;dbl&gt; | Pr(&gt;Chisq) &lt;dbl&gt; |\n",
       "|---|---|---|---|\n",
       "| (Intercept) | 1 | 206.40823235 | 8.346785e-47 |\n",
       "| Sex | 1 |   2.46716002 | 1.162478e-01 |\n",
       "| Use | 1 |   0.01323927 | 9.083960e-01 |\n",
       "| Cover | 2 |   0.08979500 | 9.560955e-01 |\n",
       "| Split | 3 |   1.58887513 | 6.619149e-01 |\n",
       "| Fuel | 1 |   0.13192628 | 7.164431e-01 |\n",
       "| AgeCar | 3 |   0.63849266 | 8.875665e-01 |\n",
       "| Power | 2 |   5.06170411 | 7.959118e-02 |\n",
       "\n"
      ],
      "text/plain": [
       "            Df Chisq        Pr(>Chisq)  \n",
       "(Intercept) 1  206.40823235 8.346785e-47\n",
       "Sex         1    2.46716002 1.162478e-01\n",
       "Use         1    0.01323927 9.083960e-01\n",
       "Cover       2    0.08979500 9.560955e-01\n",
       "Split       3    1.58887513 6.619149e-01\n",
       "Fuel        1    0.13192628 7.164431e-01\n",
       "AgeCar      3    0.63849266 8.875665e-01\n",
       "Power       2    5.06170411 7.959118e-02"
      ]
     },
     "metadata": {},
     "output_type": "display_data"
    }
   ],
   "source": [
    "GLM_AnalysisAtyp <- glm(Atypical ~ Sex+Use+Cover+Split+Fuel+AgeCar+Power, \n",
    "                        family=binomial(link=\"cloglog\"), offset = log(RiskExp),\n",
    "                        data=DataAty_train) ;\n",
    "Anova(GLM_AnalysisAtyp, test.statistic=\"Wald\",type=3,singular.ok=TRUE)"
   ]
  },
  {
   "cell_type": "markdown",
   "id": "3e73e478-8a25-4a14-bb07-de04f7f1e121",
   "metadata": {},
   "source": [
    "Following this, we decide to eliminate the variable 'Cover' (p-value equals to 95%)"
   ]
  },
  {
   "cell_type": "code",
   "execution_count": 64,
   "id": "57568726-9880-4f1f-b330-85f3f33cdeff",
   "metadata": {},
   "outputs": [
    {
     "name": "stderr",
     "output_type": "stream",
     "text": [
      "Warning message in printHypothesis(L, rhs, names(b)):\n",
      "\"one or more coefficients in the hypothesis include\n",
      "     arithmetic operators in their names;\n",
      "  the printed representation of the hypothesis will be omitted\"\n",
      "Warning message in printHypothesis(L, rhs, names(b)):\n",
      "\"one or more coefficients in the hypothesis include\n",
      "     arithmetic operators in their names;\n",
      "  the printed representation of the hypothesis will be omitted\"\n"
     ]
    },
    {
     "data": {
      "text/html": [
       "<table class=\"dataframe\">\n",
       "<caption>A anova: 7 × 3</caption>\n",
       "<thead>\n",
       "\t<tr><th></th><th scope=col>Df</th><th scope=col>Chisq</th><th scope=col>Pr(&gt;Chisq)</th></tr>\n",
       "\t<tr><th></th><th scope=col>&lt;dbl&gt;</th><th scope=col>&lt;dbl&gt;</th><th scope=col>&lt;dbl&gt;</th></tr>\n",
       "</thead>\n",
       "<tbody>\n",
       "\t<tr><th scope=row>(Intercept)</th><td>1</td><td>229.71050487</td><td>6.894088e-52</td></tr>\n",
       "\t<tr><th scope=row>Sex</th><td>1</td><td>  2.47428630</td><td>1.157220e-01</td></tr>\n",
       "\t<tr><th scope=row>Use</th><td>1</td><td>  0.01945554</td><td>8.890684e-01</td></tr>\n",
       "\t<tr><th scope=row>Split</th><td>3</td><td>  1.58919532</td><td>6.618422e-01</td></tr>\n",
       "\t<tr><th scope=row>Fuel</th><td>1</td><td>  0.13722518</td><td>7.110553e-01</td></tr>\n",
       "\t<tr><th scope=row>AgeCar</th><td>3</td><td>  0.56012244</td><td>9.054976e-01</td></tr>\n",
       "\t<tr><th scope=row>Power</th><td>2</td><td>  5.18758643</td><td>7.473601e-02</td></tr>\n",
       "</tbody>\n",
       "</table>\n"
      ],
      "text/latex": [
       "A anova: 7 × 3\n",
       "\\begin{tabular}{r|lll}\n",
       "  & Df & Chisq & Pr(>Chisq)\\\\\n",
       "  & <dbl> & <dbl> & <dbl>\\\\\n",
       "\\hline\n",
       "\t(Intercept) & 1 & 229.71050487 & 6.894088e-52\\\\\n",
       "\tSex & 1 &   2.47428630 & 1.157220e-01\\\\\n",
       "\tUse & 1 &   0.01945554 & 8.890684e-01\\\\\n",
       "\tSplit & 3 &   1.58919532 & 6.618422e-01\\\\\n",
       "\tFuel & 1 &   0.13722518 & 7.110553e-01\\\\\n",
       "\tAgeCar & 3 &   0.56012244 & 9.054976e-01\\\\\n",
       "\tPower & 2 &   5.18758643 & 7.473601e-02\\\\\n",
       "\\end{tabular}\n"
      ],
      "text/markdown": [
       "\n",
       "A anova: 7 × 3\n",
       "\n",
       "| <!--/--> | Df &lt;dbl&gt; | Chisq &lt;dbl&gt; | Pr(&gt;Chisq) &lt;dbl&gt; |\n",
       "|---|---|---|---|\n",
       "| (Intercept) | 1 | 229.71050487 | 6.894088e-52 |\n",
       "| Sex | 1 |   2.47428630 | 1.157220e-01 |\n",
       "| Use | 1 |   0.01945554 | 8.890684e-01 |\n",
       "| Split | 3 |   1.58919532 | 6.618422e-01 |\n",
       "| Fuel | 1 |   0.13722518 | 7.110553e-01 |\n",
       "| AgeCar | 3 |   0.56012244 | 9.054976e-01 |\n",
       "| Power | 2 |   5.18758643 | 7.473601e-02 |\n",
       "\n"
      ],
      "text/plain": [
       "            Df Chisq        Pr(>Chisq)  \n",
       "(Intercept) 1  229.71050487 6.894088e-52\n",
       "Sex         1    2.47428630 1.157220e-01\n",
       "Use         1    0.01945554 8.890684e-01\n",
       "Split       3    1.58919532 6.618422e-01\n",
       "Fuel        1    0.13722518 7.110553e-01\n",
       "AgeCar      3    0.56012244 9.054976e-01\n",
       "Power       2    5.18758643 7.473601e-02"
      ]
     },
     "metadata": {},
     "output_type": "display_data"
    }
   ],
   "source": [
    "GLM_AnalysisAtyp <- glm(Atypical ~ Sex+Use+Split+Fuel+AgeCar+Power, \n",
    "                        family=binomial(link=\"cloglog\"), offset = log(RiskExp),\n",
    "                        data=DataAty_train); \n",
    "\n",
    "Anova(GLM_AnalysisAtyp, test.statistic=\"Wald\",type=3,singular.ok=TRUE)"
   ]
  },
  {
   "cell_type": "markdown",
   "id": "1c8f32fc-334b-4cad-9a83-6f8c259de531",
   "metadata": {},
   "source": [
    "Following this, we decide to eliminate the variable 'AgeCar' (p-value equals to 90%)"
   ]
  },
  {
   "cell_type": "code",
   "execution_count": 65,
   "id": "990827af-f21f-4d1a-9766-ec73443b8a25",
   "metadata": {},
   "outputs": [
    {
     "name": "stderr",
     "output_type": "stream",
     "text": [
      "Warning message in printHypothesis(L, rhs, names(b)):\n",
      "\"one or more coefficients in the hypothesis include\n",
      "     arithmetic operators in their names;\n",
      "  the printed representation of the hypothesis will be omitted\"\n"
     ]
    },
    {
     "data": {
      "text/html": [
       "<table class=\"dataframe\">\n",
       "<caption>A anova: 6 × 3</caption>\n",
       "<thead>\n",
       "\t<tr><th></th><th scope=col>Df</th><th scope=col>Chisq</th><th scope=col>Pr(&gt;Chisq)</th></tr>\n",
       "\t<tr><th></th><th scope=col>&lt;dbl&gt;</th><th scope=col>&lt;dbl&gt;</th><th scope=col>&lt;dbl&gt;</th></tr>\n",
       "</thead>\n",
       "<tbody>\n",
       "\t<tr><th scope=row>(Intercept)</th><td>1</td><td>299.74136576</td><td>3.750759e-67</td></tr>\n",
       "\t<tr><th scope=row>Sex</th><td>1</td><td>  2.48203065</td><td>1.151535e-01</td></tr>\n",
       "\t<tr><th scope=row>Use</th><td>1</td><td>  0.01087560</td><td>9.169423e-01</td></tr>\n",
       "\t<tr><th scope=row>Split</th><td>3</td><td>  1.60628520</td><td>6.579655e-01</td></tr>\n",
       "\t<tr><th scope=row>Fuel</th><td>1</td><td>  0.04223521</td><td>8.371721e-01</td></tr>\n",
       "\t<tr><th scope=row>Power</th><td>2</td><td>  4.76389432</td><td>9.237054e-02</td></tr>\n",
       "</tbody>\n",
       "</table>\n"
      ],
      "text/latex": [
       "A anova: 6 × 3\n",
       "\\begin{tabular}{r|lll}\n",
       "  & Df & Chisq & Pr(>Chisq)\\\\\n",
       "  & <dbl> & <dbl> & <dbl>\\\\\n",
       "\\hline\n",
       "\t(Intercept) & 1 & 299.74136576 & 3.750759e-67\\\\\n",
       "\tSex & 1 &   2.48203065 & 1.151535e-01\\\\\n",
       "\tUse & 1 &   0.01087560 & 9.169423e-01\\\\\n",
       "\tSplit & 3 &   1.60628520 & 6.579655e-01\\\\\n",
       "\tFuel & 1 &   0.04223521 & 8.371721e-01\\\\\n",
       "\tPower & 2 &   4.76389432 & 9.237054e-02\\\\\n",
       "\\end{tabular}\n"
      ],
      "text/markdown": [
       "\n",
       "A anova: 6 × 3\n",
       "\n",
       "| <!--/--> | Df &lt;dbl&gt; | Chisq &lt;dbl&gt; | Pr(&gt;Chisq) &lt;dbl&gt; |\n",
       "|---|---|---|---|\n",
       "| (Intercept) | 1 | 299.74136576 | 3.750759e-67 |\n",
       "| Sex | 1 |   2.48203065 | 1.151535e-01 |\n",
       "| Use | 1 |   0.01087560 | 9.169423e-01 |\n",
       "| Split | 3 |   1.60628520 | 6.579655e-01 |\n",
       "| Fuel | 1 |   0.04223521 | 8.371721e-01 |\n",
       "| Power | 2 |   4.76389432 | 9.237054e-02 |\n",
       "\n"
      ],
      "text/plain": [
       "            Df Chisq        Pr(>Chisq)  \n",
       "(Intercept) 1  299.74136576 3.750759e-67\n",
       "Sex         1    2.48203065 1.151535e-01\n",
       "Use         1    0.01087560 9.169423e-01\n",
       "Split       3    1.60628520 6.579655e-01\n",
       "Fuel        1    0.04223521 8.371721e-01\n",
       "Power       2    4.76389432 9.237054e-02"
      ]
     },
     "metadata": {},
     "output_type": "display_data"
    }
   ],
   "source": [
    "GLM_AnalysisAtyp <- glm(Atypical ~ Sex+Use+Split+Fuel+Power, \n",
    "                        family=binomial(link=\"cloglog\"), offset = log(RiskExp),\n",
    "                        data=DataAty_train)\n",
    "                      \n",
    "Anova(GLM_AnalysisAtyp, test.statistic=\"Wald\",type=3,singular.ok=TRUE)"
   ]
  },
  {
   "cell_type": "markdown",
   "id": "aba3cce5-84cc-49d7-8313-f5eb4b2d8754",
   "metadata": {},
   "source": [
    "Following this, we decide to eliminate the variable 'Use' (p-value equals to 91%)"
   ]
  },
  {
   "cell_type": "code",
   "execution_count": 66,
   "id": "eefd3f0f-b4df-450a-9d65-3587b0f95526",
   "metadata": {},
   "outputs": [
    {
     "name": "stderr",
     "output_type": "stream",
     "text": [
      "Warning message in printHypothesis(L, rhs, names(b)):\n",
      "\"one or more coefficients in the hypothesis include\n",
      "     arithmetic operators in their names;\n",
      "  the printed representation of the hypothesis will be omitted\"\n"
     ]
    },
    {
     "data": {
      "text/html": [
       "<table class=\"dataframe\">\n",
       "<caption>A anova: 5 × 3</caption>\n",
       "<thead>\n",
       "\t<tr><th></th><th scope=col>Df</th><th scope=col>Chisq</th><th scope=col>Pr(&gt;Chisq)</th></tr>\n",
       "\t<tr><th></th><th scope=col>&lt;dbl&gt;</th><th scope=col>&lt;dbl&gt;</th><th scope=col>&lt;dbl&gt;</th></tr>\n",
       "</thead>\n",
       "<tbody>\n",
       "\t<tr><th scope=row>(Intercept)</th><td>1</td><td>301.39493513</td><td>1.636305e-67</td></tr>\n",
       "\t<tr><th scope=row>Sex</th><td>1</td><td>  2.47591348</td><td>1.156023e-01</td></tr>\n",
       "\t<tr><th scope=row>Split</th><td>3</td><td>  1.61175465</td><td>6.567275e-01</td></tr>\n",
       "\t<tr><th scope=row>Fuel</th><td>1</td><td>  0.04585753</td><td>8.304350e-01</td></tr>\n",
       "\t<tr><th scope=row>Power</th><td>2</td><td>  4.94399831</td><td>8.441593e-02</td></tr>\n",
       "</tbody>\n",
       "</table>\n"
      ],
      "text/latex": [
       "A anova: 5 × 3\n",
       "\\begin{tabular}{r|lll}\n",
       "  & Df & Chisq & Pr(>Chisq)\\\\\n",
       "  & <dbl> & <dbl> & <dbl>\\\\\n",
       "\\hline\n",
       "\t(Intercept) & 1 & 301.39493513 & 1.636305e-67\\\\\n",
       "\tSex & 1 &   2.47591348 & 1.156023e-01\\\\\n",
       "\tSplit & 3 &   1.61175465 & 6.567275e-01\\\\\n",
       "\tFuel & 1 &   0.04585753 & 8.304350e-01\\\\\n",
       "\tPower & 2 &   4.94399831 & 8.441593e-02\\\\\n",
       "\\end{tabular}\n"
      ],
      "text/markdown": [
       "\n",
       "A anova: 5 × 3\n",
       "\n",
       "| <!--/--> | Df &lt;dbl&gt; | Chisq &lt;dbl&gt; | Pr(&gt;Chisq) &lt;dbl&gt; |\n",
       "|---|---|---|---|\n",
       "| (Intercept) | 1 | 301.39493513 | 1.636305e-67 |\n",
       "| Sex | 1 |   2.47591348 | 1.156023e-01 |\n",
       "| Split | 3 |   1.61175465 | 6.567275e-01 |\n",
       "| Fuel | 1 |   0.04585753 | 8.304350e-01 |\n",
       "| Power | 2 |   4.94399831 | 8.441593e-02 |\n",
       "\n"
      ],
      "text/plain": [
       "            Df Chisq        Pr(>Chisq)  \n",
       "(Intercept) 1  301.39493513 1.636305e-67\n",
       "Sex         1    2.47591348 1.156023e-01\n",
       "Split       3    1.61175465 6.567275e-01\n",
       "Fuel        1    0.04585753 8.304350e-01\n",
       "Power       2    4.94399831 8.441593e-02"
      ]
     },
     "metadata": {},
     "output_type": "display_data"
    }
   ],
   "source": [
    "GLM_AnalysisAtyp <- glm(Atypical ~ Sex+Split+Fuel+Power, \n",
    "                        family=binomial(link=\"cloglog\"), offset = log(RiskExp),\n",
    "                        data=DataAty_train)\n",
    "\n",
    "Anova(GLM_AnalysisAtyp, test.statistic=\"Wald\",type=3,singular.ok=TRUE)"
   ]
  },
  {
   "cell_type": "markdown",
   "id": "8bd79f89-bc0c-4844-88b1-04d79d766e6d",
   "metadata": {},
   "source": [
    "Following this, we decide to eliminate the variable 'Fuel' (p-value equals to 83%)."
   ]
  },
  {
   "cell_type": "code",
   "execution_count": 67,
   "id": "dcc2922d-e076-47ad-860b-5a876c11fe79",
   "metadata": {},
   "outputs": [
    {
     "name": "stderr",
     "output_type": "stream",
     "text": [
      "Warning message in printHypothesis(L, rhs, names(b)):\n",
      "\"one or more coefficients in the hypothesis include\n",
      "     arithmetic operators in their names;\n",
      "  the printed representation of the hypothesis will be omitted\"\n"
     ]
    },
    {
     "data": {
      "text/html": [
       "<table class=\"dataframe\">\n",
       "<caption>A anova: 4 × 3</caption>\n",
       "<thead>\n",
       "\t<tr><th></th><th scope=col>Df</th><th scope=col>Chisq</th><th scope=col>Pr(&gt;Chisq)</th></tr>\n",
       "\t<tr><th></th><th scope=col>&lt;dbl&gt;</th><th scope=col>&lt;dbl&gt;</th><th scope=col>&lt;dbl&gt;</th></tr>\n",
       "</thead>\n",
       "<tbody>\n",
       "\t<tr><th scope=row>(Intercept)</th><td>1</td><td>358.827800</td><td>5.067903e-80</td></tr>\n",
       "\t<tr><th scope=row>Sex</th><td>1</td><td>  2.430372</td><td>1.190047e-01</td></tr>\n",
       "\t<tr><th scope=row>Split</th><td>3</td><td>  1.615084</td><td>6.559746e-01</td></tr>\n",
       "\t<tr><th scope=row>Power</th><td>2</td><td>  4.946574</td><td>8.430730e-02</td></tr>\n",
       "</tbody>\n",
       "</table>\n"
      ],
      "text/latex": [
       "A anova: 4 × 3\n",
       "\\begin{tabular}{r|lll}\n",
       "  & Df & Chisq & Pr(>Chisq)\\\\\n",
       "  & <dbl> & <dbl> & <dbl>\\\\\n",
       "\\hline\n",
       "\t(Intercept) & 1 & 358.827800 & 5.067903e-80\\\\\n",
       "\tSex & 1 &   2.430372 & 1.190047e-01\\\\\n",
       "\tSplit & 3 &   1.615084 & 6.559746e-01\\\\\n",
       "\tPower & 2 &   4.946574 & 8.430730e-02\\\\\n",
       "\\end{tabular}\n"
      ],
      "text/markdown": [
       "\n",
       "A anova: 4 × 3\n",
       "\n",
       "| <!--/--> | Df &lt;dbl&gt; | Chisq &lt;dbl&gt; | Pr(&gt;Chisq) &lt;dbl&gt; |\n",
       "|---|---|---|---|\n",
       "| (Intercept) | 1 | 358.827800 | 5.067903e-80 |\n",
       "| Sex | 1 |   2.430372 | 1.190047e-01 |\n",
       "| Split | 3 |   1.615084 | 6.559746e-01 |\n",
       "| Power | 2 |   4.946574 | 8.430730e-02 |\n",
       "\n"
      ],
      "text/plain": [
       "            Df Chisq      Pr(>Chisq)  \n",
       "(Intercept) 1  358.827800 5.067903e-80\n",
       "Sex         1    2.430372 1.190047e-01\n",
       "Split       3    1.615084 6.559746e-01\n",
       "Power       2    4.946574 8.430730e-02"
      ]
     },
     "metadata": {},
     "output_type": "display_data"
    }
   ],
   "source": [
    "GLM_AnalysisAtyp <- glm(Atypical ~ Sex+Split+Power, \n",
    "                        family=binomial(link=\"cloglog\"), offset = log(RiskExp),\n",
    "                        data=DataAty_train)\n",
    "\n",
    "Anova(GLM_AnalysisAtyp, test.statistic=\"Wald\",type=3,singular.ok=TRUE)"
   ]
  },
  {
   "cell_type": "markdown",
   "id": "d5009ab6-3153-40e0-b8a9-aff8f7544d43",
   "metadata": {},
   "source": [
    "Following this, we decide to eliminate the variable 'Split' (p-value equals to 65%)"
   ]
  },
  {
   "cell_type": "code",
   "execution_count": 68,
   "id": "f2316875-41d8-4682-a25f-ad4dd6f1d856",
   "metadata": {},
   "outputs": [
    {
     "name": "stderr",
     "output_type": "stream",
     "text": [
      "Warning message in printHypothesis(L, rhs, names(b)):\n",
      "\"one or more coefficients in the hypothesis include\n",
      "     arithmetic operators in their names;\n",
      "  the printed representation of the hypothesis will be omitted\"\n"
     ]
    },
    {
     "data": {
      "text/html": [
       "<table class=\"dataframe\">\n",
       "<caption>A anova: 3 × 3</caption>\n",
       "<thead>\n",
       "\t<tr><th></th><th scope=col>Df</th><th scope=col>Chisq</th><th scope=col>Pr(&gt;Chisq)</th></tr>\n",
       "\t<tr><th></th><th scope=col>&lt;dbl&gt;</th><th scope=col>&lt;dbl&gt;</th><th scope=col>&lt;dbl&gt;</th></tr>\n",
       "</thead>\n",
       "<tbody>\n",
       "\t<tr><th scope=row>(Intercept)</th><td>1</td><td>464.187223</td><td>5.897772e-103</td></tr>\n",
       "\t<tr><th scope=row>Sex</th><td>1</td><td>  2.541253</td><td> 1.109067e-01</td></tr>\n",
       "\t<tr><th scope=row>Power</th><td>2</td><td>  5.270206</td><td> 7.171158e-02</td></tr>\n",
       "</tbody>\n",
       "</table>\n"
      ],
      "text/latex": [
       "A anova: 3 × 3\n",
       "\\begin{tabular}{r|lll}\n",
       "  & Df & Chisq & Pr(>Chisq)\\\\\n",
       "  & <dbl> & <dbl> & <dbl>\\\\\n",
       "\\hline\n",
       "\t(Intercept) & 1 & 464.187223 & 5.897772e-103\\\\\n",
       "\tSex & 1 &   2.541253 &  1.109067e-01\\\\\n",
       "\tPower & 2 &   5.270206 &  7.171158e-02\\\\\n",
       "\\end{tabular}\n"
      ],
      "text/markdown": [
       "\n",
       "A anova: 3 × 3\n",
       "\n",
       "| <!--/--> | Df &lt;dbl&gt; | Chisq &lt;dbl&gt; | Pr(&gt;Chisq) &lt;dbl&gt; |\n",
       "|---|---|---|---|\n",
       "| (Intercept) | 1 | 464.187223 | 5.897772e-103 |\n",
       "| Sex | 1 |   2.541253 |  1.109067e-01 |\n",
       "| Power | 2 |   5.270206 |  7.171158e-02 |\n",
       "\n"
      ],
      "text/plain": [
       "            Df Chisq      Pr(>Chisq)   \n",
       "(Intercept) 1  464.187223 5.897772e-103\n",
       "Sex         1    2.541253  1.109067e-01\n",
       "Power       2    5.270206  7.171158e-02"
      ]
     },
     "metadata": {},
     "output_type": "display_data"
    }
   ],
   "source": [
    "GLM_AnalysisAtyp <- glm(Atypical ~ Sex+Power, \n",
    "                        family=binomial(link=\"cloglog\"), offset = log(RiskExp),\n",
    "                        data=DataAty_train) ;\n",
    "\n",
    "Anova(GLM_AnalysisAtyp, test.statistic=\"Wald\",type=3,singular.ok=TRUE)"
   ]
  },
  {
   "cell_type": "markdown",
   "id": "02e50c05-0b14-49c4-b5e4-d2c99759a587",
   "metadata": {},
   "source": [
    "Following this, we decide to eliminate the variable 'Sex' (p-value equals to 11%)"
   ]
  },
  {
   "cell_type": "code",
   "execution_count": 69,
   "id": "ffff3710-557a-43bc-83d7-89a4cf3c761b",
   "metadata": {},
   "outputs": [
    {
     "name": "stderr",
     "output_type": "stream",
     "text": [
      "Warning message in printHypothesis(L, rhs, names(b)):\n",
      "\"one or more coefficients in the hypothesis include\n",
      "     arithmetic operators in their names;\n",
      "  the printed representation of the hypothesis will be omitted\"\n"
     ]
    },
    {
     "data": {
      "text/html": [
       "<table class=\"dataframe\">\n",
       "<caption>A anova: 2 × 3</caption>\n",
       "<thead>\n",
       "\t<tr><th></th><th scope=col>Df</th><th scope=col>Chisq</th><th scope=col>Pr(&gt;Chisq)</th></tr>\n",
       "\t<tr><th></th><th scope=col>&lt;dbl&gt;</th><th scope=col>&lt;dbl&gt;</th><th scope=col>&lt;dbl&gt;</th></tr>\n",
       "</thead>\n",
       "<tbody>\n",
       "\t<tr><th scope=row>(Intercept)</th><td>1</td><td>688.778097</td><td>8.241547e-152</td></tr>\n",
       "\t<tr><th scope=row>Power</th><td>2</td><td>  4.554047</td><td> 1.025891e-01</td></tr>\n",
       "</tbody>\n",
       "</table>\n"
      ],
      "text/latex": [
       "A anova: 2 × 3\n",
       "\\begin{tabular}{r|lll}\n",
       "  & Df & Chisq & Pr(>Chisq)\\\\\n",
       "  & <dbl> & <dbl> & <dbl>\\\\\n",
       "\\hline\n",
       "\t(Intercept) & 1 & 688.778097 & 8.241547e-152\\\\\n",
       "\tPower & 2 &   4.554047 &  1.025891e-01\\\\\n",
       "\\end{tabular}\n"
      ],
      "text/markdown": [
       "\n",
       "A anova: 2 × 3\n",
       "\n",
       "| <!--/--> | Df &lt;dbl&gt; | Chisq &lt;dbl&gt; | Pr(&gt;Chisq) &lt;dbl&gt; |\n",
       "|---|---|---|---|\n",
       "| (Intercept) | 1 | 688.778097 | 8.241547e-152 |\n",
       "| Power | 2 |   4.554047 |  1.025891e-01 |\n",
       "\n"
      ],
      "text/plain": [
       "            Df Chisq      Pr(>Chisq)   \n",
       "(Intercept) 1  688.778097 8.241547e-152\n",
       "Power       2    4.554047  1.025891e-01"
      ]
     },
     "metadata": {},
     "output_type": "display_data"
    }
   ],
   "source": [
    "GLM_AnalysisAtyp <- glm(Atypical ~ Power, \n",
    "                        family=binomial(link=\"cloglog\"), offset = log(RiskExp),\n",
    "                        data=DataAty_train) ;\n",
    "\n",
    "Anova(GLM_AnalysisAtyp, test.statistic=\"Wald\",type=3,singular.ok=TRUE)"
   ]
  },
  {
   "cell_type": "markdown",
   "id": "8086fe16-d6dd-438b-bdf1-369f91852fe9",
   "metadata": {},
   "source": [
    "The variable 'Power' is not significative (\n",
    "p\n",
    "-value equals to 10%) Thus there is no variable in our database to explain the probability of occurence of atypical claims.\n",
    "\n",
    "The probability of occurence can therefore be estimated as #policies with large claims / #number of policies (=0.01196523%)"
   ]
  },
  {
   "cell_type": "code",
   "execution_count": 70,
   "id": "0acdae04-416c-4a72-b47e-4ec2ce8f2865",
   "metadata": {},
   "outputs": [
    {
     "data": {
      "text/html": [
       "0.000119652283439698"
      ],
      "text/latex": [
       "0.000119652283439698"
      ],
      "text/markdown": [
       "0.000119652283439698"
      ],
      "text/plain": [
       "[1] 0.0001196523"
      ]
     },
     "metadata": {},
     "output_type": "display_data"
    }
   ],
   "source": [
    "Pr_Atypical=sum(DataAty_train[[\"Atypical\"]])/sum(DataAty_train$RiskExp)\n",
    "Pr_Atypical"
   ]
  },
  {
   "cell_type": "markdown",
   "id": "d69eb38a-dd12-45ec-bb14-6818ee6869ab",
   "metadata": {},
   "source": [
    "We can finally compute the average cost of atypical claims. As we have too few data, we are simply going to compute an average charge:"
   ]
  },
  {
   "cell_type": "code",
   "execution_count": 71,
   "id": "b1da9c04-1690-4d26-800b-5712d2baec83",
   "metadata": {},
   "outputs": [
    {
     "data": {
      "text/html": [
       "371002.183942143"
      ],
      "text/latex": [
       "371002.183942143"
      ],
      "text/markdown": [
       "371002.183942143"
      ],
      "text/plain": [
       "[1] 371002.2"
      ]
     },
     "metadata": {},
     "output_type": "display_data"
    }
   ],
   "source": [
    "sum(DataAty_train[[\"MeanCharge\"]]*DataAty_train[[\"Atypical\"]])/sum(DataAty_train[[\"Atypical\"]])"
   ]
  },
  {
   "cell_type": "markdown",
   "id": "171c4d38-20e8-4b55-89e9-336a5ad11d04",
   "metadata": {},
   "source": [
    "Now we have all the elements to be able to predict the frequency and the severity of an atypical claim in our portfolio."
   ]
  }
 ],
 "metadata": {
  "kernelspec": {
   "display_name": "R",
   "language": "R",
   "name": "ir"
  },
  "language_info": {
   "codemirror_mode": "r",
   "file_extension": ".r",
   "mimetype": "text/x-r-source",
   "name": "R",
   "pygments_lexer": "r",
   "version": "4.4.1"
  }
 },
 "nbformat": 4,
 "nbformat_minor": 5
}
